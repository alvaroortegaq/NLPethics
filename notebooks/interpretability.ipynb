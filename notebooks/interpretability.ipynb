{
  "nbformat": 4,
  "nbformat_minor": 0,
  "metadata": {
    "accelerator": "GPU",
    "colab": {
      "name": "interpretability.ipynb",
      "provenance": [],
      "collapsed_sections": [],
      "toc_visible": true
    },
    "kernelspec": {
      "display_name": "Python 3",
      "name": "python3"
    },
    "language_info": {
      "name": "python"
    },
    "widgets": {
      "application/vnd.jupyter.widget-state+json": {
        "ca3cfb55d6694520a00ade3ae48126b2": {
          "model_module": "@jupyter-widgets/controls",
          "model_name": "HBoxModel",
          "state": {
            "_view_name": "HBoxView",
            "_dom_classes": [],
            "_model_name": "HBoxModel",
            "_view_module": "@jupyter-widgets/controls",
            "_model_module_version": "1.5.0",
            "_view_count": null,
            "_view_module_version": "1.5.0",
            "box_style": "",
            "layout": "IPY_MODEL_0a69bb8546884ccda18f1b809715e6bd",
            "_model_module": "@jupyter-widgets/controls",
            "children": [
              "IPY_MODEL_e0b8c578adde475383f5d1c8d18e36f9",
              "IPY_MODEL_8d52c23d5aa84eb5998d86b6276f9b52"
            ]
          }
        },
        "0a69bb8546884ccda18f1b809715e6bd": {
          "model_module": "@jupyter-widgets/base",
          "model_name": "LayoutModel",
          "state": {
            "_view_name": "LayoutView",
            "grid_template_rows": null,
            "right": null,
            "justify_content": null,
            "_view_module": "@jupyter-widgets/base",
            "overflow": null,
            "_model_module_version": "1.2.0",
            "_view_count": null,
            "flex_flow": null,
            "width": null,
            "min_width": null,
            "border": null,
            "align_items": null,
            "bottom": null,
            "_model_module": "@jupyter-widgets/base",
            "top": null,
            "grid_column": null,
            "overflow_y": null,
            "overflow_x": null,
            "grid_auto_flow": null,
            "grid_area": null,
            "grid_template_columns": null,
            "flex": null,
            "_model_name": "LayoutModel",
            "justify_items": null,
            "grid_row": null,
            "max_height": null,
            "align_content": null,
            "visibility": null,
            "align_self": null,
            "height": null,
            "min_height": null,
            "padding": null,
            "grid_auto_rows": null,
            "grid_gap": null,
            "max_width": null,
            "order": null,
            "_view_module_version": "1.2.0",
            "grid_template_areas": null,
            "object_position": null,
            "object_fit": null,
            "grid_auto_columns": null,
            "margin": null,
            "display": null,
            "left": null
          }
        },
        "e0b8c578adde475383f5d1c8d18e36f9": {
          "model_module": "@jupyter-widgets/controls",
          "model_name": "FloatProgressModel",
          "state": {
            "_view_name": "ProgressView",
            "style": "IPY_MODEL_406cdfe54215444f82b2cd026ea732db",
            "_dom_classes": [],
            "description": "Downloading: 100%",
            "_model_name": "FloatProgressModel",
            "bar_style": "success",
            "max": 482,
            "_view_module": "@jupyter-widgets/controls",
            "_model_module_version": "1.5.0",
            "value": 482,
            "_view_count": null,
            "_view_module_version": "1.5.0",
            "orientation": "horizontal",
            "min": 0,
            "description_tooltip": null,
            "_model_module": "@jupyter-widgets/controls",
            "layout": "IPY_MODEL_fdb074a2c3a54463a1b8beae96e4f861"
          }
        },
        "8d52c23d5aa84eb5998d86b6276f9b52": {
          "model_module": "@jupyter-widgets/controls",
          "model_name": "HTMLModel",
          "state": {
            "_view_name": "HTMLView",
            "style": "IPY_MODEL_0f267f1c6ece4594a79f1f127caa0bce",
            "_dom_classes": [],
            "description": "",
            "_model_name": "HTMLModel",
            "placeholder": "​",
            "_view_module": "@jupyter-widgets/controls",
            "_model_module_version": "1.5.0",
            "value": " 482/482 [00:26&lt;00:00, 18.2B/s]",
            "_view_count": null,
            "_view_module_version": "1.5.0",
            "description_tooltip": null,
            "_model_module": "@jupyter-widgets/controls",
            "layout": "IPY_MODEL_6756416e67054b4285216e430a56ad79"
          }
        },
        "406cdfe54215444f82b2cd026ea732db": {
          "model_module": "@jupyter-widgets/controls",
          "model_name": "ProgressStyleModel",
          "state": {
            "_view_name": "StyleView",
            "_model_name": "ProgressStyleModel",
            "description_width": "initial",
            "_view_module": "@jupyter-widgets/base",
            "_model_module_version": "1.5.0",
            "_view_count": null,
            "_view_module_version": "1.2.0",
            "bar_color": null,
            "_model_module": "@jupyter-widgets/controls"
          }
        },
        "fdb074a2c3a54463a1b8beae96e4f861": {
          "model_module": "@jupyter-widgets/base",
          "model_name": "LayoutModel",
          "state": {
            "_view_name": "LayoutView",
            "grid_template_rows": null,
            "right": null,
            "justify_content": null,
            "_view_module": "@jupyter-widgets/base",
            "overflow": null,
            "_model_module_version": "1.2.0",
            "_view_count": null,
            "flex_flow": null,
            "width": null,
            "min_width": null,
            "border": null,
            "align_items": null,
            "bottom": null,
            "_model_module": "@jupyter-widgets/base",
            "top": null,
            "grid_column": null,
            "overflow_y": null,
            "overflow_x": null,
            "grid_auto_flow": null,
            "grid_area": null,
            "grid_template_columns": null,
            "flex": null,
            "_model_name": "LayoutModel",
            "justify_items": null,
            "grid_row": null,
            "max_height": null,
            "align_content": null,
            "visibility": null,
            "align_self": null,
            "height": null,
            "min_height": null,
            "padding": null,
            "grid_auto_rows": null,
            "grid_gap": null,
            "max_width": null,
            "order": null,
            "_view_module_version": "1.2.0",
            "grid_template_areas": null,
            "object_position": null,
            "object_fit": null,
            "grid_auto_columns": null,
            "margin": null,
            "display": null,
            "left": null
          }
        },
        "0f267f1c6ece4594a79f1f127caa0bce": {
          "model_module": "@jupyter-widgets/controls",
          "model_name": "DescriptionStyleModel",
          "state": {
            "_view_name": "StyleView",
            "_model_name": "DescriptionStyleModel",
            "description_width": "",
            "_view_module": "@jupyter-widgets/base",
            "_model_module_version": "1.5.0",
            "_view_count": null,
            "_view_module_version": "1.2.0",
            "_model_module": "@jupyter-widgets/controls"
          }
        },
        "6756416e67054b4285216e430a56ad79": {
          "model_module": "@jupyter-widgets/base",
          "model_name": "LayoutModel",
          "state": {
            "_view_name": "LayoutView",
            "grid_template_rows": null,
            "right": null,
            "justify_content": null,
            "_view_module": "@jupyter-widgets/base",
            "overflow": null,
            "_model_module_version": "1.2.0",
            "_view_count": null,
            "flex_flow": null,
            "width": null,
            "min_width": null,
            "border": null,
            "align_items": null,
            "bottom": null,
            "_model_module": "@jupyter-widgets/base",
            "top": null,
            "grid_column": null,
            "overflow_y": null,
            "overflow_x": null,
            "grid_auto_flow": null,
            "grid_area": null,
            "grid_template_columns": null,
            "flex": null,
            "_model_name": "LayoutModel",
            "justify_items": null,
            "grid_row": null,
            "max_height": null,
            "align_content": null,
            "visibility": null,
            "align_self": null,
            "height": null,
            "min_height": null,
            "padding": null,
            "grid_auto_rows": null,
            "grid_gap": null,
            "max_width": null,
            "order": null,
            "_view_module_version": "1.2.0",
            "grid_template_areas": null,
            "object_position": null,
            "object_fit": null,
            "grid_auto_columns": null,
            "margin": null,
            "display": null,
            "left": null
          }
        },
        "5b34ffd6d0ca405291e9872580d6fa72": {
          "model_module": "@jupyter-widgets/controls",
          "model_name": "HBoxModel",
          "state": {
            "_view_name": "HBoxView",
            "_dom_classes": [],
            "_model_name": "HBoxModel",
            "_view_module": "@jupyter-widgets/controls",
            "_model_module_version": "1.5.0",
            "_view_count": null,
            "_view_module_version": "1.5.0",
            "box_style": "",
            "layout": "IPY_MODEL_dd184e65777b4c6fb158d912c680050b",
            "_model_module": "@jupyter-widgets/controls",
            "children": [
              "IPY_MODEL_42cc13ea17f04435b9663e2f7f4b1098",
              "IPY_MODEL_72272ccf57ed45adaf2b7ad449efb47a"
            ]
          }
        },
        "dd184e65777b4c6fb158d912c680050b": {
          "model_module": "@jupyter-widgets/base",
          "model_name": "LayoutModel",
          "state": {
            "_view_name": "LayoutView",
            "grid_template_rows": null,
            "right": null,
            "justify_content": null,
            "_view_module": "@jupyter-widgets/base",
            "overflow": null,
            "_model_module_version": "1.2.0",
            "_view_count": null,
            "flex_flow": null,
            "width": null,
            "min_width": null,
            "border": null,
            "align_items": null,
            "bottom": null,
            "_model_module": "@jupyter-widgets/base",
            "top": null,
            "grid_column": null,
            "overflow_y": null,
            "overflow_x": null,
            "grid_auto_flow": null,
            "grid_area": null,
            "grid_template_columns": null,
            "flex": null,
            "_model_name": "LayoutModel",
            "justify_items": null,
            "grid_row": null,
            "max_height": null,
            "align_content": null,
            "visibility": null,
            "align_self": null,
            "height": null,
            "min_height": null,
            "padding": null,
            "grid_auto_rows": null,
            "grid_gap": null,
            "max_width": null,
            "order": null,
            "_view_module_version": "1.2.0",
            "grid_template_areas": null,
            "object_position": null,
            "object_fit": null,
            "grid_auto_columns": null,
            "margin": null,
            "display": null,
            "left": null
          }
        },
        "42cc13ea17f04435b9663e2f7f4b1098": {
          "model_module": "@jupyter-widgets/controls",
          "model_name": "FloatProgressModel",
          "state": {
            "_view_name": "ProgressView",
            "style": "IPY_MODEL_3810ae55f1fa4e20811290906af43111",
            "_dom_classes": [],
            "description": "Downloading: 100%",
            "_model_name": "FloatProgressModel",
            "bar_style": "success",
            "max": 1425941629,
            "_view_module": "@jupyter-widgets/controls",
            "_model_module_version": "1.5.0",
            "value": 1425941629,
            "_view_count": null,
            "_view_module_version": "1.5.0",
            "orientation": "horizontal",
            "min": 0,
            "description_tooltip": null,
            "_model_module": "@jupyter-widgets/controls",
            "layout": "IPY_MODEL_705b2bc88cbb4f9eb179a2fa237fa606"
          }
        },
        "72272ccf57ed45adaf2b7ad449efb47a": {
          "model_module": "@jupyter-widgets/controls",
          "model_name": "HTMLModel",
          "state": {
            "_view_name": "HTMLView",
            "style": "IPY_MODEL_05c82460fe6d450aaee811363e1c18e4",
            "_dom_classes": [],
            "description": "",
            "_model_name": "HTMLModel",
            "placeholder": "​",
            "_view_module": "@jupyter-widgets/controls",
            "_model_module_version": "1.5.0",
            "value": " 1.43G/1.43G [00:26&lt;00:00, 54.2MB/s]",
            "_view_count": null,
            "_view_module_version": "1.5.0",
            "description_tooltip": null,
            "_model_module": "@jupyter-widgets/controls",
            "layout": "IPY_MODEL_62fd11ea7d7f459082fd301cbed197b8"
          }
        },
        "3810ae55f1fa4e20811290906af43111": {
          "model_module": "@jupyter-widgets/controls",
          "model_name": "ProgressStyleModel",
          "state": {
            "_view_name": "StyleView",
            "_model_name": "ProgressStyleModel",
            "description_width": "initial",
            "_view_module": "@jupyter-widgets/base",
            "_model_module_version": "1.5.0",
            "_view_count": null,
            "_view_module_version": "1.2.0",
            "bar_color": null,
            "_model_module": "@jupyter-widgets/controls"
          }
        },
        "705b2bc88cbb4f9eb179a2fa237fa606": {
          "model_module": "@jupyter-widgets/base",
          "model_name": "LayoutModel",
          "state": {
            "_view_name": "LayoutView",
            "grid_template_rows": null,
            "right": null,
            "justify_content": null,
            "_view_module": "@jupyter-widgets/base",
            "overflow": null,
            "_model_module_version": "1.2.0",
            "_view_count": null,
            "flex_flow": null,
            "width": null,
            "min_width": null,
            "border": null,
            "align_items": null,
            "bottom": null,
            "_model_module": "@jupyter-widgets/base",
            "top": null,
            "grid_column": null,
            "overflow_y": null,
            "overflow_x": null,
            "grid_auto_flow": null,
            "grid_area": null,
            "grid_template_columns": null,
            "flex": null,
            "_model_name": "LayoutModel",
            "justify_items": null,
            "grid_row": null,
            "max_height": null,
            "align_content": null,
            "visibility": null,
            "align_self": null,
            "height": null,
            "min_height": null,
            "padding": null,
            "grid_auto_rows": null,
            "grid_gap": null,
            "max_width": null,
            "order": null,
            "_view_module_version": "1.2.0",
            "grid_template_areas": null,
            "object_position": null,
            "object_fit": null,
            "grid_auto_columns": null,
            "margin": null,
            "display": null,
            "left": null
          }
        },
        "05c82460fe6d450aaee811363e1c18e4": {
          "model_module": "@jupyter-widgets/controls",
          "model_name": "DescriptionStyleModel",
          "state": {
            "_view_name": "StyleView",
            "_model_name": "DescriptionStyleModel",
            "description_width": "",
            "_view_module": "@jupyter-widgets/base",
            "_model_module_version": "1.5.0",
            "_view_count": null,
            "_view_module_version": "1.2.0",
            "_model_module": "@jupyter-widgets/controls"
          }
        },
        "62fd11ea7d7f459082fd301cbed197b8": {
          "model_module": "@jupyter-widgets/base",
          "model_name": "LayoutModel",
          "state": {
            "_view_name": "LayoutView",
            "grid_template_rows": null,
            "right": null,
            "justify_content": null,
            "_view_module": "@jupyter-widgets/base",
            "overflow": null,
            "_model_module_version": "1.2.0",
            "_view_count": null,
            "flex_flow": null,
            "width": null,
            "min_width": null,
            "border": null,
            "align_items": null,
            "bottom": null,
            "_model_module": "@jupyter-widgets/base",
            "top": null,
            "grid_column": null,
            "overflow_y": null,
            "overflow_x": null,
            "grid_auto_flow": null,
            "grid_area": null,
            "grid_template_columns": null,
            "flex": null,
            "_model_name": "LayoutModel",
            "justify_items": null,
            "grid_row": null,
            "max_height": null,
            "align_content": null,
            "visibility": null,
            "align_self": null,
            "height": null,
            "min_height": null,
            "padding": null,
            "grid_auto_rows": null,
            "grid_gap": null,
            "max_width": null,
            "order": null,
            "_view_module_version": "1.2.0",
            "grid_template_areas": null,
            "object_position": null,
            "object_fit": null,
            "grid_auto_columns": null,
            "margin": null,
            "display": null,
            "left": null
          }
        },
        "7e1c048ba76542d5976c3d288514813d": {
          "model_module": "@jupyter-widgets/controls",
          "model_name": "HBoxModel",
          "state": {
            "_view_name": "HBoxView",
            "_dom_classes": [],
            "_model_name": "HBoxModel",
            "_view_module": "@jupyter-widgets/controls",
            "_model_module_version": "1.5.0",
            "_view_count": null,
            "_view_module_version": "1.5.0",
            "box_style": "",
            "layout": "IPY_MODEL_1b906d608dfd42a89fd968d06bfc70bb",
            "_model_module": "@jupyter-widgets/controls",
            "children": [
              "IPY_MODEL_d35bee0ce9b149068168a38bd275bc80",
              "IPY_MODEL_055c24472c824eeeb314dc8317e17701"
            ]
          }
        },
        "1b906d608dfd42a89fd968d06bfc70bb": {
          "model_module": "@jupyter-widgets/base",
          "model_name": "LayoutModel",
          "state": {
            "_view_name": "LayoutView",
            "grid_template_rows": null,
            "right": null,
            "justify_content": null,
            "_view_module": "@jupyter-widgets/base",
            "overflow": null,
            "_model_module_version": "1.2.0",
            "_view_count": null,
            "flex_flow": null,
            "width": null,
            "min_width": null,
            "border": null,
            "align_items": null,
            "bottom": null,
            "_model_module": "@jupyter-widgets/base",
            "top": null,
            "grid_column": null,
            "overflow_y": null,
            "overflow_x": null,
            "grid_auto_flow": null,
            "grid_area": null,
            "grid_template_columns": null,
            "flex": null,
            "_model_name": "LayoutModel",
            "justify_items": null,
            "grid_row": null,
            "max_height": null,
            "align_content": null,
            "visibility": null,
            "align_self": null,
            "height": null,
            "min_height": null,
            "padding": null,
            "grid_auto_rows": null,
            "grid_gap": null,
            "max_width": null,
            "order": null,
            "_view_module_version": "1.2.0",
            "grid_template_areas": null,
            "object_position": null,
            "object_fit": null,
            "grid_auto_columns": null,
            "margin": null,
            "display": null,
            "left": null
          }
        },
        "d35bee0ce9b149068168a38bd275bc80": {
          "model_module": "@jupyter-widgets/controls",
          "model_name": "FloatProgressModel",
          "state": {
            "_view_name": "ProgressView",
            "style": "IPY_MODEL_7f4cc3304ab1428fbde824f526519384",
            "_dom_classes": [],
            "description": "Downloading: 100%",
            "_model_name": "FloatProgressModel",
            "bar_style": "success",
            "max": 898823,
            "_view_module": "@jupyter-widgets/controls",
            "_model_module_version": "1.5.0",
            "value": 898823,
            "_view_count": null,
            "_view_module_version": "1.5.0",
            "orientation": "horizontal",
            "min": 0,
            "description_tooltip": null,
            "_model_module": "@jupyter-widgets/controls",
            "layout": "IPY_MODEL_ea2083e4e3a846aeafadc7abeb8e39e6"
          }
        },
        "055c24472c824eeeb314dc8317e17701": {
          "model_module": "@jupyter-widgets/controls",
          "model_name": "HTMLModel",
          "state": {
            "_view_name": "HTMLView",
            "style": "IPY_MODEL_6ae7dd3ffda2420d9760589ed3399aeb",
            "_dom_classes": [],
            "description": "",
            "_model_name": "HTMLModel",
            "placeholder": "​",
            "_view_module": "@jupyter-widgets/controls",
            "_model_module_version": "1.5.0",
            "value": " 899k/899k [00:00&lt;00:00, 4.43MB/s]",
            "_view_count": null,
            "_view_module_version": "1.5.0",
            "description_tooltip": null,
            "_model_module": "@jupyter-widgets/controls",
            "layout": "IPY_MODEL_b4cbc95bcaf74c9e9707ff3fe6bd52f5"
          }
        },
        "7f4cc3304ab1428fbde824f526519384": {
          "model_module": "@jupyter-widgets/controls",
          "model_name": "ProgressStyleModel",
          "state": {
            "_view_name": "StyleView",
            "_model_name": "ProgressStyleModel",
            "description_width": "initial",
            "_view_module": "@jupyter-widgets/base",
            "_model_module_version": "1.5.0",
            "_view_count": null,
            "_view_module_version": "1.2.0",
            "bar_color": null,
            "_model_module": "@jupyter-widgets/controls"
          }
        },
        "ea2083e4e3a846aeafadc7abeb8e39e6": {
          "model_module": "@jupyter-widgets/base",
          "model_name": "LayoutModel",
          "state": {
            "_view_name": "LayoutView",
            "grid_template_rows": null,
            "right": null,
            "justify_content": null,
            "_view_module": "@jupyter-widgets/base",
            "overflow": null,
            "_model_module_version": "1.2.0",
            "_view_count": null,
            "flex_flow": null,
            "width": null,
            "min_width": null,
            "border": null,
            "align_items": null,
            "bottom": null,
            "_model_module": "@jupyter-widgets/base",
            "top": null,
            "grid_column": null,
            "overflow_y": null,
            "overflow_x": null,
            "grid_auto_flow": null,
            "grid_area": null,
            "grid_template_columns": null,
            "flex": null,
            "_model_name": "LayoutModel",
            "justify_items": null,
            "grid_row": null,
            "max_height": null,
            "align_content": null,
            "visibility": null,
            "align_self": null,
            "height": null,
            "min_height": null,
            "padding": null,
            "grid_auto_rows": null,
            "grid_gap": null,
            "max_width": null,
            "order": null,
            "_view_module_version": "1.2.0",
            "grid_template_areas": null,
            "object_position": null,
            "object_fit": null,
            "grid_auto_columns": null,
            "margin": null,
            "display": null,
            "left": null
          }
        },
        "6ae7dd3ffda2420d9760589ed3399aeb": {
          "model_module": "@jupyter-widgets/controls",
          "model_name": "DescriptionStyleModel",
          "state": {
            "_view_name": "StyleView",
            "_model_name": "DescriptionStyleModel",
            "description_width": "",
            "_view_module": "@jupyter-widgets/base",
            "_model_module_version": "1.5.0",
            "_view_count": null,
            "_view_module_version": "1.2.0",
            "_model_module": "@jupyter-widgets/controls"
          }
        },
        "b4cbc95bcaf74c9e9707ff3fe6bd52f5": {
          "model_module": "@jupyter-widgets/base",
          "model_name": "LayoutModel",
          "state": {
            "_view_name": "LayoutView",
            "grid_template_rows": null,
            "right": null,
            "justify_content": null,
            "_view_module": "@jupyter-widgets/base",
            "overflow": null,
            "_model_module_version": "1.2.0",
            "_view_count": null,
            "flex_flow": null,
            "width": null,
            "min_width": null,
            "border": null,
            "align_items": null,
            "bottom": null,
            "_model_module": "@jupyter-widgets/base",
            "top": null,
            "grid_column": null,
            "overflow_y": null,
            "overflow_x": null,
            "grid_auto_flow": null,
            "grid_area": null,
            "grid_template_columns": null,
            "flex": null,
            "_model_name": "LayoutModel",
            "justify_items": null,
            "grid_row": null,
            "max_height": null,
            "align_content": null,
            "visibility": null,
            "align_self": null,
            "height": null,
            "min_height": null,
            "padding": null,
            "grid_auto_rows": null,
            "grid_gap": null,
            "max_width": null,
            "order": null,
            "_view_module_version": "1.2.0",
            "grid_template_areas": null,
            "object_position": null,
            "object_fit": null,
            "grid_auto_columns": null,
            "margin": null,
            "display": null,
            "left": null
          }
        },
        "11742349eb964a3b9de135e71e285b9d": {
          "model_module": "@jupyter-widgets/controls",
          "model_name": "HBoxModel",
          "state": {
            "_view_name": "HBoxView",
            "_dom_classes": [],
            "_model_name": "HBoxModel",
            "_view_module": "@jupyter-widgets/controls",
            "_model_module_version": "1.5.0",
            "_view_count": null,
            "_view_module_version": "1.5.0",
            "box_style": "",
            "layout": "IPY_MODEL_ba1c7746b390416fa6c36f3e13f1d22d",
            "_model_module": "@jupyter-widgets/controls",
            "children": [
              "IPY_MODEL_da7aa330ecc74896aabd370efa0ded69",
              "IPY_MODEL_55ec49b5cac645aa8c7f0f14c6ef5c07"
            ]
          }
        },
        "ba1c7746b390416fa6c36f3e13f1d22d": {
          "model_module": "@jupyter-widgets/base",
          "model_name": "LayoutModel",
          "state": {
            "_view_name": "LayoutView",
            "grid_template_rows": null,
            "right": null,
            "justify_content": null,
            "_view_module": "@jupyter-widgets/base",
            "overflow": null,
            "_model_module_version": "1.2.0",
            "_view_count": null,
            "flex_flow": null,
            "width": null,
            "min_width": null,
            "border": null,
            "align_items": null,
            "bottom": null,
            "_model_module": "@jupyter-widgets/base",
            "top": null,
            "grid_column": null,
            "overflow_y": null,
            "overflow_x": null,
            "grid_auto_flow": null,
            "grid_area": null,
            "grid_template_columns": null,
            "flex": null,
            "_model_name": "LayoutModel",
            "justify_items": null,
            "grid_row": null,
            "max_height": null,
            "align_content": null,
            "visibility": null,
            "align_self": null,
            "height": null,
            "min_height": null,
            "padding": null,
            "grid_auto_rows": null,
            "grid_gap": null,
            "max_width": null,
            "order": null,
            "_view_module_version": "1.2.0",
            "grid_template_areas": null,
            "object_position": null,
            "object_fit": null,
            "grid_auto_columns": null,
            "margin": null,
            "display": null,
            "left": null
          }
        },
        "da7aa330ecc74896aabd370efa0ded69": {
          "model_module": "@jupyter-widgets/controls",
          "model_name": "FloatProgressModel",
          "state": {
            "_view_name": "ProgressView",
            "style": "IPY_MODEL_d6473c66f3dd485cbce0ade37354dcdf",
            "_dom_classes": [],
            "description": "Downloading: 100%",
            "_model_name": "FloatProgressModel",
            "bar_style": "success",
            "max": 456318,
            "_view_module": "@jupyter-widgets/controls",
            "_model_module_version": "1.5.0",
            "value": 456318,
            "_view_count": null,
            "_view_module_version": "1.5.0",
            "orientation": "horizontal",
            "min": 0,
            "description_tooltip": null,
            "_model_module": "@jupyter-widgets/controls",
            "layout": "IPY_MODEL_07da0967c5a64fc9ae23ed87f559d8d8"
          }
        },
        "55ec49b5cac645aa8c7f0f14c6ef5c07": {
          "model_module": "@jupyter-widgets/controls",
          "model_name": "HTMLModel",
          "state": {
            "_view_name": "HTMLView",
            "style": "IPY_MODEL_8edc9ff2be8b48e084479cb64bb3b2a1",
            "_dom_classes": [],
            "description": "",
            "_model_name": "HTMLModel",
            "placeholder": "​",
            "_view_module": "@jupyter-widgets/controls",
            "_model_module_version": "1.5.0",
            "value": " 456k/456k [00:00&lt;00:00, 4.97MB/s]",
            "_view_count": null,
            "_view_module_version": "1.5.0",
            "description_tooltip": null,
            "_model_module": "@jupyter-widgets/controls",
            "layout": "IPY_MODEL_205cf44e2d21486190b0fad12b556b8d"
          }
        },
        "d6473c66f3dd485cbce0ade37354dcdf": {
          "model_module": "@jupyter-widgets/controls",
          "model_name": "ProgressStyleModel",
          "state": {
            "_view_name": "StyleView",
            "_model_name": "ProgressStyleModel",
            "description_width": "initial",
            "_view_module": "@jupyter-widgets/base",
            "_model_module_version": "1.5.0",
            "_view_count": null,
            "_view_module_version": "1.2.0",
            "bar_color": null,
            "_model_module": "@jupyter-widgets/controls"
          }
        },
        "07da0967c5a64fc9ae23ed87f559d8d8": {
          "model_module": "@jupyter-widgets/base",
          "model_name": "LayoutModel",
          "state": {
            "_view_name": "LayoutView",
            "grid_template_rows": null,
            "right": null,
            "justify_content": null,
            "_view_module": "@jupyter-widgets/base",
            "overflow": null,
            "_model_module_version": "1.2.0",
            "_view_count": null,
            "flex_flow": null,
            "width": null,
            "min_width": null,
            "border": null,
            "align_items": null,
            "bottom": null,
            "_model_module": "@jupyter-widgets/base",
            "top": null,
            "grid_column": null,
            "overflow_y": null,
            "overflow_x": null,
            "grid_auto_flow": null,
            "grid_area": null,
            "grid_template_columns": null,
            "flex": null,
            "_model_name": "LayoutModel",
            "justify_items": null,
            "grid_row": null,
            "max_height": null,
            "align_content": null,
            "visibility": null,
            "align_self": null,
            "height": null,
            "min_height": null,
            "padding": null,
            "grid_auto_rows": null,
            "grid_gap": null,
            "max_width": null,
            "order": null,
            "_view_module_version": "1.2.0",
            "grid_template_areas": null,
            "object_position": null,
            "object_fit": null,
            "grid_auto_columns": null,
            "margin": null,
            "display": null,
            "left": null
          }
        },
        "8edc9ff2be8b48e084479cb64bb3b2a1": {
          "model_module": "@jupyter-widgets/controls",
          "model_name": "DescriptionStyleModel",
          "state": {
            "_view_name": "StyleView",
            "_model_name": "DescriptionStyleModel",
            "description_width": "",
            "_view_module": "@jupyter-widgets/base",
            "_model_module_version": "1.5.0",
            "_view_count": null,
            "_view_module_version": "1.2.0",
            "_model_module": "@jupyter-widgets/controls"
          }
        },
        "205cf44e2d21486190b0fad12b556b8d": {
          "model_module": "@jupyter-widgets/base",
          "model_name": "LayoutModel",
          "state": {
            "_view_name": "LayoutView",
            "grid_template_rows": null,
            "right": null,
            "justify_content": null,
            "_view_module": "@jupyter-widgets/base",
            "overflow": null,
            "_model_module_version": "1.2.0",
            "_view_count": null,
            "flex_flow": null,
            "width": null,
            "min_width": null,
            "border": null,
            "align_items": null,
            "bottom": null,
            "_model_module": "@jupyter-widgets/base",
            "top": null,
            "grid_column": null,
            "overflow_y": null,
            "overflow_x": null,
            "grid_auto_flow": null,
            "grid_area": null,
            "grid_template_columns": null,
            "flex": null,
            "_model_name": "LayoutModel",
            "justify_items": null,
            "grid_row": null,
            "max_height": null,
            "align_content": null,
            "visibility": null,
            "align_self": null,
            "height": null,
            "min_height": null,
            "padding": null,
            "grid_auto_rows": null,
            "grid_gap": null,
            "max_width": null,
            "order": null,
            "_view_module_version": "1.2.0",
            "grid_template_areas": null,
            "object_position": null,
            "object_fit": null,
            "grid_auto_columns": null,
            "margin": null,
            "display": null,
            "left": null
          }
        },
        "e0206b6873124681b908544abc154a8b": {
          "model_module": "@jupyter-widgets/controls",
          "model_name": "HBoxModel",
          "state": {
            "_view_name": "HBoxView",
            "_dom_classes": [],
            "_model_name": "HBoxModel",
            "_view_module": "@jupyter-widgets/controls",
            "_model_module_version": "1.5.0",
            "_view_count": null,
            "_view_module_version": "1.5.0",
            "box_style": "",
            "layout": "IPY_MODEL_5e1d0b1cc91c42ba9040b802aefb671b",
            "_model_module": "@jupyter-widgets/controls",
            "children": [
              "IPY_MODEL_4cb657d14aeb4c6ba946782a716473d7",
              "IPY_MODEL_43b8324b4b264d42953a33ae1cbaef81"
            ]
          }
        },
        "5e1d0b1cc91c42ba9040b802aefb671b": {
          "model_module": "@jupyter-widgets/base",
          "model_name": "LayoutModel",
          "state": {
            "_view_name": "LayoutView",
            "grid_template_rows": null,
            "right": null,
            "justify_content": null,
            "_view_module": "@jupyter-widgets/base",
            "overflow": null,
            "_model_module_version": "1.2.0",
            "_view_count": null,
            "flex_flow": null,
            "width": null,
            "min_width": null,
            "border": null,
            "align_items": null,
            "bottom": null,
            "_model_module": "@jupyter-widgets/base",
            "top": null,
            "grid_column": null,
            "overflow_y": null,
            "overflow_x": null,
            "grid_auto_flow": null,
            "grid_area": null,
            "grid_template_columns": null,
            "flex": null,
            "_model_name": "LayoutModel",
            "justify_items": null,
            "grid_row": null,
            "max_height": null,
            "align_content": null,
            "visibility": null,
            "align_self": null,
            "height": null,
            "min_height": null,
            "padding": null,
            "grid_auto_rows": null,
            "grid_gap": null,
            "max_width": null,
            "order": null,
            "_view_module_version": "1.2.0",
            "grid_template_areas": null,
            "object_position": null,
            "object_fit": null,
            "grid_auto_columns": null,
            "margin": null,
            "display": null,
            "left": null
          }
        },
        "4cb657d14aeb4c6ba946782a716473d7": {
          "model_module": "@jupyter-widgets/controls",
          "model_name": "FloatProgressModel",
          "state": {
            "_view_name": "ProgressView",
            "style": "IPY_MODEL_ed04583ec84b410bb3c22756123ec58b",
            "_dom_classes": [],
            "description": "Downloading: 100%",
            "_model_name": "FloatProgressModel",
            "bar_style": "success",
            "max": 1355863,
            "_view_module": "@jupyter-widgets/controls",
            "_model_module_version": "1.5.0",
            "value": 1355863,
            "_view_count": null,
            "_view_module_version": "1.5.0",
            "orientation": "horizontal",
            "min": 0,
            "description_tooltip": null,
            "_model_module": "@jupyter-widgets/controls",
            "layout": "IPY_MODEL_c5c848a67b244491901f4fbcba70c55d"
          }
        },
        "43b8324b4b264d42953a33ae1cbaef81": {
          "model_module": "@jupyter-widgets/controls",
          "model_name": "HTMLModel",
          "state": {
            "_view_name": "HTMLView",
            "style": "IPY_MODEL_9e913cff0dc142c9a1c03baa139e56f5",
            "_dom_classes": [],
            "description": "",
            "_model_name": "HTMLModel",
            "placeholder": "​",
            "_view_module": "@jupyter-widgets/controls",
            "_model_module_version": "1.5.0",
            "value": " 1.36M/1.36M [00:08&lt;00:00, 155kB/s]",
            "_view_count": null,
            "_view_module_version": "1.5.0",
            "description_tooltip": null,
            "_model_module": "@jupyter-widgets/controls",
            "layout": "IPY_MODEL_9f5173c0348247a58cd7b60f6140ccdb"
          }
        },
        "ed04583ec84b410bb3c22756123ec58b": {
          "model_module": "@jupyter-widgets/controls",
          "model_name": "ProgressStyleModel",
          "state": {
            "_view_name": "StyleView",
            "_model_name": "ProgressStyleModel",
            "description_width": "initial",
            "_view_module": "@jupyter-widgets/base",
            "_model_module_version": "1.5.0",
            "_view_count": null,
            "_view_module_version": "1.2.0",
            "bar_color": null,
            "_model_module": "@jupyter-widgets/controls"
          }
        },
        "c5c848a67b244491901f4fbcba70c55d": {
          "model_module": "@jupyter-widgets/base",
          "model_name": "LayoutModel",
          "state": {
            "_view_name": "LayoutView",
            "grid_template_rows": null,
            "right": null,
            "justify_content": null,
            "_view_module": "@jupyter-widgets/base",
            "overflow": null,
            "_model_module_version": "1.2.0",
            "_view_count": null,
            "flex_flow": null,
            "width": null,
            "min_width": null,
            "border": null,
            "align_items": null,
            "bottom": null,
            "_model_module": "@jupyter-widgets/base",
            "top": null,
            "grid_column": null,
            "overflow_y": null,
            "overflow_x": null,
            "grid_auto_flow": null,
            "grid_area": null,
            "grid_template_columns": null,
            "flex": null,
            "_model_name": "LayoutModel",
            "justify_items": null,
            "grid_row": null,
            "max_height": null,
            "align_content": null,
            "visibility": null,
            "align_self": null,
            "height": null,
            "min_height": null,
            "padding": null,
            "grid_auto_rows": null,
            "grid_gap": null,
            "max_width": null,
            "order": null,
            "_view_module_version": "1.2.0",
            "grid_template_areas": null,
            "object_position": null,
            "object_fit": null,
            "grid_auto_columns": null,
            "margin": null,
            "display": null,
            "left": null
          }
        },
        "9e913cff0dc142c9a1c03baa139e56f5": {
          "model_module": "@jupyter-widgets/controls",
          "model_name": "DescriptionStyleModel",
          "state": {
            "_view_name": "StyleView",
            "_model_name": "DescriptionStyleModel",
            "description_width": "",
            "_view_module": "@jupyter-widgets/base",
            "_model_module_version": "1.5.0",
            "_view_count": null,
            "_view_module_version": "1.2.0",
            "_model_module": "@jupyter-widgets/controls"
          }
        },
        "9f5173c0348247a58cd7b60f6140ccdb": {
          "model_module": "@jupyter-widgets/base",
          "model_name": "LayoutModel",
          "state": {
            "_view_name": "LayoutView",
            "grid_template_rows": null,
            "right": null,
            "justify_content": null,
            "_view_module": "@jupyter-widgets/base",
            "overflow": null,
            "_model_module_version": "1.2.0",
            "_view_count": null,
            "flex_flow": null,
            "width": null,
            "min_width": null,
            "border": null,
            "align_items": null,
            "bottom": null,
            "_model_module": "@jupyter-widgets/base",
            "top": null,
            "grid_column": null,
            "overflow_y": null,
            "overflow_x": null,
            "grid_auto_flow": null,
            "grid_area": null,
            "grid_template_columns": null,
            "flex": null,
            "_model_name": "LayoutModel",
            "justify_items": null,
            "grid_row": null,
            "max_height": null,
            "align_content": null,
            "visibility": null,
            "align_self": null,
            "height": null,
            "min_height": null,
            "padding": null,
            "grid_auto_rows": null,
            "grid_gap": null,
            "max_width": null,
            "order": null,
            "_view_module_version": "1.2.0",
            "grid_template_areas": null,
            "object_position": null,
            "object_fit": null,
            "grid_auto_columns": null,
            "margin": null,
            "display": null,
            "left": null
          }
        }
      }
    }
  },
  "cells": [
    {
      "cell_type": "markdown",
      "metadata": {
        "id": "CKmVEzw4MMNR"
      },
      "source": [
        "# Interpretability of the utilitarianism task from the ethics dataset\n",
        "\n",
        "Paper in which the dataset was released: https://arxiv.org/abs/2008.02275 (ICLR, Hendrycks et al., 2021)\n",
        "\n",
        "The transformer model used in this in depth exploration is the RoBERTa-large model whose weights were released alongside the original paper here: https://github.com/hendrycks/ethics\n",
        "\n",
        "The utilitarianism task dataset consisted of a training dataset, an easy test dataset, and a hard test dataset."
      ]
    },
    {
      "cell_type": "code",
      "metadata": {
        "id": "yb6qoLmIMZdv"
      },
      "source": [
        "SAVE_FIGS = True # If true, Figures will be saved (overwriting previous versions) as cells are run\n",
        "DIR = \"figure_outputs/\""
      ],
      "execution_count": 23,
      "outputs": []
    },
    {
      "cell_type": "markdown",
      "metadata": {
        "id": "kZV8fiEeUai1"
      },
      "source": [
        "# Setup"
      ]
    },
    {
      "cell_type": "code",
      "metadata": {
        "colab": {
          "base_uri": "https://localhost:8080/"
        },
        "id": "83ybeTCdRBEt",
        "outputId": "f78492b6-f2d5-4607-81c0-dc6902edf364"
      },
      "source": [
        "# Packages\n",
        "\n",
        "!git clone https://github.com/hendrycks/ethics.git \n",
        "\n",
        "!pip install torch transformers pytorch-transformers # ML\n",
        "!pip install seaborn pandas matplotlib # Data\n",
        "!pip install bertviz captum shap # Interpretability"
      ],
      "execution_count": 2,
      "outputs": [
        {
          "output_type": "stream",
          "text": [
            "Cloning into 'ethics'...\n",
            "remote: Enumerating objects: 82, done.\u001b[K\n",
            "remote: Counting objects: 100% (82/82), done.\u001b[K\n",
            "remote: Compressing objects: 100% (63/63), done.\u001b[K\n",
            "remote: Total 82 (delta 31), reused 19 (delta 6), pack-reused 0\u001b[K\n",
            "Unpacking objects: 100% (82/82), done.\n",
            "Requirement already satisfied: torch in /usr/local/lib/python3.7/dist-packages (1.8.1+cu101)\n",
            "Collecting transformers\n",
            "\u001b[?25l  Downloading https://files.pythonhosted.org/packages/d8/b2/57495b5309f09fa501866e225c84532d1fd89536ea62406b2181933fb418/transformers-4.5.1-py3-none-any.whl (2.1MB)\n",
            "\u001b[K     |████████████████████████████████| 2.1MB 17.9MB/s \n",
            "\u001b[?25hCollecting pytorch-transformers\n",
            "\u001b[?25l  Downloading https://files.pythonhosted.org/packages/a3/b7/d3d18008a67e0b968d1ab93ad444fc05699403fa662f634b2f2c318a508b/pytorch_transformers-1.2.0-py3-none-any.whl (176kB)\n",
            "\u001b[K     |████████████████████████████████| 184kB 53.5MB/s \n",
            "\u001b[?25hRequirement already satisfied: typing-extensions in /usr/local/lib/python3.7/dist-packages (from torch) (3.7.4.3)\n",
            "Requirement already satisfied: numpy in /usr/local/lib/python3.7/dist-packages (from torch) (1.19.5)\n",
            "Requirement already satisfied: filelock in /usr/local/lib/python3.7/dist-packages (from transformers) (3.0.12)\n",
            "Collecting sacremoses\n",
            "\u001b[?25l  Downloading https://files.pythonhosted.org/packages/75/ee/67241dc87f266093c533a2d4d3d69438e57d7a90abb216fa076e7d475d4a/sacremoses-0.0.45-py3-none-any.whl (895kB)\n",
            "\u001b[K     |████████████████████████████████| 901kB 54.0MB/s \n",
            "\u001b[?25hRequirement already satisfied: importlib-metadata; python_version < \"3.8\" in /usr/local/lib/python3.7/dist-packages (from transformers) (3.10.1)\n",
            "Requirement already satisfied: regex!=2019.12.17 in /usr/local/lib/python3.7/dist-packages (from transformers) (2019.12.20)\n",
            "Requirement already satisfied: tqdm>=4.27 in /usr/local/lib/python3.7/dist-packages (from transformers) (4.41.1)\n",
            "Requirement already satisfied: requests in /usr/local/lib/python3.7/dist-packages (from transformers) (2.23.0)\n",
            "Requirement already satisfied: packaging in /usr/local/lib/python3.7/dist-packages (from transformers) (20.9)\n",
            "Collecting tokenizers<0.11,>=0.10.1\n",
            "\u001b[?25l  Downloading https://files.pythonhosted.org/packages/ae/04/5b870f26a858552025a62f1649c20d29d2672c02ff3c3fb4c688ca46467a/tokenizers-0.10.2-cp37-cp37m-manylinux2010_x86_64.whl (3.3MB)\n",
            "\u001b[K     |████████████████████████████████| 3.3MB 50.9MB/s \n",
            "\u001b[?25hCollecting boto3\n",
            "\u001b[?25l  Downloading https://files.pythonhosted.org/packages/a7/de/b5910db763b316c0eaa99a1d97da0585836409c350a74ea1fd1f88af5891/boto3-1.17.56-py2.py3-none-any.whl (131kB)\n",
            "\u001b[K     |████████████████████████████████| 133kB 54.4MB/s \n",
            "\u001b[?25hCollecting sentencepiece\n",
            "\u001b[?25l  Downloading https://files.pythonhosted.org/packages/f5/99/e0808cb947ba10f575839c43e8fafc9cc44e4a7a2c8f79c60db48220a577/sentencepiece-0.1.95-cp37-cp37m-manylinux2014_x86_64.whl (1.2MB)\n",
            "\u001b[K     |████████████████████████████████| 1.2MB 48.6MB/s \n",
            "\u001b[?25hRequirement already satisfied: joblib in /usr/local/lib/python3.7/dist-packages (from sacremoses->transformers) (1.0.1)\n",
            "Requirement already satisfied: six in /usr/local/lib/python3.7/dist-packages (from sacremoses->transformers) (1.15.0)\n",
            "Requirement already satisfied: click in /usr/local/lib/python3.7/dist-packages (from sacremoses->transformers) (7.1.2)\n",
            "Requirement already satisfied: zipp>=0.5 in /usr/local/lib/python3.7/dist-packages (from importlib-metadata; python_version < \"3.8\"->transformers) (3.4.1)\n",
            "Requirement already satisfied: idna<3,>=2.5 in /usr/local/lib/python3.7/dist-packages (from requests->transformers) (2.10)\n",
            "Requirement already satisfied: chardet<4,>=3.0.2 in /usr/local/lib/python3.7/dist-packages (from requests->transformers) (3.0.4)\n",
            "Requirement already satisfied: urllib3!=1.25.0,!=1.25.1,<1.26,>=1.21.1 in /usr/local/lib/python3.7/dist-packages (from requests->transformers) (1.24.3)\n",
            "Requirement already satisfied: certifi>=2017.4.17 in /usr/local/lib/python3.7/dist-packages (from requests->transformers) (2020.12.5)\n",
            "Requirement already satisfied: pyparsing>=2.0.2 in /usr/local/lib/python3.7/dist-packages (from packaging->transformers) (2.4.7)\n",
            "Collecting s3transfer<0.5.0,>=0.4.0\n",
            "\u001b[?25l  Downloading https://files.pythonhosted.org/packages/63/d0/693477c688348654ddc21dcdce0817653a294aa43f41771084c25e7ff9c7/s3transfer-0.4.2-py2.py3-none-any.whl (79kB)\n",
            "\u001b[K     |████████████████████████████████| 81kB 10.2MB/s \n",
            "\u001b[?25hCollecting botocore<1.21.0,>=1.20.56\n",
            "\u001b[?25l  Downloading https://files.pythonhosted.org/packages/f8/27/b27bfccc1fac989501d137476cbead6801f5b007634d1fe8a75415ca76e9/botocore-1.20.56-py2.py3-none-any.whl (7.4MB)\n",
            "\u001b[K     |████████████████████████████████| 7.4MB 48.7MB/s \n",
            "\u001b[?25hCollecting jmespath<1.0.0,>=0.7.1\n",
            "  Downloading https://files.pythonhosted.org/packages/07/cb/5f001272b6faeb23c1c9e0acc04d48eaaf5c862c17709d20e3469c6e0139/jmespath-0.10.0-py2.py3-none-any.whl\n",
            "Requirement already satisfied: python-dateutil<3.0.0,>=2.1 in /usr/local/lib/python3.7/dist-packages (from botocore<1.21.0,>=1.20.56->boto3->pytorch-transformers) (2.8.1)\n",
            "\u001b[31mERROR: botocore 1.20.56 has requirement urllib3<1.27,>=1.25.4, but you'll have urllib3 1.24.3 which is incompatible.\u001b[0m\n",
            "Installing collected packages: sacremoses, tokenizers, transformers, jmespath, botocore, s3transfer, boto3, sentencepiece, pytorch-transformers\n",
            "Successfully installed boto3-1.17.56 botocore-1.20.56 jmespath-0.10.0 pytorch-transformers-1.2.0 s3transfer-0.4.2 sacremoses-0.0.45 sentencepiece-0.1.95 tokenizers-0.10.2 transformers-4.5.1\n",
            "Requirement already satisfied: seaborn in /usr/local/lib/python3.7/dist-packages (0.11.1)\n",
            "Requirement already satisfied: pandas in /usr/local/lib/python3.7/dist-packages (1.1.5)\n",
            "Requirement already satisfied: matplotlib in /usr/local/lib/python3.7/dist-packages (3.2.2)\n",
            "Requirement already satisfied: numpy>=1.15 in /usr/local/lib/python3.7/dist-packages (from seaborn) (1.19.5)\n",
            "Requirement already satisfied: scipy>=1.0 in /usr/local/lib/python3.7/dist-packages (from seaborn) (1.4.1)\n",
            "Requirement already satisfied: pytz>=2017.2 in /usr/local/lib/python3.7/dist-packages (from pandas) (2018.9)\n",
            "Requirement already satisfied: python-dateutil>=2.7.3 in /usr/local/lib/python3.7/dist-packages (from pandas) (2.8.1)\n",
            "Requirement already satisfied: cycler>=0.10 in /usr/local/lib/python3.7/dist-packages (from matplotlib) (0.10.0)\n",
            "Requirement already satisfied: kiwisolver>=1.0.1 in /usr/local/lib/python3.7/dist-packages (from matplotlib) (1.3.1)\n",
            "Requirement already satisfied: pyparsing!=2.0.4,!=2.1.2,!=2.1.6,>=2.0.1 in /usr/local/lib/python3.7/dist-packages (from matplotlib) (2.4.7)\n",
            "Requirement already satisfied: six>=1.5 in /usr/local/lib/python3.7/dist-packages (from python-dateutil>=2.7.3->pandas) (1.15.0)\n",
            "Collecting bertviz\n",
            "\u001b[?25l  Downloading https://files.pythonhosted.org/packages/15/8b/f4226c75b35df80504ef41399fc1569b550332e3e4796618e5669c91af55/bertviz-1.0.0-py3-none-any.whl (162kB)\n",
            "\u001b[K     |████████████████████████████████| 163kB 22.2MB/s \n",
            "\u001b[?25hCollecting captum\n",
            "\u001b[?25l  Downloading https://files.pythonhosted.org/packages/13/b0/8fa3ab89e2e37c960cdd09595fa911fbb8d6da216c8bc98e18c858a0128d/captum-0.3.1-py3-none-any.whl (4.4MB)\n",
            "\u001b[K     |████████████████████████████████| 4.4MB 24.1MB/s \n",
            "\u001b[?25hCollecting shap\n",
            "\u001b[?25l  Downloading https://files.pythonhosted.org/packages/b9/f4/c5b95cddae15be80f8e58b25edceca105aa83c0b8c86a1edad24a6af80d3/shap-0.39.0.tar.gz (356kB)\n",
            "\u001b[K     |████████████████████████████████| 358kB 50.2MB/s \n",
            "\u001b[?25hRequirement already satisfied: sentencepiece in /usr/local/lib/python3.7/dist-packages (from bertviz) (0.1.95)\n",
            "Requirement already satisfied: requests in /usr/local/lib/python3.7/dist-packages (from bertviz) (2.23.0)\n",
            "Requirement already satisfied: tqdm in /usr/local/lib/python3.7/dist-packages (from bertviz) (4.41.1)\n",
            "Requirement already satisfied: transformers>=2.0 in /usr/local/lib/python3.7/dist-packages (from bertviz) (4.5.1)\n",
            "Requirement already satisfied: regex in /usr/local/lib/python3.7/dist-packages (from bertviz) (2019.12.20)\n",
            "Requirement already satisfied: torch>=1.0 in /usr/local/lib/python3.7/dist-packages (from bertviz) (1.8.1+cu101)\n",
            "Requirement already satisfied: boto3 in /usr/local/lib/python3.7/dist-packages (from bertviz) (1.17.56)\n",
            "Requirement already satisfied: matplotlib in /usr/local/lib/python3.7/dist-packages (from captum) (3.2.2)\n",
            "Requirement already satisfied: numpy in /usr/local/lib/python3.7/dist-packages (from captum) (1.19.5)\n",
            "Requirement already satisfied: scipy in /usr/local/lib/python3.7/dist-packages (from shap) (1.4.1)\n",
            "Requirement already satisfied: scikit-learn in /usr/local/lib/python3.7/dist-packages (from shap) (0.22.2.post1)\n",
            "Requirement already satisfied: pandas in /usr/local/lib/python3.7/dist-packages (from shap) (1.1.5)\n",
            "Collecting slicer==0.0.7\n",
            "  Downloading https://files.pythonhosted.org/packages/78/c2/b3f55dfdb8af9812fdb9baf70cacf3b9e82e505b2bd4324d588888b81202/slicer-0.0.7-py3-none-any.whl\n",
            "Requirement already satisfied: numba in /usr/local/lib/python3.7/dist-packages (from shap) (0.51.2)\n",
            "Requirement already satisfied: cloudpickle in /usr/local/lib/python3.7/dist-packages (from shap) (1.3.0)\n",
            "Requirement already satisfied: certifi>=2017.4.17 in /usr/local/lib/python3.7/dist-packages (from requests->bertviz) (2020.12.5)\n",
            "Requirement already satisfied: urllib3!=1.25.0,!=1.25.1,<1.26,>=1.21.1 in /usr/local/lib/python3.7/dist-packages (from requests->bertviz) (1.24.3)\n",
            "Requirement already satisfied: idna<3,>=2.5 in /usr/local/lib/python3.7/dist-packages (from requests->bertviz) (2.10)\n",
            "Requirement already satisfied: chardet<4,>=3.0.2 in /usr/local/lib/python3.7/dist-packages (from requests->bertviz) (3.0.4)\n",
            "Requirement already satisfied: filelock in /usr/local/lib/python3.7/dist-packages (from transformers>=2.0->bertviz) (3.0.12)\n",
            "Requirement already satisfied: tokenizers<0.11,>=0.10.1 in /usr/local/lib/python3.7/dist-packages (from transformers>=2.0->bertviz) (0.10.2)\n",
            "Requirement already satisfied: importlib-metadata; python_version < \"3.8\" in /usr/local/lib/python3.7/dist-packages (from transformers>=2.0->bertviz) (3.10.1)\n",
            "Requirement already satisfied: packaging in /usr/local/lib/python3.7/dist-packages (from transformers>=2.0->bertviz) (20.9)\n",
            "Requirement already satisfied: sacremoses in /usr/local/lib/python3.7/dist-packages (from transformers>=2.0->bertviz) (0.0.45)\n",
            "Requirement already satisfied: typing-extensions in /usr/local/lib/python3.7/dist-packages (from torch>=1.0->bertviz) (3.7.4.3)\n",
            "Requirement already satisfied: s3transfer<0.5.0,>=0.4.0 in /usr/local/lib/python3.7/dist-packages (from boto3->bertviz) (0.4.2)\n",
            "Requirement already satisfied: jmespath<1.0.0,>=0.7.1 in /usr/local/lib/python3.7/dist-packages (from boto3->bertviz) (0.10.0)\n",
            "Requirement already satisfied: botocore<1.21.0,>=1.20.56 in /usr/local/lib/python3.7/dist-packages (from boto3->bertviz) (1.20.56)\n",
            "Requirement already satisfied: pyparsing!=2.0.4,!=2.1.2,!=2.1.6,>=2.0.1 in /usr/local/lib/python3.7/dist-packages (from matplotlib->captum) (2.4.7)\n",
            "Requirement already satisfied: cycler>=0.10 in /usr/local/lib/python3.7/dist-packages (from matplotlib->captum) (0.10.0)\n",
            "Requirement already satisfied: kiwisolver>=1.0.1 in /usr/local/lib/python3.7/dist-packages (from matplotlib->captum) (1.3.1)\n",
            "Requirement already satisfied: python-dateutil>=2.1 in /usr/local/lib/python3.7/dist-packages (from matplotlib->captum) (2.8.1)\n",
            "Requirement already satisfied: joblib>=0.11 in /usr/local/lib/python3.7/dist-packages (from scikit-learn->shap) (1.0.1)\n",
            "Requirement already satisfied: pytz>=2017.2 in /usr/local/lib/python3.7/dist-packages (from pandas->shap) (2018.9)\n",
            "Requirement already satisfied: setuptools in /usr/local/lib/python3.7/dist-packages (from numba->shap) (56.0.0)\n",
            "Requirement already satisfied: llvmlite<0.35,>=0.34.0.dev0 in /usr/local/lib/python3.7/dist-packages (from numba->shap) (0.34.0)\n",
            "Requirement already satisfied: zipp>=0.5 in /usr/local/lib/python3.7/dist-packages (from importlib-metadata; python_version < \"3.8\"->transformers>=2.0->bertviz) (3.4.1)\n",
            "Requirement already satisfied: six in /usr/local/lib/python3.7/dist-packages (from sacremoses->transformers>=2.0->bertviz) (1.15.0)\n",
            "Requirement already satisfied: click in /usr/local/lib/python3.7/dist-packages (from sacremoses->transformers>=2.0->bertviz) (7.1.2)\n",
            "Building wheels for collected packages: shap\n",
            "  Building wheel for shap (setup.py) ... \u001b[?25l\u001b[?25hdone\n",
            "  Created wheel for shap: filename=shap-0.39.0-cp37-cp37m-linux_x86_64.whl size=491619 sha256=1dd9973c991b1ca92068158e5726c1db1ecc10fc0e37d0a934987e3ae06d2204\n",
            "  Stored in directory: /root/.cache/pip/wheels/15/27/f5/a8ab9da52fd159aae6477b5ede6eaaec69fd130fa0fa59f283\n",
            "Successfully built shap\n",
            "Installing collected packages: bertviz, captum, slicer, shap\n",
            "Successfully installed bertviz-1.0.0 captum-0.3.1 shap-0.39.0 slicer-0.0.7\n"
          ],
          "name": "stdout"
        }
      ]
    },
    {
      "cell_type": "code",
      "metadata": {
        "colab": {
          "base_uri": "https://localhost:8080/"
        },
        "id": "GpdTNI7dWjxV",
        "outputId": "974d7555-08cf-46f9-d3f2-527893dacbdb"
      },
      "source": [
        "# Mount Google Drive\n",
        "\n",
        "from google.colab import drive\n",
        "import sys\n",
        "\n",
        "drive.mount(f'/content/drive')\n",
        "\n",
        "%cd /content/drive/MyDrive/Colab Notebooks/NLP_CW2\n",
        "sys.path.insert(0,'/content/drive/MyDrive/Colab Notebooks/NLP_CW2')"
      ],
      "execution_count": 3,
      "outputs": [
        {
          "output_type": "stream",
          "text": [
            "Mounted at /content/drive\n",
            "/content/drive/.shortcut-targets-by-id/1g3JCgH-awK6a0hTXlBoIT3NgyxvgLv_M/NLP_CW2\n"
          ],
          "name": "stdout"
        }
      ]
    },
    {
      "cell_type": "code",
      "metadata": {
        "id": "tBKgat07WsKR"
      },
      "source": [
        "# Imports\n",
        "\n",
        "import matplotlib.pyplot as plt\n",
        "import numpy as np\n",
        "import pandas as pd\n",
        "import seaborn as sns\n",
        "import torch\n",
        "import torch.nn as nn\n",
        "from transformers import AutoConfig, AutoModelForSequenceClassification, AutoTokenizer"
      ],
      "execution_count": 42,
      "outputs": []
    },
    {
      "cell_type": "code",
      "metadata": {
        "id": "9LoKhHB_P_33"
      },
      "source": [
        "# Model loading functions\n",
        "\n",
        "device = torch.device(\"cuda:0\" if torch.cuda.is_available() else \"cpu\")\n",
        "\n",
        "class Args:\n",
        "  def __init__(self, model, ngpus=2, max_length=64):\n",
        "    self.model = model\n",
        "    self.ngpus = ngpus\n",
        "    self.max_length = max_length\n",
        "\n",
        "def load_model(model, ngpus, load_path):\n",
        "    config = AutoConfig.from_pretrained(model, num_labels=1, output_attentions=True, output_pretrained=True)\n",
        "    model = AutoModelForSequenceClassification.from_pretrained(model, config=config)\n",
        "\n",
        "    # Use strict=False since the provided models were originally trained with an earlier version of Huggingface\n",
        "    model.load_state_dict(torch.load(load_path), strict=False)  \n",
        "    if args.ngpus > 0:\n",
        "        model = model.cuda()\n",
        "        model = torch.nn.DataParallel(model, device_ids=[i for i in range(ngpus)])\n",
        "    return model"
      ],
      "execution_count": 43,
      "outputs": []
    },
    {
      "cell_type": "markdown",
      "metadata": {
        "id": "EdRVC--0UVFU"
      },
      "source": [
        "# Visualizing attention"
      ]
    },
    {
      "cell_type": "markdown",
      "metadata": {
        "id": "Wnm-NHW6cV5K"
      },
      "source": [
        "## BertViz\n",
        "\n",
        "TODO broad explanation"
      ]
    },
    {
      "cell_type": "code",
      "metadata": {
        "colab": {
          "base_uri": "https://localhost:8080/",
          "height": 381,
          "referenced_widgets": [
            "ca3cfb55d6694520a00ade3ae48126b2",
            "0a69bb8546884ccda18f1b809715e6bd",
            "e0b8c578adde475383f5d1c8d18e36f9",
            "8d52c23d5aa84eb5998d86b6276f9b52",
            "406cdfe54215444f82b2cd026ea732db",
            "fdb074a2c3a54463a1b8beae96e4f861",
            "0f267f1c6ece4594a79f1f127caa0bce",
            "6756416e67054b4285216e430a56ad79",
            "5b34ffd6d0ca405291e9872580d6fa72",
            "dd184e65777b4c6fb158d912c680050b",
            "42cc13ea17f04435b9663e2f7f4b1098",
            "72272ccf57ed45adaf2b7ad449efb47a",
            "3810ae55f1fa4e20811290906af43111",
            "705b2bc88cbb4f9eb179a2fa237fa606",
            "05c82460fe6d450aaee811363e1c18e4",
            "62fd11ea7d7f459082fd301cbed197b8",
            "7e1c048ba76542d5976c3d288514813d",
            "1b906d608dfd42a89fd968d06bfc70bb",
            "d35bee0ce9b149068168a38bd275bc80",
            "055c24472c824eeeb314dc8317e17701",
            "7f4cc3304ab1428fbde824f526519384",
            "ea2083e4e3a846aeafadc7abeb8e39e6",
            "6ae7dd3ffda2420d9760589ed3399aeb",
            "b4cbc95bcaf74c9e9707ff3fe6bd52f5",
            "11742349eb964a3b9de135e71e285b9d",
            "ba1c7746b390416fa6c36f3e13f1d22d",
            "da7aa330ecc74896aabd370efa0ded69",
            "55ec49b5cac645aa8c7f0f14c6ef5c07",
            "d6473c66f3dd485cbce0ade37354dcdf",
            "07da0967c5a64fc9ae23ed87f559d8d8",
            "8edc9ff2be8b48e084479cb64bb3b2a1",
            "205cf44e2d21486190b0fad12b556b8d",
            "e0206b6873124681b908544abc154a8b",
            "5e1d0b1cc91c42ba9040b802aefb671b",
            "4cb657d14aeb4c6ba946782a716473d7",
            "43b8324b4b264d42953a33ae1cbaef81",
            "ed04583ec84b410bb3c22756123ec58b",
            "c5c848a67b244491901f4fbcba70c55d",
            "9e913cff0dc142c9a1c03baa139e56f5",
            "9f5173c0348247a58cd7b60f6140ccdb"
          ]
        },
        "id": "aMGlyzZQPbez",
        "outputId": "a21fa6ab-bc46-4738-976d-f5d68c1b0842"
      },
      "source": [
        "# Load model\n",
        "\n",
        "args = Args(model='roberta-large', ngpus=1)\n",
        "load_path = 'util_roberta-large.pt'\n",
        "\n",
        "model = load_model(args.model, args.ngpus, load_path)\n",
        "model.eval()\n",
        "\n",
        "tokenizer = AutoTokenizer.from_pretrained(args.model)"
      ],
      "execution_count": 6,
      "outputs": [
        {
          "output_type": "display_data",
          "data": {
            "application/vnd.jupyter.widget-view+json": {
              "model_id": "ca3cfb55d6694520a00ade3ae48126b2",
              "version_minor": 0,
              "version_major": 2
            },
            "text/plain": [
              "HBox(children=(FloatProgress(value=0.0, description='Downloading', max=482.0, style=ProgressStyle(description_…"
            ]
          },
          "metadata": {
            "tags": []
          }
        },
        {
          "output_type": "stream",
          "text": [
            "\n"
          ],
          "name": "stdout"
        },
        {
          "output_type": "display_data",
          "data": {
            "application/vnd.jupyter.widget-view+json": {
              "model_id": "5b34ffd6d0ca405291e9872580d6fa72",
              "version_minor": 0,
              "version_major": 2
            },
            "text/plain": [
              "HBox(children=(FloatProgress(value=0.0, description='Downloading', max=1425941629.0, style=ProgressStyle(descr…"
            ]
          },
          "metadata": {
            "tags": []
          }
        },
        {
          "output_type": "stream",
          "text": [
            "\n"
          ],
          "name": "stdout"
        },
        {
          "output_type": "stream",
          "text": [
            "Some weights of the model checkpoint at roberta-large were not used when initializing RobertaForSequenceClassification: ['lm_head.bias', 'lm_head.dense.weight', 'lm_head.dense.bias', 'lm_head.layer_norm.weight', 'lm_head.layer_norm.bias', 'lm_head.decoder.weight', 'roberta.pooler.dense.weight', 'roberta.pooler.dense.bias']\n",
            "- This IS expected if you are initializing RobertaForSequenceClassification from the checkpoint of a model trained on another task or with another architecture (e.g. initializing a BertForSequenceClassification model from a BertForPreTraining model).\n",
            "- This IS NOT expected if you are initializing RobertaForSequenceClassification from the checkpoint of a model that you expect to be exactly identical (initializing a BertForSequenceClassification model from a BertForSequenceClassification model).\n",
            "Some weights of RobertaForSequenceClassification were not initialized from the model checkpoint at roberta-large and are newly initialized: ['classifier.dense.weight', 'classifier.dense.bias', 'classifier.out_proj.weight', 'classifier.out_proj.bias']\n",
            "You should probably TRAIN this model on a down-stream task to be able to use it for predictions and inference.\n"
          ],
          "name": "stderr"
        },
        {
          "output_type": "display_data",
          "data": {
            "application/vnd.jupyter.widget-view+json": {
              "model_id": "7e1c048ba76542d5976c3d288514813d",
              "version_minor": 0,
              "version_major": 2
            },
            "text/plain": [
              "HBox(children=(FloatProgress(value=0.0, description='Downloading', max=898823.0, style=ProgressStyle(descripti…"
            ]
          },
          "metadata": {
            "tags": []
          }
        },
        {
          "output_type": "stream",
          "text": [
            "\n"
          ],
          "name": "stdout"
        },
        {
          "output_type": "display_data",
          "data": {
            "application/vnd.jupyter.widget-view+json": {
              "model_id": "11742349eb964a3b9de135e71e285b9d",
              "version_minor": 0,
              "version_major": 2
            },
            "text/plain": [
              "HBox(children=(FloatProgress(value=0.0, description='Downloading', max=456318.0, style=ProgressStyle(descripti…"
            ]
          },
          "metadata": {
            "tags": []
          }
        },
        {
          "output_type": "stream",
          "text": [
            "\n"
          ],
          "name": "stdout"
        },
        {
          "output_type": "display_data",
          "data": {
            "application/vnd.jupyter.widget-view+json": {
              "model_id": "e0206b6873124681b908544abc154a8b",
              "version_minor": 0,
              "version_major": 2
            },
            "text/plain": [
              "HBox(children=(FloatProgress(value=0.0, description='Downloading', max=1355863.0, style=ProgressStyle(descript…"
            ]
          },
          "metadata": {
            "tags": []
          }
        },
        {
          "output_type": "stream",
          "text": [
            "\n"
          ],
          "name": "stdout"
        }
      ]
    },
    {
      "cell_type": "code",
      "metadata": {
        "id": "CteDfuHLQKlO"
      },
      "source": [
        "# Example\n",
        "\n",
        "sentence_a = \"As I prepared for my annual Christmas party, I looked forward to showing off my decorations and food.\"\n",
        "sentence_b = \"As I prepared for my annual Christmas party, I didn't look forward to having my decorations and food judged.\""
      ],
      "execution_count": 7,
      "outputs": []
    },
    {
      "cell_type": "markdown",
      "metadata": {
        "id": "XbS9VuBOP_gc"
      },
      "source": [
        "### Head view\n",
        "\n",
        "TODO explanation"
      ]
    },
    {
      "cell_type": "code",
      "metadata": {
        "id": "iUXtBTw73tMr",
        "colab": {
          "base_uri": "https://localhost:8080/",
          "height": 36
        },
        "outputId": "124671fb-93a4-4843-bb9d-80aa259ec0e4"
      },
      "source": [
        "from bertviz import head_view\n",
        "\n",
        "inputs = tokenizer.encode_plus(sentence_a, sentence_b, return_tensors='pt', add_special_tokens=True)\n",
        "input_ids = inputs['input_ids']\n",
        "attention = model(input_ids)[-1]\n",
        "input_id_list = input_ids[0].tolist() \n",
        "tokens = tokenizer.convert_ids_to_tokens(input_id_list)\n",
        "head_view(attention, tokens)"
      ],
      "execution_count": 20,
      "outputs": [
        {
          "output_type": "display_data",
          "data": {
            "text/html": [
              "<script src=\"https://cdnjs.cloudflare.com/ajax/libs/require.js/2.3.6/require.min.js\"></script>"
            ],
            "text/plain": [
              "<IPython.core.display.HTML object>"
            ]
          },
          "metadata": {
            "tags": []
          }
        },
        {
          "output_type": "display_data",
          "data": {
            "text/html": [
              "\n",
              "            <div id='bertviz-c3fcceacf63246dca8d455d9c974dff8'>\n",
              "              <span style=\"user-select:none\">\n",
              "                Layer: <select id=\"layer\"></select>\n",
              "              </span>\n",
              "              <div id='vis'></div> \n",
              "            </div>\n",
              "        "
            ],
            "text/plain": [
              "<IPython.core.display.HTML object>"
            ]
          },
          "metadata": {
            "tags": []
          }
        }
      ]
    },
    {
      "cell_type": "markdown",
      "metadata": {
        "id": "NjaWkJNBQBDE"
      },
      "source": [
        "### Model view\n",
        "\n",
        "TODO explanation"
      ]
    },
    {
      "cell_type": "code",
      "metadata": {
        "colab": {
          "base_uri": "https://localhost:8080/",
          "height": 17
        },
        "id": "Y6S-ZKtR31DN",
        "outputId": "3b5fd49b-1609-4bac-cfd0-29684b68b93a"
      },
      "source": [
        "from bertviz import model_view\n",
        "\n",
        "inputs = tokenizer.encode_plus(sentence_a, sentence_b, return_tensors='pt', add_special_tokens=True)\n",
        "input_ids = inputs['input_ids']\n",
        "attention = model(input_ids)[-1]\n",
        "input_id_list = input_ids[0].tolist()\n",
        "tokens = tokenizer.convert_ids_to_tokens(input_id_list)\n",
        "model_view(attention, tokens)"
      ],
      "execution_count": 9,
      "outputs": [
        {
          "output_type": "display_data",
          "data": {
            "text/html": [
              "<script src=\"https://cdnjs.cloudflare.com/ajax/libs/require.js/2.3.6/require.min.js\"></script>"
            ],
            "text/plain": [
              "<IPython.core.display.HTML object>"
            ]
          },
          "metadata": {
            "tags": []
          }
        },
        {
          "output_type": "display_data",
          "data": {
            "text/html": [
              "\n",
              "            <div id='bertviz-70254bbf1ece424bb98fe53a83780bec'>\n",
              "                <div id='vis'></div>\n",
              "            </div>\n",
              "        "
            ],
            "text/plain": [
              "<IPython.core.display.HTML object>"
            ]
          },
          "metadata": {
            "tags": []
          }
        }
      ]
    },
    {
      "cell_type": "markdown",
      "metadata": {
        "id": "Ms-ohyB6UDIt"
      },
      "source": [
        "### Neuron view\n",
        "\n",
        "TODO explanation if possible"
      ]
    },
    {
      "cell_type": "code",
      "metadata": {
        "id": "2_OEF7Xc3u3J"
      },
      "source": [
        "# from bertviz import neuron_view\n",
        "# from bertviz.neuron_view import show\n",
        "# from bertviz.transformers_neuron_view import RobertaModel, RobertaTokenizer\n",
        "\n",
        "# model = RobertaModel.from_pretrained(args.model)\n",
        "# tokenizer = RobertaTokenizer.from_pretrained(args.model)\n",
        "\n",
        "# show(model, 'roberta', tokenizer, sentence_a, sentence_b)"
      ],
      "execution_count": null,
      "outputs": []
    },
    {
      "cell_type": "markdown",
      "metadata": {
        "id": "1Q2Hm4oXUra5"
      },
      "source": [
        "# Shapley-value explanations"
      ]
    },
    {
      "cell_type": "markdown",
      "metadata": {
        "id": "xM4Co9Q_rbt_"
      },
      "source": [
        "## SHAP\n",
        "\n",
        "TODO broad explanation"
      ]
    },
    {
      "cell_type": "code",
      "metadata": {
        "id": "_-XYvr2VXq3s"
      },
      "source": [
        "# Imports\n",
        "\n",
        "from ethics.utils import get_ids_mask, load_util_sentences\n",
        "import shap"
      ],
      "execution_count": 17,
      "outputs": []
    },
    {
      "cell_type": "code",
      "metadata": {
        "id": "Lb5rv6Wcrgn4"
      },
      "source": [
        "# Load model\n",
        "\n",
        "args = Args(model='roberta-large', ngpus=1)\n",
        "load_path = 'util_roberta-large.pt'\n",
        "\n",
        "model = load_model(args.model, args.ngpus, load_path)\n",
        "model.eval()\n",
        "\n",
        "tokenizer = AutoTokenizer.from_pretrained(args.model)"
      ],
      "execution_count": null,
      "outputs": []
    },
    {
      "cell_type": "code",
      "metadata": {
        "id": "jEEtoGbI1LvZ"
      },
      "source": [
        "# Load sentences\n",
        "\n",
        "data_dir = '/content/drive/MyDrive/Colab Notebooks/NLP_CW2/utilitarianism/'\n",
        "\n",
        "sentences, labels = load_util_sentences(data_dir, split='test')\n",
        "sentences = [\"[CLS] \" + s for s in sentences]"
      ],
      "execution_count": 67,
      "outputs": []
    },
    {
      "cell_type": "code",
      "metadata": {
        "id": "ZVXWBpsI7RnZ"
      },
      "source": [
        "# Define utility function to visualize\n",
        "\n",
        "def predict_utility(sentence):\n",
        "  ids, amasks = get_ids_mask(sentence, tokenizer, args.max_length)\n",
        "  inputs, masks = torch.tensor(ids), torch.tensor(amasks)\n",
        "\n",
        "  output = model(inputs)[0]\n",
        "  output = output[:, 0]\n",
        "\n",
        "  return output.detach().cpu().numpy()"
      ],
      "execution_count": 102,
      "outputs": []
    },
    {
      "cell_type": "markdown",
      "metadata": {
        "id": "mhKoiI4klJjN"
      },
      "source": [
        "### Plots"
      ]
    },
    {
      "cell_type": "code",
      "metadata": {
        "id": "ozMeLm9glaYQ"
      },
      "source": [
        "# Examples to visualize\n",
        "\n",
        "examples = sentences[100:110]\n",
        "\n",
        "for example in examples:\n",
        "  print(example)"
      ],
      "execution_count": null,
      "outputs": []
    },
    {
      "cell_type": "code",
      "metadata": {
        "id": "Gp_BgcWZlTc8"
      },
      "source": [
        "# Compute Shapley values\n",
        "\n",
        "explainer = shap.Explainer(predict_utility, tokenizer)\n",
        "shap_values = explainer(examples)"
      ],
      "execution_count": null,
      "outputs": []
    },
    {
      "cell_type": "markdown",
      "metadata": {
        "id": "FhM3swuykyr1"
      },
      "source": [
        "#### Text plot"
      ]
    },
    {
      "cell_type": "code",
      "metadata": {
        "colab": {
          "base_uri": "https://localhost:8080/",
          "height": 120
        },
        "id": "Zn9GiuB8kzv0",
        "outputId": "42f0d0ff-4073-4ff1-f645-8cd725621dda"
      },
      "source": [
        "shap.plots.text(shap_values[8])"
      ],
      "execution_count": 112,
      "outputs": [
        {
          "output_type": "display_data",
          "data": {
            "text/html": [
              "<svg width=\"100%\" height=\"80px\"><line x1=\"0\" y1=\"33\" x2=\"100%\" y2=\"33\" style=\"stroke:rgb(150,150,150);stroke-width:1\" /><line x1=\"8.333354%\" y1=\"33\" x2=\"8.333354%\" y2=\"37\" style=\"stroke:rgb(150,150,150);stroke-width:1\" /><text x=\"8.333354%\" y=\"27\" font-size=\"12px\" fill=\"rgb(120,120,120)\" dominant-baseline=\"bottom\" text-anchor=\"middle\">-1.601784</text><text x=\"8.333354%\" y=\"10\" font-size=\"12px\" fill=\"rgb(120,120,120)\" dominant-baseline=\"bottom\" text-anchor=\"middle\">base value</text><line x1=\"22.619068%\" y1=\"33\" x2=\"22.619068%\" y2=\"37\" style=\"stroke:rgb(150,150,150);stroke-width:1\" /><text x=\"22.619068%\" y=\"27\" font-size=\"12px\" fill=\"rgb(120,120,120)\" dominant-baseline=\"bottom\" text-anchor=\"middle\">-0.495159</text><line x1=\"36.904782%\" y1=\"33\" x2=\"36.904782%\" y2=\"37\" style=\"stroke:rgb(150,150,150);stroke-width:1\" /><text x=\"36.904782%\" y=\"27\" font-size=\"12px\" fill=\"rgb(120,120,120)\" dominant-baseline=\"bottom\" text-anchor=\"middle\">0.611466</text><line x1=\"51.190497%\" y1=\"33\" x2=\"51.190497%\" y2=\"37\" style=\"stroke:rgb(150,150,150);stroke-width:1\" /><text x=\"51.190497%\" y=\"27\" font-size=\"12px\" fill=\"rgb(120,120,120)\" dominant-baseline=\"bottom\" text-anchor=\"middle\">1.718092</text><line x1=\"65.476211%\" y1=\"33\" x2=\"65.476211%\" y2=\"37\" style=\"stroke:rgb(150,150,150);stroke-width:1\" /><text x=\"65.476211%\" y=\"27\" font-size=\"12px\" fill=\"rgb(120,120,120)\" dominant-baseline=\"bottom\" text-anchor=\"middle\">2.824717</text><line x1=\"79.761925%\" y1=\"33\" x2=\"79.761925%\" y2=\"37\" style=\"stroke:rgb(150,150,150);stroke-width:1\" /><text x=\"79.761925%\" y=\"27\" font-size=\"12px\" fill=\"rgb(120,120,120)\" dominant-baseline=\"bottom\" text-anchor=\"middle\">3.931343</text><line x1=\"91.666646%\" y1=\"33\" x2=\"91.666646%\" y2=\"37\" style=\"stroke:rgb(150,150,150);stroke-width:1\" /><text x=\"91.666646%\" y=\"27\" font-size=\"13px\" style=\"stroke:#ffffff;stroke-width:8px;\" font-weight=\"bold\" fill=\"rgb(255,255,255)\" dominant-baseline=\"bottom\" text-anchor=\"middle\">4.853528</text><text x=\"91.666646%\" y=\"27\" font-size=\"13px\" font-weight=\"bold\" fill=\"rgb(0,0,0)\" dominant-baseline=\"bottom\" text-anchor=\"middle\">4.853528</text><text x=\"91.666646%\" y=\"10\" font-size=\"12px\" fill=\"rgb(120,120,120)\" dominant-baseline=\"bottom\" text-anchor=\"middle\">f(x)</text><rect x=\"8.333333333333334%\" width=\"83.33331275049841%\" y=\"40\" height=\"18\" style=\"fill:rgb(255.0, 0.0, 81.08083606031792); stroke-width:0; stroke:rgb(0,0,0)\" /><line x1=\"61.300747319791725%\" x2=\"91.66664608383174%\" y1=\"60\" y2=\"60\" id=\"_fb_wmikxfhrgjvjetcumoyk_ind_6\" style=\"stroke:rgb(255.0, 0.0, 81.08083606031792);stroke-width:2; opacity: 0\"/><text x=\"76.48369670181174%\" y=\"71\" font-size=\"12px\" id=\"_fs_wmikxfhrgjvjetcumoyk_ind_6\" fill=\"rgb(255.0, 0.0, 81.08083606031792)\" style=\"opacity: 0\" dominant-baseline=\"middle\" text-anchor=\"middle\">2.352</text><svg x=\"61.300747319791725%\" y=\"40\" height=\"20\" width=\"30.36589876404001%\">  <svg x=\"0\" y=\"0\" width=\"100%\" height=\"100%\">    <text x=\"50%\" y=\"9\" font-size=\"12px\" fill=\"rgb(255,255,255)\" dominant-baseline=\"middle\" text-anchor=\"middle\">of my favorite shows</text>  </svg></svg><line x1=\"49.79147538937165%\" x2=\"61.300747319791725%\" y1=\"60\" y2=\"60\" id=\"_fb_wmikxfhrgjvjetcumoyk_ind_4\" style=\"stroke:rgb(255.0, 0.0, 81.08083606031792);stroke-width:2; opacity: 0\"/><text x=\"55.54611135458168%\" y=\"71\" font-size=\"12px\" id=\"_fs_wmikxfhrgjvjetcumoyk_ind_4\" fill=\"rgb(255.0, 0.0, 81.08083606031792)\" style=\"opacity: 0\" dominant-baseline=\"middle\" text-anchor=\"middle\">0.892</text><svg x=\"49.79147538937165%\" y=\"40\" height=\"20\" width=\"11.509271930420077%\">  <svg x=\"0\" y=\"0\" width=\"100%\" height=\"100%\">    <text x=\"50%\" y=\"9\" font-size=\"12px\" fill=\"rgb(255,255,255)\" dominant-baseline=\"middle\" text-anchor=\"middle\">I came across a</text>  </svg></svg><line x1=\"40.98197966621159%\" x2=\"49.79147538937165%\" y1=\"60\" y2=\"60\" id=\"_fb_wmikxfhrgjvjetcumoyk_ind_5\" style=\"stroke:rgb(255.0, 0.0, 81.08083606031792);stroke-width:2; opacity: 0\"/><text x=\"45.38672752779162%\" y=\"71\" font-size=\"12px\" id=\"_fs_wmikxfhrgjvjetcumoyk_ind_5\" fill=\"rgb(255.0, 0.0, 81.08083606031792)\" style=\"opacity: 0\" dominant-baseline=\"middle\" text-anchor=\"middle\">0.682</text><svg x=\"40.98197966621159%\" y=\"40\" height=\"20\" width=\"8.809495723160055%\">  <svg x=\"0\" y=\"0\" width=\"100%\" height=\"100%\">    <text x=\"50%\" y=\"9\" font-size=\"12px\" fill=\"rgb(255,255,255)\" dominant-baseline=\"middle\" text-anchor=\"middle\">rerun of one</text>  </svg></svg><line x1=\"32.75319972841084%\" x2=\"40.98197966621159%\" y1=\"60\" y2=\"60\" id=\"_fb_wmikxfhrgjvjetcumoyk_ind_1\" style=\"stroke:rgb(255.0, 0.0, 81.08083606031792);stroke-width:2; opacity: 0\"/><text x=\"36.86758969731122%\" y=\"71\" font-size=\"12px\" id=\"_fs_wmikxfhrgjvjetcumoyk_ind_1\" fill=\"rgb(255.0, 0.0, 81.08083606031792)\" style=\"opacity: 0\" dominant-baseline=\"middle\" text-anchor=\"middle\">0.637</text><svg x=\"32.75319972841084%\" y=\"40\" height=\"20\" width=\"8.228779937800752%\">  <svg x=\"0\" y=\"0\" width=\"100%\" height=\"100%\">    <text x=\"50%\" y=\"9\" font-size=\"12px\" fill=\"rgb(255,255,255)\" dominant-baseline=\"middle\" text-anchor=\"middle\">] I was watching</text>  </svg></svg><line x1=\"24.525095231006393%\" x2=\"32.75319972841084%\" y1=\"60\" y2=\"60\" id=\"_fb_wmikxfhrgjvjetcumoyk_ind_7\" style=\"stroke:rgb(255.0, 0.0, 81.08083606031792);stroke-width:2; opacity: 0\"/><text x=\"28.63914747970862%\" y=\"71\" font-size=\"12px\" id=\"_fs_wmikxfhrgjvjetcumoyk_ind_7\" fill=\"rgb(255.0, 0.0, 81.08083606031792)\" style=\"opacity: 0\" dominant-baseline=\"middle\" text-anchor=\"middle\">0.637</text><svg x=\"24.525095231006393%\" y=\"40\" height=\"20\" width=\"8.228104497404448%\">  <svg x=\"0\" y=\"0\" width=\"100%\" height=\"100%\">    <text x=\"50%\" y=\"9\" font-size=\"12px\" fill=\"rgb(255,255,255)\" dominant-baseline=\"middle\" text-anchor=\"middle\">as a kid.</text>  </svg></svg><line x1=\"17.548023370343273%\" x2=\"24.525095231006393%\" y1=\"60\" y2=\"60\" id=\"_fb_wmikxfhrgjvjetcumoyk_ind_0\" style=\"stroke:rgb(255.0, 0.0, 81.08083606031792);stroke-width:2; opacity: 0\"/><text x=\"21.03655930067483%\" y=\"71\" font-size=\"12px\" id=\"_fs_wmikxfhrgjvjetcumoyk_ind_0\" fill=\"rgb(255.0, 0.0, 81.08083606031792)\" style=\"opacity: 0\" dominant-baseline=\"middle\" text-anchor=\"middle\">0.54</text><svg x=\"17.548023370343273%\" y=\"40\" height=\"20\" width=\"6.97707186066312%\">  <svg x=\"0\" y=\"0\" width=\"100%\" height=\"100%\">    <text x=\"50%\" y=\"9\" font-size=\"12px\" fill=\"rgb(255,255,255)\" dominant-baseline=\"middle\" text-anchor=\"middle\">[CLS</text>  </svg></svg><line x1=\"11.401737871079757%\" x2=\"17.548023370343273%\" y1=\"60\" y2=\"60\" id=\"_fb_wmikxfhrgjvjetcumoyk_ind_2\" style=\"stroke:rgb(255.0, 0.0, 81.08083606031792);stroke-width:2; opacity: 0\"/><text x=\"14.474880620711515%\" y=\"71\" font-size=\"12px\" id=\"_fs_wmikxfhrgjvjetcumoyk_ind_2\" fill=\"rgb(255.0, 0.0, 81.08083606031792)\" style=\"opacity: 0\" dominant-baseline=\"middle\" text-anchor=\"middle\">0.476</text><svg x=\"11.401737871079757%\" y=\"40\" height=\"20\" width=\"6.1462854992635165%\">  <svg x=\"0\" y=\"0\" width=\"100%\" height=\"100%\">    <text x=\"50%\" y=\"9\" font-size=\"12px\" fill=\"rgb(255,255,255)\" dominant-baseline=\"middle\" text-anchor=\"middle\">television yesterday</text>  </svg></svg><line x1=\"8.333333333333334%\" x2=\"11.401737871079757%\" y1=\"60\" y2=\"60\" id=\"_fb_wmikxfhrgjvjetcumoyk_ind_3\" style=\"stroke:rgb(255.0, 0.0, 81.08083606031792);stroke-width:2; opacity: 0\"/><text x=\"9.867535602206544%\" y=\"71\" font-size=\"12px\" id=\"_fs_wmikxfhrgjvjetcumoyk_ind_3\" fill=\"rgb(255.0, 0.0, 81.08083606031792)\" style=\"opacity: 0\" dominant-baseline=\"middle\" text-anchor=\"middle\">0.238</text><svg x=\"8.333333333333334%\" y=\"40\" height=\"20\" width=\"3.0684045377464226%\">  <svg x=\"0\" y=\"0\" width=\"100%\" height=\"100%\">    <text x=\"50%\" y=\"9\" font-size=\"12px\" fill=\"rgb(255,255,255)\" dominant-baseline=\"middle\" text-anchor=\"middle\">.</text>  </svg></svg><g transform=\"translate(0,0)\">  <svg x=\"61.300747319791725%\" y=\"40\" height=\"18\" overflow=\"visible\" width=\"30\">    <path d=\"M 0 -9 l 6 18 L 0 25\" fill=\"none\" style=\"stroke:rgb(255.0, 0.0, 81.08083606031792);stroke-width:2\" />  </svg></g><g transform=\"translate(2,0)\">  <svg x=\"61.300747319791725%\" y=\"40\" height=\"18\" overflow=\"visible\" width=\"30\">    <path d=\"M 0 -9 l 6 18 L 0 25\" fill=\"none\" style=\"stroke:rgb(255.0, 0.0, 81.08083606031792);stroke-width:2\" />  </svg></g><g transform=\"translate(4,0)\">  <svg x=\"61.300747319791725%\" y=\"40\" height=\"18\" overflow=\"visible\" width=\"30\">    <path d=\"M 0 -9 l 6 18 L 0 25\" fill=\"none\" style=\"stroke:rgb(255.0, 0.0, 81.08083606031792);stroke-width:2\" />  </svg></g><g transform=\"translate(6,0)\">  <svg x=\"61.300747319791725%\" y=\"40\" height=\"18\" overflow=\"visible\" width=\"30\">    <path d=\"M 0 -9 l 6 18 L 0 25\" fill=\"none\" style=\"stroke:rgb(255.0, 0.0, 81.08083606031792);stroke-width:2\" />  </svg></g><g transform=\"translate(-8,0)\">  <svg x=\"61.300747319791725%\" y=\"40\" height=\"18\" overflow=\"visible\" width=\"30\">    <path d=\"M 0 -9 l 6 18 L 0 25\" fill=\"none\" style=\"stroke:rgb(255.0, 0.0, 81.08083606031792);stroke-width:2\" />  </svg></g><g transform=\"translate(-6,0)\">  <svg x=\"61.300747319791725%\" y=\"40\" height=\"18\" overflow=\"visible\" width=\"30\">    <path d=\"M 0 -9 l 6 18 L 0 25\" fill=\"none\" style=\"stroke:rgb(255.0, 0.0, 81.08083606031792);stroke-width:2\" />  </svg></g><g transform=\"translate(-4,0)\">  <svg x=\"61.300747319791725%\" y=\"40\" height=\"18\" overflow=\"visible\" width=\"30\">    <path d=\"M 0 -9 l 6 18 L 0 25\" fill=\"none\" style=\"stroke:rgb(255.0, 0.0, 81.08083606031792);stroke-width:2\" />  </svg></g><g transform=\"translate(-2,0)\">  <svg x=\"61.300747319791725%\" y=\"40\" height=\"18\" overflow=\"visible\" width=\"30\">    <path d=\"M 0 -9 l 6 18 L 0 25\" fill=\"none\" style=\"stroke:rgb(255.0, 0.0, 81.08083606031792);stroke-width:2\" />  </svg></g><g transform=\"translate(0,0)\">  <svg x=\"49.79147538937165%\" y=\"40\" height=\"18\" overflow=\"visible\" width=\"30\">    <path d=\"M 0 -9 l 6 18 L 0 25\" fill=\"none\" style=\"stroke:rgb(255.0, 0.0, 81.08083606031792);stroke-width:2\" />  </svg></g><g transform=\"translate(2,0)\">  <svg x=\"49.79147538937165%\" y=\"40\" height=\"18\" overflow=\"visible\" width=\"30\">    <path d=\"M 0 -9 l 6 18 L 0 25\" fill=\"none\" style=\"stroke:rgb(255.0, 0.0, 81.08083606031792);stroke-width:2\" />  </svg></g><g transform=\"translate(4,0)\">  <svg x=\"49.79147538937165%\" y=\"40\" height=\"18\" overflow=\"visible\" width=\"30\">    <path d=\"M 0 -9 l 6 18 L 0 25\" fill=\"none\" style=\"stroke:rgb(255.0, 0.0, 81.08083606031792);stroke-width:2\" />  </svg></g><g transform=\"translate(6,0)\">  <svg x=\"49.79147538937165%\" y=\"40\" height=\"18\" overflow=\"visible\" width=\"30\">    <path d=\"M 0 -9 l 6 18 L 0 25\" fill=\"none\" style=\"stroke:rgb(255.0, 0.0, 81.08083606031792);stroke-width:2\" />  </svg></g><g transform=\"translate(-8,0)\">  <svg x=\"49.79147538937165%\" y=\"40\" height=\"18\" overflow=\"visible\" width=\"30\">    <path d=\"M 0 -9 l 6 18 L 0 25\" fill=\"none\" style=\"stroke:rgb(255.0, 0.0, 81.08083606031792);stroke-width:2\" />  </svg></g><g transform=\"translate(-6,0)\">  <svg x=\"49.79147538937165%\" y=\"40\" height=\"18\" overflow=\"visible\" width=\"30\">    <path d=\"M 0 -9 l 6 18 L 0 25\" fill=\"none\" style=\"stroke:rgb(255.0, 0.0, 81.08083606031792);stroke-width:2\" />  </svg></g><g transform=\"translate(-4,0)\">  <svg x=\"49.79147538937165%\" y=\"40\" height=\"18\" overflow=\"visible\" width=\"30\">    <path d=\"M 0 -9 l 6 18 L 0 25\" fill=\"none\" style=\"stroke:rgb(255.0, 0.0, 81.08083606031792);stroke-width:2\" />  </svg></g><g transform=\"translate(-2,0)\">  <svg x=\"49.79147538937165%\" y=\"40\" height=\"18\" overflow=\"visible\" width=\"30\">    <path d=\"M 0 -9 l 6 18 L 0 25\" fill=\"none\" style=\"stroke:rgb(255.0, 0.0, 81.08083606031792);stroke-width:2\" />  </svg></g><g transform=\"translate(0,0)\">  <svg x=\"40.98197966621159%\" y=\"40\" height=\"18\" overflow=\"visible\" width=\"30\">    <path d=\"M 0 -9 l 6 18 L 0 25\" fill=\"none\" style=\"stroke:rgb(255.0, 0.0, 81.08083606031792);stroke-width:2\" />  </svg></g><g transform=\"translate(2,0)\">  <svg x=\"40.98197966621159%\" y=\"40\" height=\"18\" overflow=\"visible\" width=\"30\">    <path d=\"M 0 -9 l 6 18 L 0 25\" fill=\"none\" style=\"stroke:rgb(255.0, 0.0, 81.08083606031792);stroke-width:2\" />  </svg></g><g transform=\"translate(4,0)\">  <svg x=\"40.98197966621159%\" y=\"40\" height=\"18\" overflow=\"visible\" width=\"30\">    <path d=\"M 0 -9 l 6 18 L 0 25\" fill=\"none\" style=\"stroke:rgb(255.0, 0.0, 81.08083606031792);stroke-width:2\" />  </svg></g><g transform=\"translate(6,0)\">  <svg x=\"40.98197966621159%\" y=\"40\" height=\"18\" overflow=\"visible\" width=\"30\">    <path d=\"M 0 -9 l 6 18 L 0 25\" fill=\"none\" style=\"stroke:rgb(255.0, 0.0, 81.08083606031792);stroke-width:2\" />  </svg></g><g transform=\"translate(-8,0)\">  <svg x=\"40.98197966621159%\" y=\"40\" height=\"18\" overflow=\"visible\" width=\"30\">    <path d=\"M 0 -9 l 6 18 L 0 25\" fill=\"none\" style=\"stroke:rgb(255.0, 0.0, 81.08083606031792);stroke-width:2\" />  </svg></g><g transform=\"translate(-6,0)\">  <svg x=\"40.98197966621159%\" y=\"40\" height=\"18\" overflow=\"visible\" width=\"30\">    <path d=\"M 0 -9 l 6 18 L 0 25\" fill=\"none\" style=\"stroke:rgb(255.0, 0.0, 81.08083606031792);stroke-width:2\" />  </svg></g><g transform=\"translate(-4,0)\">  <svg x=\"40.98197966621159%\" y=\"40\" height=\"18\" overflow=\"visible\" width=\"30\">    <path d=\"M 0 -9 l 6 18 L 0 25\" fill=\"none\" style=\"stroke:rgb(255.0, 0.0, 81.08083606031792);stroke-width:2\" />  </svg></g><g transform=\"translate(-2,0)\">  <svg x=\"40.98197966621159%\" y=\"40\" height=\"18\" overflow=\"visible\" width=\"30\">    <path d=\"M 0 -9 l 6 18 L 0 25\" fill=\"none\" style=\"stroke:rgb(255.0, 0.0, 81.08083606031792);stroke-width:2\" />  </svg></g><g transform=\"translate(0,0)\">  <svg x=\"32.75319972841084%\" y=\"40\" height=\"18\" overflow=\"visible\" width=\"30\">    <path d=\"M 0 -9 l 6 18 L 0 25\" fill=\"none\" style=\"stroke:rgb(255.0, 0.0, 81.08083606031792);stroke-width:2\" />  </svg></g><g transform=\"translate(2,0)\">  <svg x=\"32.75319972841084%\" y=\"40\" height=\"18\" overflow=\"visible\" width=\"30\">    <path d=\"M 0 -9 l 6 18 L 0 25\" fill=\"none\" style=\"stroke:rgb(255.0, 0.0, 81.08083606031792);stroke-width:2\" />  </svg></g><g transform=\"translate(4,0)\">  <svg x=\"32.75319972841084%\" y=\"40\" height=\"18\" overflow=\"visible\" width=\"30\">    <path d=\"M 0 -9 l 6 18 L 0 25\" fill=\"none\" style=\"stroke:rgb(255.0, 0.0, 81.08083606031792);stroke-width:2\" />  </svg></g><g transform=\"translate(6,0)\">  <svg x=\"32.75319972841084%\" y=\"40\" height=\"18\" overflow=\"visible\" width=\"30\">    <path d=\"M 0 -9 l 6 18 L 0 25\" fill=\"none\" style=\"stroke:rgb(255.0, 0.0, 81.08083606031792);stroke-width:2\" />  </svg></g><g transform=\"translate(-8,0)\">  <svg x=\"32.75319972841084%\" y=\"40\" height=\"18\" overflow=\"visible\" width=\"30\">    <path d=\"M 0 -9 l 6 18 L 0 25\" fill=\"none\" style=\"stroke:rgb(255.0, 0.0, 81.08083606031792);stroke-width:2\" />  </svg></g><g transform=\"translate(-6,0)\">  <svg x=\"32.75319972841084%\" y=\"40\" height=\"18\" overflow=\"visible\" width=\"30\">    <path d=\"M 0 -9 l 6 18 L 0 25\" fill=\"none\" style=\"stroke:rgb(255.0, 0.0, 81.08083606031792);stroke-width:2\" />  </svg></g><g transform=\"translate(-4,0)\">  <svg x=\"32.75319972841084%\" y=\"40\" height=\"18\" overflow=\"visible\" width=\"30\">    <path d=\"M 0 -9 l 6 18 L 0 25\" fill=\"none\" style=\"stroke:rgb(255.0, 0.0, 81.08083606031792);stroke-width:2\" />  </svg></g><g transform=\"translate(-2,0)\">  <svg x=\"32.75319972841084%\" y=\"40\" height=\"18\" overflow=\"visible\" width=\"30\">    <path d=\"M 0 -9 l 6 18 L 0 25\" fill=\"none\" style=\"stroke:rgb(255.0, 0.0, 81.08083606031792);stroke-width:2\" />  </svg></g><g transform=\"translate(0,0)\">  <svg x=\"24.525095231006393%\" y=\"40\" height=\"18\" overflow=\"visible\" width=\"30\">    <path d=\"M 0 -9 l 6 18 L 0 25\" fill=\"none\" style=\"stroke:rgb(255.0, 0.0, 81.08083606031792);stroke-width:2\" />  </svg></g><g transform=\"translate(2,0)\">  <svg x=\"24.525095231006393%\" y=\"40\" height=\"18\" overflow=\"visible\" width=\"30\">    <path d=\"M 0 -9 l 6 18 L 0 25\" fill=\"none\" style=\"stroke:rgb(255.0, 0.0, 81.08083606031792);stroke-width:2\" />  </svg></g><g transform=\"translate(4,0)\">  <svg x=\"24.525095231006393%\" y=\"40\" height=\"18\" overflow=\"visible\" width=\"30\">    <path d=\"M 0 -9 l 6 18 L 0 25\" fill=\"none\" style=\"stroke:rgb(255.0, 0.0, 81.08083606031792);stroke-width:2\" />  </svg></g><g transform=\"translate(6,0)\">  <svg x=\"24.525095231006393%\" y=\"40\" height=\"18\" overflow=\"visible\" width=\"30\">    <path d=\"M 0 -9 l 6 18 L 0 25\" fill=\"none\" style=\"stroke:rgb(255.0, 0.0, 81.08083606031792);stroke-width:2\" />  </svg></g><g transform=\"translate(-8,0)\">  <svg x=\"24.525095231006393%\" y=\"40\" height=\"18\" overflow=\"visible\" width=\"30\">    <path d=\"M 0 -9 l 6 18 L 0 25\" fill=\"none\" style=\"stroke:rgb(255.0, 0.0, 81.08083606031792);stroke-width:2\" />  </svg></g><g transform=\"translate(-6,0)\">  <svg x=\"24.525095231006393%\" y=\"40\" height=\"18\" overflow=\"visible\" width=\"30\">    <path d=\"M 0 -9 l 6 18 L 0 25\" fill=\"none\" style=\"stroke:rgb(255.0, 0.0, 81.08083606031792);stroke-width:2\" />  </svg></g><g transform=\"translate(-4,0)\">  <svg x=\"24.525095231006393%\" y=\"40\" height=\"18\" overflow=\"visible\" width=\"30\">    <path d=\"M 0 -9 l 6 18 L 0 25\" fill=\"none\" style=\"stroke:rgb(255.0, 0.0, 81.08083606031792);stroke-width:2\" />  </svg></g><g transform=\"translate(-2,0)\">  <svg x=\"24.525095231006393%\" y=\"40\" height=\"18\" overflow=\"visible\" width=\"30\">    <path d=\"M 0 -9 l 6 18 L 0 25\" fill=\"none\" style=\"stroke:rgb(255.0, 0.0, 81.08083606031792);stroke-width:2\" />  </svg></g><g transform=\"translate(0,0)\">  <svg x=\"17.548023370343273%\" y=\"40\" height=\"18\" overflow=\"visible\" width=\"30\">    <path d=\"M 0 -9 l 6 18 L 0 25\" fill=\"none\" style=\"stroke:rgb(255.0, 0.0, 81.08083606031792);stroke-width:2\" />  </svg></g><g transform=\"translate(2,0)\">  <svg x=\"17.548023370343273%\" y=\"40\" height=\"18\" overflow=\"visible\" width=\"30\">    <path d=\"M 0 -9 l 6 18 L 0 25\" fill=\"none\" style=\"stroke:rgb(255.0, 0.0, 81.08083606031792);stroke-width:2\" />  </svg></g><g transform=\"translate(4,0)\">  <svg x=\"17.548023370343273%\" y=\"40\" height=\"18\" overflow=\"visible\" width=\"30\">    <path d=\"M 0 -9 l 6 18 L 0 25\" fill=\"none\" style=\"stroke:rgb(255.0, 0.0, 81.08083606031792);stroke-width:2\" />  </svg></g><g transform=\"translate(6,0)\">  <svg x=\"17.548023370343273%\" y=\"40\" height=\"18\" overflow=\"visible\" width=\"30\">    <path d=\"M 0 -9 l 6 18 L 0 25\" fill=\"none\" style=\"stroke:rgb(255.0, 0.0, 81.08083606031792);stroke-width:2\" />  </svg></g><g transform=\"translate(-8,0)\">  <svg x=\"17.548023370343273%\" y=\"40\" height=\"18\" overflow=\"visible\" width=\"30\">    <path d=\"M 0 -9 l 6 18 L 0 25\" fill=\"none\" style=\"stroke:rgb(255.0, 0.0, 81.08083606031792);stroke-width:2\" />  </svg></g><g transform=\"translate(-6,0)\">  <svg x=\"17.548023370343273%\" y=\"40\" height=\"18\" overflow=\"visible\" width=\"30\">    <path d=\"M 0 -9 l 6 18 L 0 25\" fill=\"none\" style=\"stroke:rgb(255.0, 0.0, 81.08083606031792);stroke-width:2\" />  </svg></g><g transform=\"translate(-4,0)\">  <svg x=\"17.548023370343273%\" y=\"40\" height=\"18\" overflow=\"visible\" width=\"30\">    <path d=\"M 0 -9 l 6 18 L 0 25\" fill=\"none\" style=\"stroke:rgb(255.0, 0.0, 81.08083606031792);stroke-width:2\" />  </svg></g><g transform=\"translate(-2,0)\">  <svg x=\"17.548023370343273%\" y=\"40\" height=\"18\" overflow=\"visible\" width=\"30\">    <path d=\"M 0 -9 l 6 18 L 0 25\" fill=\"none\" style=\"stroke:rgb(255.0, 0.0, 81.08083606031792);stroke-width:2\" />  </svg></g><g transform=\"translate(0,0)\">  <svg x=\"11.401737871079757%\" y=\"40\" height=\"18\" overflow=\"visible\" width=\"30\">    <path d=\"M 0 -9 l 6 18 L 0 25\" fill=\"none\" style=\"stroke:rgb(255.0, 0.0, 81.08083606031792);stroke-width:2\" />  </svg></g><g transform=\"translate(2,0)\">  <svg x=\"11.401737871079757%\" y=\"40\" height=\"18\" overflow=\"visible\" width=\"30\">    <path d=\"M 0 -9 l 6 18 L 0 25\" fill=\"none\" style=\"stroke:rgb(255.0, 0.0, 81.08083606031792);stroke-width:2\" />  </svg></g><g transform=\"translate(4,0)\">  <svg x=\"11.401737871079757%\" y=\"40\" height=\"18\" overflow=\"visible\" width=\"30\">    <path d=\"M 0 -9 l 6 18 L 0 25\" fill=\"none\" style=\"stroke:rgb(255.0, 0.0, 81.08083606031792);stroke-width:2\" />  </svg></g><g transform=\"translate(6,0)\">  <svg x=\"11.401737871079757%\" y=\"40\" height=\"18\" overflow=\"visible\" width=\"30\">    <path d=\"M 0 -9 l 6 18 L 0 25\" fill=\"none\" style=\"stroke:rgb(255.0, 0.0, 81.08083606031792);stroke-width:2\" />  </svg></g><g transform=\"translate(-8,0)\">  <svg x=\"11.401737871079757%\" y=\"40\" height=\"18\" overflow=\"visible\" width=\"30\">    <path d=\"M 0 -9 l 6 18 L 0 25\" fill=\"none\" style=\"stroke:rgb(255.0, 0.0, 81.08083606031792);stroke-width:2\" />  </svg></g><g transform=\"translate(-6,0)\">  <svg x=\"11.401737871079757%\" y=\"40\" height=\"18\" overflow=\"visible\" width=\"30\">    <path d=\"M 0 -9 l 6 18 L 0 25\" fill=\"none\" style=\"stroke:rgb(255.0, 0.0, 81.08083606031792);stroke-width:2\" />  </svg></g><g transform=\"translate(-4,0)\">  <svg x=\"11.401737871079757%\" y=\"40\" height=\"18\" overflow=\"visible\" width=\"30\">    <path d=\"M 0 -9 l 6 18 L 0 25\" fill=\"none\" style=\"stroke:rgb(255.0, 0.0, 81.08083606031792);stroke-width:2\" />  </svg></g><g transform=\"translate(-2,0)\">  <svg x=\"11.401737871079757%\" y=\"40\" height=\"18\" overflow=\"visible\" width=\"30\">    <path d=\"M 0 -9 l 6 18 L 0 25\" fill=\"none\" style=\"stroke:rgb(255.0, 0.0, 81.08083606031792);stroke-width:2\" />  </svg></g><rect transform=\"translate(-8,0)\" x=\"91.66664608383174%\" y=\"40\" width=\"8\" height=\"18\" style=\"fill:rgb(255.0, 0.0, 81.08083606031792)\"/><g transform=\"translate(-11.5,0)\">  <svg x=\"8.333333333333334%\" y=\"40\" height=\"18\" overflow=\"visible\" width=\"30\">    <path d=\"M 10 -9 l 6 18 L 10 25 L 0 25 L 0 -9\" fill=\"#ffffff\" style=\"stroke:rgb(255,255,255);stroke-width:2\" />  </svg></g><g transform=\"translate(-1.5,0)\">  <svg x=\"91.66664608383174%\" y=\"40\" height=\"18\" overflow=\"visible\" width=\"30\">    <path d=\"M 0 -9 l 6 18 L 0 25\" fill=\"none\" style=\"stroke:rgb(255, 195, 213);stroke-width:2\" />  </svg></g><rect x=\"61.300747319791725%\" y=\"40\" height=\"20\" width=\"30.36589876404001%\"      onmouseover=\"document.getElementById('_tp_wmikxfhrgjvjetcumoyk_ind_6').style.textDecoration = 'underline';document.getElementById('_fs_wmikxfhrgjvjetcumoyk_ind_6').style.opacity = 1;document.getElementById('_fb_wmikxfhrgjvjetcumoyk_ind_6').style.opacity = 1;\"      onmouseout=\"document.getElementById('_tp_wmikxfhrgjvjetcumoyk_ind_6').style.textDecoration = 'none';document.getElementById('_fs_wmikxfhrgjvjetcumoyk_ind_6').style.opacity = 0;document.getElementById('_fb_wmikxfhrgjvjetcumoyk_ind_6').style.opacity = 0;\" style=\"fill:rgb(0,0,0,0)\" /><g transform=\"translate(-1.5,0)\">  <svg x=\"61.300747319791725%\" y=\"40\" height=\"18\" overflow=\"visible\" width=\"30\">    <path d=\"M 0 -9 l 6 18 L 0 25\" fill=\"none\" style=\"stroke:rgb(255, 195, 213);stroke-width:2\" />  </svg></g><rect x=\"49.79147538937165%\" y=\"40\" height=\"20\" width=\"11.509271930420077%\"      onmouseover=\"document.getElementById('_tp_wmikxfhrgjvjetcumoyk_ind_4').style.textDecoration = 'underline';document.getElementById('_fs_wmikxfhrgjvjetcumoyk_ind_4').style.opacity = 1;document.getElementById('_fb_wmikxfhrgjvjetcumoyk_ind_4').style.opacity = 1;\"      onmouseout=\"document.getElementById('_tp_wmikxfhrgjvjetcumoyk_ind_4').style.textDecoration = 'none';document.getElementById('_fs_wmikxfhrgjvjetcumoyk_ind_4').style.opacity = 0;document.getElementById('_fb_wmikxfhrgjvjetcumoyk_ind_4').style.opacity = 0;\" style=\"fill:rgb(0,0,0,0)\" /><g transform=\"translate(-1.5,0)\">  <svg x=\"49.79147538937165%\" y=\"40\" height=\"18\" overflow=\"visible\" width=\"30\">    <path d=\"M 0 -9 l 6 18 L 0 25\" fill=\"none\" style=\"stroke:rgb(255, 195, 213);stroke-width:2\" />  </svg></g><rect x=\"40.98197966621159%\" y=\"40\" height=\"20\" width=\"8.809495723160055%\"      onmouseover=\"document.getElementById('_tp_wmikxfhrgjvjetcumoyk_ind_5').style.textDecoration = 'underline';document.getElementById('_fs_wmikxfhrgjvjetcumoyk_ind_5').style.opacity = 1;document.getElementById('_fb_wmikxfhrgjvjetcumoyk_ind_5').style.opacity = 1;\"      onmouseout=\"document.getElementById('_tp_wmikxfhrgjvjetcumoyk_ind_5').style.textDecoration = 'none';document.getElementById('_fs_wmikxfhrgjvjetcumoyk_ind_5').style.opacity = 0;document.getElementById('_fb_wmikxfhrgjvjetcumoyk_ind_5').style.opacity = 0;\" style=\"fill:rgb(0,0,0,0)\" /><g transform=\"translate(-1.5,0)\">  <svg x=\"40.98197966621159%\" y=\"40\" height=\"18\" overflow=\"visible\" width=\"30\">    <path d=\"M 0 -9 l 6 18 L 0 25\" fill=\"none\" style=\"stroke:rgb(255, 195, 213);stroke-width:2\" />  </svg></g><rect x=\"32.75319972841084%\" y=\"40\" height=\"20\" width=\"8.228779937800752%\"      onmouseover=\"document.getElementById('_tp_wmikxfhrgjvjetcumoyk_ind_1').style.textDecoration = 'underline';document.getElementById('_fs_wmikxfhrgjvjetcumoyk_ind_1').style.opacity = 1;document.getElementById('_fb_wmikxfhrgjvjetcumoyk_ind_1').style.opacity = 1;\"      onmouseout=\"document.getElementById('_tp_wmikxfhrgjvjetcumoyk_ind_1').style.textDecoration = 'none';document.getElementById('_fs_wmikxfhrgjvjetcumoyk_ind_1').style.opacity = 0;document.getElementById('_fb_wmikxfhrgjvjetcumoyk_ind_1').style.opacity = 0;\" style=\"fill:rgb(0,0,0,0)\" /><g transform=\"translate(-1.5,0)\">  <svg x=\"32.75319972841084%\" y=\"40\" height=\"18\" overflow=\"visible\" width=\"30\">    <path d=\"M 0 -9 l 6 18 L 0 25\" fill=\"none\" style=\"stroke:rgb(255, 195, 213);stroke-width:2\" />  </svg></g><rect x=\"24.525095231006393%\" y=\"40\" height=\"20\" width=\"8.228104497404448%\"      onmouseover=\"document.getElementById('_tp_wmikxfhrgjvjetcumoyk_ind_7').style.textDecoration = 'underline';document.getElementById('_fs_wmikxfhrgjvjetcumoyk_ind_7').style.opacity = 1;document.getElementById('_fb_wmikxfhrgjvjetcumoyk_ind_7').style.opacity = 1;\"      onmouseout=\"document.getElementById('_tp_wmikxfhrgjvjetcumoyk_ind_7').style.textDecoration = 'none';document.getElementById('_fs_wmikxfhrgjvjetcumoyk_ind_7').style.opacity = 0;document.getElementById('_fb_wmikxfhrgjvjetcumoyk_ind_7').style.opacity = 0;\" style=\"fill:rgb(0,0,0,0)\" /><g transform=\"translate(-1.5,0)\">  <svg x=\"24.525095231006393%\" y=\"40\" height=\"18\" overflow=\"visible\" width=\"30\">    <path d=\"M 0 -9 l 6 18 L 0 25\" fill=\"none\" style=\"stroke:rgb(255, 195, 213);stroke-width:2\" />  </svg></g><rect x=\"17.548023370343273%\" y=\"40\" height=\"20\" width=\"6.97707186066312%\"      onmouseover=\"document.getElementById('_tp_wmikxfhrgjvjetcumoyk_ind_0').style.textDecoration = 'underline';document.getElementById('_fs_wmikxfhrgjvjetcumoyk_ind_0').style.opacity = 1;document.getElementById('_fb_wmikxfhrgjvjetcumoyk_ind_0').style.opacity = 1;\"      onmouseout=\"document.getElementById('_tp_wmikxfhrgjvjetcumoyk_ind_0').style.textDecoration = 'none';document.getElementById('_fs_wmikxfhrgjvjetcumoyk_ind_0').style.opacity = 0;document.getElementById('_fb_wmikxfhrgjvjetcumoyk_ind_0').style.opacity = 0;\" style=\"fill:rgb(0,0,0,0)\" /><g transform=\"translate(-1.5,0)\">  <svg x=\"17.548023370343273%\" y=\"40\" height=\"18\" overflow=\"visible\" width=\"30\">    <path d=\"M 0 -9 l 6 18 L 0 25\" fill=\"none\" style=\"stroke:rgb(255, 195, 213);stroke-width:2\" />  </svg></g><rect x=\"11.401737871079757%\" y=\"40\" height=\"20\" width=\"6.1462854992635165%\"      onmouseover=\"document.getElementById('_tp_wmikxfhrgjvjetcumoyk_ind_2').style.textDecoration = 'underline';document.getElementById('_fs_wmikxfhrgjvjetcumoyk_ind_2').style.opacity = 1;document.getElementById('_fb_wmikxfhrgjvjetcumoyk_ind_2').style.opacity = 1;\"      onmouseout=\"document.getElementById('_tp_wmikxfhrgjvjetcumoyk_ind_2').style.textDecoration = 'none';document.getElementById('_fs_wmikxfhrgjvjetcumoyk_ind_2').style.opacity = 0;document.getElementById('_fb_wmikxfhrgjvjetcumoyk_ind_2').style.opacity = 0;\" style=\"fill:rgb(0,0,0,0)\" /><rect x=\"8.333333333333334%\" y=\"40\" height=\"20\" width=\"3.0684045377464226%\"      onmouseover=\"document.getElementById('_tp_wmikxfhrgjvjetcumoyk_ind_3').style.textDecoration = 'underline';document.getElementById('_fs_wmikxfhrgjvjetcumoyk_ind_3').style.opacity = 1;document.getElementById('_fb_wmikxfhrgjvjetcumoyk_ind_3').style.opacity = 1;\"      onmouseout=\"document.getElementById('_tp_wmikxfhrgjvjetcumoyk_ind_3').style.textDecoration = 'none';document.getElementById('_fs_wmikxfhrgjvjetcumoyk_ind_3').style.opacity = 0;document.getElementById('_fb_wmikxfhrgjvjetcumoyk_ind_3').style.opacity = 0;\" style=\"fill:rgb(0,0,0,0)\" /><rect x=\"91.66664608383174%\" width=\"2.0582834942106953e-05%\" y=\"40\" height=\"18\" style=\"fill:rgb(0.0, 138.56128015770724, 250.76166088685727); stroke-width:0; stroke:rgb(0,0,0)\" /><line x1=\"91.66664608383174%\" x2=\"91.66666666666667%\" y1=\"60\" y2=\"60\" id=\"_fb_wmikxfhrgjvjetcumoyk_ind_8\" style=\"stroke:rgb(0.0, 138.56128015770724, 250.76166088685727);stroke-width:2; opacity: 0\"/><text x=\"91.6666563752492%\" y=\"71\" font-size=\"12px\" fill=\"rgb(0.0, 138.56128015770724, 250.76166088685727)\" id=\"_fs_wmikxfhrgjvjetcumoyk_ind_8\" style=\"opacity: 0\" dominant-baseline=\"middle\" text-anchor=\"middle\">-0.0</text><svg x=\"91.66664608383174%\" y=\"40\" height=\"20\" width=\"2.058283493511226e-05%\">  <svg x=\"0\" y=\"0\" width=\"100%\" height=\"100%\">    <text x=\"50%\" y=\"9\" font-size=\"12px\" fill=\"rgb(255,255,255)\" dominant-baseline=\"middle\" text-anchor=\"middle\"></text>  </svg></svg><rect transform=\"translate(0,0)\" x=\"91.66664608383174%\" y=\"40\" width=\"8\" height=\"18\" style=\"fill:rgb(0.0, 138.56128015770724, 250.76166088685727)\"/><g transform=\"translate(-6.0,0)\">  <svg x=\"91.66666666666667%\" y=\"40\" height=\"18\" overflow=\"visible\" width=\"30\">    <path d=\"M 8 -9 l -6 18 L 8 25 L 20 25 L 20 -9\" fill=\"#ffffff\" style=\"stroke:rgb(255,255,255);stroke-width:2\" />  </svg></g><rect x=\"91.66664608383174%\" y=\"40\" height=\"20\" width=\"2.058283493511226e-05%\"      onmouseover=\"document.getElementById('_tp_wmikxfhrgjvjetcumoyk_ind_8').style.textDecoration = 'underline';document.getElementById('_fs_wmikxfhrgjvjetcumoyk_ind_8').style.opacity = 1;document.getElementById('_fb_wmikxfhrgjvjetcumoyk_ind_8').style.opacity = 1;\"      onmouseout=\"document.getElementById('_tp_wmikxfhrgjvjetcumoyk_ind_8').style.textDecoration = 'none';document.getElementById('_fs_wmikxfhrgjvjetcumoyk_ind_8').style.opacity = 0;document.getElementById('_fb_wmikxfhrgjvjetcumoyk_ind_8').style.opacity = 0;\" style=\"fill:rgb(0,0,0,0)\" /></svg><div style='display: inline; text-align: center;'><div style='display: none; color: #999; padding-top: 0px; font-size: 12px;'>0.54 / 4</div><div id='_tp_wmikxfhrgjvjetcumoyk_ind_0'style='display: inline; background: rgba(255.0, 13.0, 87.0, 0.8581105169340464); border-radius: 3px; padding: 0px'onclick=\"if (this.previousSibling.style.display == 'none') {this.previousSibling.style.display = 'block';this.parentNode.style.display = 'inline-block';} else {this.previousSibling.style.display = 'none';this.parentNode.style.display = 'inline';}\"onmouseover=\"document.getElementById('_fb_wmikxfhrgjvjetcumoyk_ind_0').style.opacity = 1; document.getElementById('_fs_wmikxfhrgjvjetcumoyk_ind_0').style.opacity = 1;\"onmouseout=\"document.getElementById('_fb_wmikxfhrgjvjetcumoyk_ind_0').style.opacity = 0; document.getElementById('_fs_wmikxfhrgjvjetcumoyk_ind_0').style.opacity = 0;\">[CLS</div></div><div style='display: inline; text-align: center;'><div style='display: none; color: #999; padding-top: 0px; font-size: 12px;'>0.637 / 4</div><div id='_tp_wmikxfhrgjvjetcumoyk_ind_1'style='display: inline; background: rgba(255.0, 13.0, 87.0, 1.0); border-radius: 3px; padding: 0px'onclick=\"if (this.previousSibling.style.display == 'none') {this.previousSibling.style.display = 'block';this.parentNode.style.display = 'inline-block';} else {this.previousSibling.style.display = 'none';this.parentNode.style.display = 'inline';}\"onmouseover=\"document.getElementById('_fb_wmikxfhrgjvjetcumoyk_ind_1').style.opacity = 1; document.getElementById('_fs_wmikxfhrgjvjetcumoyk_ind_1').style.opacity = 1;\"onmouseout=\"document.getElementById('_fb_wmikxfhrgjvjetcumoyk_ind_1').style.opacity = 0; document.getElementById('_fs_wmikxfhrgjvjetcumoyk_ind_1').style.opacity = 0;\">] I was watching </div></div><div style='display: inline; text-align: center;'><div style='display: none; color: #999; padding-top: 0px; font-size: 12px;'>0.476 / 2</div><div id='_tp_wmikxfhrgjvjetcumoyk_ind_2'style='display: inline; background: rgba(255.0, 13.0, 87.0, 0.755634779164191); border-radius: 3px; padding: 0px'onclick=\"if (this.previousSibling.style.display == 'none') {this.previousSibling.style.display = 'block';this.parentNode.style.display = 'inline-block';} else {this.previousSibling.style.display = 'none';this.parentNode.style.display = 'inline';}\"onmouseover=\"document.getElementById('_fb_wmikxfhrgjvjetcumoyk_ind_2').style.opacity = 1; document.getElementById('_fs_wmikxfhrgjvjetcumoyk_ind_2').style.opacity = 1;\"onmouseout=\"document.getElementById('_fb_wmikxfhrgjvjetcumoyk_ind_2').style.opacity = 0; document.getElementById('_fs_wmikxfhrgjvjetcumoyk_ind_2').style.opacity = 0;\">television yesterday</div></div><div style='display: inline; text-align: center;'><div style='display: none; color: #999; padding-top: 0px; font-size: 12px;'>0.238</div><div id='_tp_wmikxfhrgjvjetcumoyk_ind_3'style='display: inline; background: rgba(255.0, 13.0, 87.0, 0.3693800752624282); border-radius: 3px; padding: 0px'onclick=\"if (this.previousSibling.style.display == 'none') {this.previousSibling.style.display = 'block';this.parentNode.style.display = 'inline-block';} else {this.previousSibling.style.display = 'none';this.parentNode.style.display = 'inline';}\"onmouseover=\"document.getElementById('_fb_wmikxfhrgjvjetcumoyk_ind_3').style.opacity = 1; document.getElementById('_fs_wmikxfhrgjvjetcumoyk_ind_3').style.opacity = 1;\"onmouseout=\"document.getElementById('_fb_wmikxfhrgjvjetcumoyk_ind_3').style.opacity = 0; document.getElementById('_fs_wmikxfhrgjvjetcumoyk_ind_3').style.opacity = 0;\">. </div></div><div style='display: inline; text-align: center;'><div style='display: none; color: #999; padding-top: 0px; font-size: 12px;'>0.892 / 4</div><div id='_tp_wmikxfhrgjvjetcumoyk_ind_4'style='display: inline; background: rgba(255.0, 13.0, 87.0, 1.0); border-radius: 3px; padding: 0px'onclick=\"if (this.previousSibling.style.display == 'none') {this.previousSibling.style.display = 'block';this.parentNode.style.display = 'inline-block';} else {this.previousSibling.style.display = 'none';this.parentNode.style.display = 'inline';}\"onmouseover=\"document.getElementById('_fb_wmikxfhrgjvjetcumoyk_ind_4').style.opacity = 1; document.getElementById('_fs_wmikxfhrgjvjetcumoyk_ind_4').style.opacity = 1;\"onmouseout=\"document.getElementById('_fb_wmikxfhrgjvjetcumoyk_ind_4').style.opacity = 0; document.getElementById('_fs_wmikxfhrgjvjetcumoyk_ind_4').style.opacity = 0;\">I came across a </div></div><div style='display: inline; text-align: center;'><div style='display: none; color: #999; padding-top: 0px; font-size: 12px;'>0.682 / 4</div><div id='_tp_wmikxfhrgjvjetcumoyk_ind_5'style='display: inline; background: rgba(255.0, 13.0, 87.0, 1.0); border-radius: 3px; padding: 0px'onclick=\"if (this.previousSibling.style.display == 'none') {this.previousSibling.style.display = 'block';this.parentNode.style.display = 'inline-block';} else {this.previousSibling.style.display = 'none';this.parentNode.style.display = 'inline';}\"onmouseover=\"document.getElementById('_fb_wmikxfhrgjvjetcumoyk_ind_5').style.opacity = 1; document.getElementById('_fs_wmikxfhrgjvjetcumoyk_ind_5').style.opacity = 1;\"onmouseout=\"document.getElementById('_fb_wmikxfhrgjvjetcumoyk_ind_5').style.opacity = 0; document.getElementById('_fs_wmikxfhrgjvjetcumoyk_ind_5').style.opacity = 0;\">rerun of one </div></div><div style='display: inline; text-align: center;'><div style='display: none; color: #999; padding-top: 0px; font-size: 12px;'>2.352 / 4</div><div id='_tp_wmikxfhrgjvjetcumoyk_ind_6'style='display: inline; background: rgba(255.0, 13.0, 87.0, 1.0); border-radius: 3px; padding: 0px'onclick=\"if (this.previousSibling.style.display == 'none') {this.previousSibling.style.display = 'block';this.parentNode.style.display = 'inline-block';} else {this.previousSibling.style.display = 'none';this.parentNode.style.display = 'inline';}\"onmouseover=\"document.getElementById('_fb_wmikxfhrgjvjetcumoyk_ind_6').style.opacity = 1; document.getElementById('_fs_wmikxfhrgjvjetcumoyk_ind_6').style.opacity = 1;\"onmouseout=\"document.getElementById('_fb_wmikxfhrgjvjetcumoyk_ind_6').style.opacity = 0; document.getElementById('_fs_wmikxfhrgjvjetcumoyk_ind_6').style.opacity = 0;\">of my favorite shows </div></div><div style='display: inline; text-align: center;'><div style='display: none; color: #999; padding-top: 0px; font-size: 12px;'>0.637 / 4</div><div id='_tp_wmikxfhrgjvjetcumoyk_ind_7'style='display: inline; background: rgba(255.0, 13.0, 87.0, 1.0); border-radius: 3px; padding: 0px'onclick=\"if (this.previousSibling.style.display == 'none') {this.previousSibling.style.display = 'block';this.parentNode.style.display = 'inline-block';} else {this.previousSibling.style.display = 'none';this.parentNode.style.display = 'inline';}\"onmouseover=\"document.getElementById('_fb_wmikxfhrgjvjetcumoyk_ind_7').style.opacity = 1; document.getElementById('_fs_wmikxfhrgjvjetcumoyk_ind_7').style.opacity = 1;\"onmouseout=\"document.getElementById('_fb_wmikxfhrgjvjetcumoyk_ind_7').style.opacity = 0; document.getElementById('_fs_wmikxfhrgjvjetcumoyk_ind_7').style.opacity = 0;\">as a kid.</div></div><div style='display: inline; text-align: center;'><div style='display: none; color: #999; padding-top: 0px; font-size: 12px;'>-0.0</div><div id='_tp_wmikxfhrgjvjetcumoyk_ind_8'style='display: inline; background: rgba(54.70588235294111, 122.49411764705886, 213.40784313725496, 0.0); border-radius: 3px; padding: 0px'onclick=\"if (this.previousSibling.style.display == 'none') {this.previousSibling.style.display = 'block';this.parentNode.style.display = 'inline-block';} else {this.previousSibling.style.display = 'none';this.parentNode.style.display = 'inline';}\"onmouseover=\"document.getElementById('_fb_wmikxfhrgjvjetcumoyk_ind_8').style.opacity = 1; document.getElementById('_fs_wmikxfhrgjvjetcumoyk_ind_8').style.opacity = 1;\"onmouseout=\"document.getElementById('_fb_wmikxfhrgjvjetcumoyk_ind_8').style.opacity = 0; document.getElementById('_fs_wmikxfhrgjvjetcumoyk_ind_8').style.opacity = 0;\"></div></div>"
            ],
            "text/plain": [
              "<IPython.core.display.HTML object>"
            ]
          },
          "metadata": {
            "tags": []
          }
        }
      ]
    },
    {
      "cell_type": "markdown",
      "metadata": {
        "id": "RbIW46DUkmk_"
      },
      "source": [
        "#### Waterfall plot"
      ]
    },
    {
      "cell_type": "code",
      "metadata": {
        "id": "cLXnP_oSW0R3",
        "colab": {
          "base_uri": "https://localhost:8080/",
          "height": 462
        },
        "outputId": "79df4d8b-bd16-4809-b1d6-1409c34c74a8"
      },
      "source": [
        "shap.plots.waterfall(shap_values[8])\n",
        "\n",
        "if SAVE_FIGS==True:\n",
        "  figure = plt.gcf()\n",
        "  figure.savefig(f\"interpretability-shap-plots-waterfall\", dpi=300)"
      ],
      "execution_count": 91,
      "outputs": [
        {
          "output_type": "display_data",
          "data": {
            "image/png": "[encoded data removed]",
            "text/plain": [
              "<Figure size 576x468 with 3 Axes>"
            ]
          },
          "metadata": {
            "tags": []
          }
        },
        {
          "output_type": "display_data",
          "data": {
            "text/plain": [
              "<Figure size 432x288 with 0 Axes>"
            ]
          },
          "metadata": {
            "tags": []
          }
        }
      ]
    },
    {
      "cell_type": "markdown",
      "metadata": {
        "id": "fmKI_34QkpMW"
      },
      "source": [
        "#### Force plot"
      ]
    },
    {
      "cell_type": "code",
      "metadata": {
        "colab": {
          "base_uri": "https://localhost:8080/",
          "height": 282
        },
        "id": "RzLFLQIRab99",
        "outputId": "9e1b3afe-da09-4c7f-b076-59dc30dea101"
      },
      "source": [
        "shap.plots.force(shap_values[8], matplotlib=True)\n",
        "\n",
        "if SAVE_FIGS==True:\n",
        "  figure = plt.gcf()\n",
        "  figure.savefig(f\"interpretability-shap-plots-force\", dpi=300)"
      ],
      "execution_count": 98,
      "outputs": [
        {
          "output_type": "display_data",
          "data": {
            "image/png": "[encoded data removed]",
            "text/plain": [
              "<Figure size 1440x216 with 1 Axes>"
            ]
          },
          "metadata": {
            "tags": [],
            "needs_background": "light"
          }
        },
        {
          "output_type": "display_data",
          "data": {
            "text/plain": [
              "<Figure size 432x288 with 0 Axes>"
            ]
          },
          "metadata": {
            "tags": []
          }
        }
      ]
    },
    {
      "cell_type": "markdown",
      "metadata": {
        "id": "qDZx8Mg6kvg0"
      },
      "source": [
        "#### Bar plot"
      ]
    },
    {
      "cell_type": "code",
      "metadata": {
        "colab": {
          "base_uri": "https://localhost:8080/",
          "height": 418
        },
        "id": "0UM47jHcj9GL",
        "outputId": "640df301-ba53-4a81-9ef4-6de00e56d86c"
      },
      "source": [
        "shap.plots.bar(shap_values[8])\n",
        "\n",
        "if SAVE_FIGS==True:\n",
        "  figure = plt.gcf()\n",
        "  figure.savefig(f\"interpretability-shap-plots-bar\", dpi=300)"
      ],
      "execution_count": 106,
      "outputs": [
        {
          "output_type": "display_data",
          "data": {
            "image/png": "[encoded data removed]",
            "text/plain": [
              "<Figure size 576x468 with 1 Axes>"
            ]
          },
          "metadata": {
            "tags": []
          }
        }
      ]
    },
    {
      "cell_type": "markdown",
      "metadata": {
        "id": "eWxsq37slPdi"
      },
      "source": [
        "### Comparing utilities"
      ]
    },
    {
      "cell_type": "code",
      "metadata": {
        "id": "1jyx4fbLlSCv"
      },
      "source": [
        "# Examples to visualize and compare\n",
        "\n",
        "sentence_a = \"I went to the shop.\"\n",
        "sentence_b = \"I went to the shop and bought my friend a Birthday present.\"\n",
        "\n",
        "examples = [sentence_a, sentence_b]"
      ],
      "execution_count": 115,
      "outputs": []
    },
    {
      "cell_type": "code",
      "metadata": {
        "id": "Zz1EkHXqlobZ"
      },
      "source": [
        "# Compute Shapley values\n",
        "\n",
        "explainer = shap.Explainer(predict_utility, tokenizer)\n",
        "shap_values = explainer(examples)"
      ],
      "execution_count": 116,
      "outputs": []
    },
    {
      "cell_type": "markdown",
      "metadata": {
        "id": "5PNZijCmmHnm"
      },
      "source": [
        "#### Text plot comparison"
      ]
    },
    {
      "cell_type": "code",
      "metadata": {
        "colab": {
          "base_uri": "https://localhost:8080/",
          "height": 120
        },
        "id": "gwcWuw3JlzIy",
        "outputId": "34ca2f83-d6c5-406d-af26-0cd38fb5505d"
      },
      "source": [
        "shap.plots.text(shap_values[0])"
      ],
      "execution_count": 118,
      "outputs": [
        {
          "output_type": "display_data",
          "data": {
            "text/html": [
              "<svg width=\"100%\" height=\"80px\"><line x1=\"0\" y1=\"33\" x2=\"100%\" y2=\"33\" style=\"stroke:rgb(150,150,150);stroke-width:1\" /><line x1=\"17.827244%\" y1=\"33\" x2=\"17.827244%\" y2=\"37\" style=\"stroke:rgb(150,150,150);stroke-width:1\" /><text x=\"17.827244%\" y=\"27\" font-size=\"12px\" fill=\"rgb(120,120,120)\" dominant-baseline=\"bottom\" text-anchor=\"middle\">-1.200203</text><text x=\"17.827244%\" y=\"10\" font-size=\"12px\" fill=\"rgb(120,120,120)\" dominant-baseline=\"bottom\" text-anchor=\"middle\">base value</text><line x1=\"32.112958%\" y1=\"33\" x2=\"32.112958%\" y2=\"37\" style=\"stroke:rgb(150,150,150);stroke-width:1\" /><text x=\"32.112958%\" y=\"27\" font-size=\"12px\" fill=\"rgb(120,120,120)\" dominant-baseline=\"bottom\" text-anchor=\"middle\">-1.024274</text><line x1=\"46.398673%\" y1=\"33\" x2=\"46.398673%\" y2=\"37\" style=\"stroke:rgb(150,150,150);stroke-width:1\" /><text x=\"46.398673%\" y=\"27\" font-size=\"12px\" fill=\"rgb(120,120,120)\" dominant-baseline=\"bottom\" text-anchor=\"middle\">-0.848345</text><line x1=\"60.684387%\" y1=\"33\" x2=\"60.684387%\" y2=\"37\" style=\"stroke:rgb(150,150,150);stroke-width:1\" /><text x=\"60.684387%\" y=\"27\" font-size=\"12px\" fill=\"rgb(120,120,120)\" dominant-baseline=\"bottom\" text-anchor=\"middle\">-0.672415</text><line x1=\"74.970101%\" y1=\"33\" x2=\"74.970101%\" y2=\"37\" style=\"stroke:rgb(150,150,150);stroke-width:1\" /><text x=\"74.970101%\" y=\"27\" font-size=\"12px\" fill=\"rgb(120,120,120)\" dominant-baseline=\"bottom\" text-anchor=\"middle\">-0.496486</text><line x1=\"89.255815%\" y1=\"33\" x2=\"89.255815%\" y2=\"37\" style=\"stroke:rgb(150,150,150);stroke-width:1\" /><text x=\"89.255815%\" y=\"27\" font-size=\"12px\" fill=\"rgb(120,120,120)\" dominant-baseline=\"bottom\" text-anchor=\"middle\">-0.320557</text><line x1=\"82.172756%\" y1=\"33\" x2=\"82.172756%\" y2=\"37\" style=\"stroke:rgb(150,150,150);stroke-width:1\" /><text x=\"82.172756%\" y=\"27\" font-size=\"13px\" style=\"stroke:#ffffff;stroke-width:8px;\" font-weight=\"bold\" fill=\"rgb(255,255,255)\" dominant-baseline=\"bottom\" text-anchor=\"middle\">-0.407785</text><text x=\"82.172756%\" y=\"27\" font-size=\"13px\" font-weight=\"bold\" fill=\"rgb(0,0,0)\" dominant-baseline=\"bottom\" text-anchor=\"middle\">-0.407785</text><text x=\"82.172756%\" y=\"10\" font-size=\"12px\" fill=\"rgb(120,120,120)\" dominant-baseline=\"bottom\" text-anchor=\"middle\">f(x)</text><rect x=\"8.333333333333336%\" width=\"73.83942266122887%\" y=\"40\" height=\"18\" style=\"fill:rgb(255.0, 0.0, 81.08083606031792); stroke-width:0; stroke:rgb(0,0,0)\" /><line x1=\"45.195171375301726%\" x2=\"82.1727559945622%\" y1=\"60\" y2=\"60\" id=\"_fb_ykwmutsyzeeayziqjpfx_ind_1\" style=\"stroke:rgb(255.0, 0.0, 81.08083606031792);stroke-width:2; opacity: 0\"/><text x=\"63.68396368493196%\" y=\"71\" font-size=\"12px\" id=\"_fs_ykwmutsyzeeayziqjpfx_ind_1\" fill=\"rgb(255.0, 0.0, 81.08083606031792)\" style=\"opacity: 0\" dominant-baseline=\"middle\" text-anchor=\"middle\">0.455</text><svg x=\"45.195171375301726%\" y=\"40\" height=\"20\" width=\"36.97758461926047%\">  <svg x=\"0\" y=\"0\" width=\"100%\" height=\"100%\">    <text x=\"50%\" y=\"9\" font-size=\"12px\" fill=\"rgb(255,255,255)\" dominant-baseline=\"middle\" text-anchor=\"middle\">went</text>  </svg></svg><line x1=\"31.051948812454267%\" x2=\"45.195171375301726%\" y1=\"60\" y2=\"60\" id=\"_fb_ykwmutsyzeeayziqjpfx_ind_2\" style=\"stroke:rgb(255.0, 0.0, 81.08083606031792);stroke-width:2; opacity: 0\"/><text x=\"38.123560093878%\" y=\"71\" font-size=\"12px\" id=\"_fs_ykwmutsyzeeayziqjpfx_ind_2\" fill=\"rgb(255.0, 0.0, 81.08083606031792)\" style=\"opacity: 0\" dominant-baseline=\"middle\" text-anchor=\"middle\">0.174</text><svg x=\"31.051948812454267%\" y=\"40\" height=\"20\" width=\"14.143222562847459%\">  <svg x=\"0\" y=\"0\" width=\"100%\" height=\"100%\">    <text x=\"50%\" y=\"9\" font-size=\"12px\" fill=\"rgb(255,255,255)\" dominant-baseline=\"middle\" text-anchor=\"middle\">to</text>  </svg></svg><line x1=\"17.338315679221886%\" x2=\"31.051948812454267%\" y1=\"60\" y2=\"60\" id=\"_fb_ykwmutsyzeeayziqjpfx_ind_4\" style=\"stroke:rgb(255.0, 0.0, 81.08083606031792);stroke-width:2; opacity: 0\"/><text x=\"24.195132245838074%\" y=\"71\" font-size=\"12px\" id=\"_fs_ykwmutsyzeeayziqjpfx_ind_4\" fill=\"rgb(255.0, 0.0, 81.08083606031792)\" style=\"opacity: 0\" dominant-baseline=\"middle\" text-anchor=\"middle\">0.169</text><svg x=\"17.338315679221886%\" y=\"40\" height=\"20\" width=\"13.713633133232381%\">  <svg x=\"0\" y=\"0\" width=\"100%\" height=\"100%\">    <text x=\"50%\" y=\"9\" font-size=\"12px\" fill=\"rgb(255,255,255)\" dominant-baseline=\"middle\" text-anchor=\"middle\">shop</text>  </svg></svg><line x1=\"10.570771274501295%\" x2=\"17.338315679221886%\" y1=\"60\" y2=\"60\" id=\"_fb_ykwmutsyzeeayziqjpfx_ind_3\" style=\"stroke:rgb(255.0, 0.0, 81.08083606031792);stroke-width:2; opacity: 0\"/><text x=\"13.954543476861591%\" y=\"71\" font-size=\"12px\" id=\"_fs_ykwmutsyzeeayziqjpfx_ind_3\" fill=\"rgb(255.0, 0.0, 81.08083606031792)\" style=\"opacity: 0\" dominant-baseline=\"middle\" text-anchor=\"middle\">0.083</text><svg x=\"10.570771274501295%\" y=\"40\" height=\"20\" width=\"6.76754440472059%\">  <svg x=\"0\" y=\"0\" width=\"100%\" height=\"100%\">    <text x=\"50%\" y=\"9\" font-size=\"12px\" fill=\"rgb(255,255,255)\" dominant-baseline=\"middle\" text-anchor=\"middle\">the</text>  </svg></svg><line x1=\"8.333333333333336%\" x2=\"10.570771274501295%\" y1=\"60\" y2=\"60\" id=\"_fb_ykwmutsyzeeayziqjpfx_ind_0\" style=\"stroke:rgb(255.0, 0.0, 81.08083606031792);stroke-width:2; opacity: 0\"/><text x=\"9.452052303917316%\" y=\"71\" font-size=\"12px\" id=\"_fs_ykwmutsyzeeayziqjpfx_ind_0\" fill=\"rgb(255.0, 0.0, 81.08083606031792)\" style=\"opacity: 0\" dominant-baseline=\"middle\" text-anchor=\"middle\">0.028</text><svg x=\"8.333333333333336%\" y=\"40\" height=\"20\" width=\"2.2374379411679595%\">  <svg x=\"0\" y=\"0\" width=\"100%\" height=\"100%\">    <text x=\"50%\" y=\"9\" font-size=\"12px\" fill=\"rgb(255,255,255)\" dominant-baseline=\"middle\" text-anchor=\"middle\">I</text>  </svg></svg><g transform=\"translate(0,0)\">  <svg x=\"45.195171375301726%\" y=\"40\" height=\"18\" overflow=\"visible\" width=\"30\">    <path d=\"M 0 -9 l 6 18 L 0 25\" fill=\"none\" style=\"stroke:rgb(255.0, 0.0, 81.08083606031792);stroke-width:2\" />  </svg></g><g transform=\"translate(2,0)\">  <svg x=\"45.195171375301726%\" y=\"40\" height=\"18\" overflow=\"visible\" width=\"30\">    <path d=\"M 0 -9 l 6 18 L 0 25\" fill=\"none\" style=\"stroke:rgb(255.0, 0.0, 81.08083606031792);stroke-width:2\" />  </svg></g><g transform=\"translate(4,0)\">  <svg x=\"45.195171375301726%\" y=\"40\" height=\"18\" overflow=\"visible\" width=\"30\">    <path d=\"M 0 -9 l 6 18 L 0 25\" fill=\"none\" style=\"stroke:rgb(255.0, 0.0, 81.08083606031792);stroke-width:2\" />  </svg></g><g transform=\"translate(6,0)\">  <svg x=\"45.195171375301726%\" y=\"40\" height=\"18\" overflow=\"visible\" width=\"30\">    <path d=\"M 0 -9 l 6 18 L 0 25\" fill=\"none\" style=\"stroke:rgb(255.0, 0.0, 81.08083606031792);stroke-width:2\" />  </svg></g><g transform=\"translate(-8,0)\">  <svg x=\"45.195171375301726%\" y=\"40\" height=\"18\" overflow=\"visible\" width=\"30\">    <path d=\"M 0 -9 l 6 18 L 0 25\" fill=\"none\" style=\"stroke:rgb(255.0, 0.0, 81.08083606031792);stroke-width:2\" />  </svg></g><g transform=\"translate(-6,0)\">  <svg x=\"45.195171375301726%\" y=\"40\" height=\"18\" overflow=\"visible\" width=\"30\">    <path d=\"M 0 -9 l 6 18 L 0 25\" fill=\"none\" style=\"stroke:rgb(255.0, 0.0, 81.08083606031792);stroke-width:2\" />  </svg></g><g transform=\"translate(-4,0)\">  <svg x=\"45.195171375301726%\" y=\"40\" height=\"18\" overflow=\"visible\" width=\"30\">    <path d=\"M 0 -9 l 6 18 L 0 25\" fill=\"none\" style=\"stroke:rgb(255.0, 0.0, 81.08083606031792);stroke-width:2\" />  </svg></g><g transform=\"translate(-2,0)\">  <svg x=\"45.195171375301726%\" y=\"40\" height=\"18\" overflow=\"visible\" width=\"30\">    <path d=\"M 0 -9 l 6 18 L 0 25\" fill=\"none\" style=\"stroke:rgb(255.0, 0.0, 81.08083606031792);stroke-width:2\" />  </svg></g><g transform=\"translate(0,0)\">  <svg x=\"31.051948812454267%\" y=\"40\" height=\"18\" overflow=\"visible\" width=\"30\">    <path d=\"M 0 -9 l 6 18 L 0 25\" fill=\"none\" style=\"stroke:rgb(255.0, 0.0, 81.08083606031792);stroke-width:2\" />  </svg></g><g transform=\"translate(2,0)\">  <svg x=\"31.051948812454267%\" y=\"40\" height=\"18\" overflow=\"visible\" width=\"30\">    <path d=\"M 0 -9 l 6 18 L 0 25\" fill=\"none\" style=\"stroke:rgb(255.0, 0.0, 81.08083606031792);stroke-width:2\" />  </svg></g><g transform=\"translate(4,0)\">  <svg x=\"31.051948812454267%\" y=\"40\" height=\"18\" overflow=\"visible\" width=\"30\">    <path d=\"M 0 -9 l 6 18 L 0 25\" fill=\"none\" style=\"stroke:rgb(255.0, 0.0, 81.08083606031792);stroke-width:2\" />  </svg></g><g transform=\"translate(6,0)\">  <svg x=\"31.051948812454267%\" y=\"40\" height=\"18\" overflow=\"visible\" width=\"30\">    <path d=\"M 0 -9 l 6 18 L 0 25\" fill=\"none\" style=\"stroke:rgb(255.0, 0.0, 81.08083606031792);stroke-width:2\" />  </svg></g><g transform=\"translate(-8,0)\">  <svg x=\"31.051948812454267%\" y=\"40\" height=\"18\" overflow=\"visible\" width=\"30\">    <path d=\"M 0 -9 l 6 18 L 0 25\" fill=\"none\" style=\"stroke:rgb(255.0, 0.0, 81.08083606031792);stroke-width:2\" />  </svg></g><g transform=\"translate(-6,0)\">  <svg x=\"31.051948812454267%\" y=\"40\" height=\"18\" overflow=\"visible\" width=\"30\">    <path d=\"M 0 -9 l 6 18 L 0 25\" fill=\"none\" style=\"stroke:rgb(255.0, 0.0, 81.08083606031792);stroke-width:2\" />  </svg></g><g transform=\"translate(-4,0)\">  <svg x=\"31.051948812454267%\" y=\"40\" height=\"18\" overflow=\"visible\" width=\"30\">    <path d=\"M 0 -9 l 6 18 L 0 25\" fill=\"none\" style=\"stroke:rgb(255.0, 0.0, 81.08083606031792);stroke-width:2\" />  </svg></g><g transform=\"translate(-2,0)\">  <svg x=\"31.051948812454267%\" y=\"40\" height=\"18\" overflow=\"visible\" width=\"30\">    <path d=\"M 0 -9 l 6 18 L 0 25\" fill=\"none\" style=\"stroke:rgb(255.0, 0.0, 81.08083606031792);stroke-width:2\" />  </svg></g><g transform=\"translate(0,0)\">  <svg x=\"17.338315679221886%\" y=\"40\" height=\"18\" overflow=\"visible\" width=\"30\">    <path d=\"M 0 -9 l 6 18 L 0 25\" fill=\"none\" style=\"stroke:rgb(255.0, 0.0, 81.08083606031792);stroke-width:2\" />  </svg></g><g transform=\"translate(2,0)\">  <svg x=\"17.338315679221886%\" y=\"40\" height=\"18\" overflow=\"visible\" width=\"30\">    <path d=\"M 0 -9 l 6 18 L 0 25\" fill=\"none\" style=\"stroke:rgb(255.0, 0.0, 81.08083606031792);stroke-width:2\" />  </svg></g><g transform=\"translate(4,0)\">  <svg x=\"17.338315679221886%\" y=\"40\" height=\"18\" overflow=\"visible\" width=\"30\">    <path d=\"M 0 -9 l 6 18 L 0 25\" fill=\"none\" style=\"stroke:rgb(255.0, 0.0, 81.08083606031792);stroke-width:2\" />  </svg></g><g transform=\"translate(6,0)\">  <svg x=\"17.338315679221886%\" y=\"40\" height=\"18\" overflow=\"visible\" width=\"30\">    <path d=\"M 0 -9 l 6 18 L 0 25\" fill=\"none\" style=\"stroke:rgb(255.0, 0.0, 81.08083606031792);stroke-width:2\" />  </svg></g><g transform=\"translate(-8,0)\">  <svg x=\"17.338315679221886%\" y=\"40\" height=\"18\" overflow=\"visible\" width=\"30\">    <path d=\"M 0 -9 l 6 18 L 0 25\" fill=\"none\" style=\"stroke:rgb(255.0, 0.0, 81.08083606031792);stroke-width:2\" />  </svg></g><g transform=\"translate(-6,0)\">  <svg x=\"17.338315679221886%\" y=\"40\" height=\"18\" overflow=\"visible\" width=\"30\">    <path d=\"M 0 -9 l 6 18 L 0 25\" fill=\"none\" style=\"stroke:rgb(255.0, 0.0, 81.08083606031792);stroke-width:2\" />  </svg></g><g transform=\"translate(-4,0)\">  <svg x=\"17.338315679221886%\" y=\"40\" height=\"18\" overflow=\"visible\" width=\"30\">    <path d=\"M 0 -9 l 6 18 L 0 25\" fill=\"none\" style=\"stroke:rgb(255.0, 0.0, 81.08083606031792);stroke-width:2\" />  </svg></g><g transform=\"translate(-2,0)\">  <svg x=\"17.338315679221886%\" y=\"40\" height=\"18\" overflow=\"visible\" width=\"30\">    <path d=\"M 0 -9 l 6 18 L 0 25\" fill=\"none\" style=\"stroke:rgb(255.0, 0.0, 81.08083606031792);stroke-width:2\" />  </svg></g><g transform=\"translate(0,0)\">  <svg x=\"10.570771274501295%\" y=\"40\" height=\"18\" overflow=\"visible\" width=\"30\">    <path d=\"M 0 -9 l 6 18 L 0 25\" fill=\"none\" style=\"stroke:rgb(255.0, 0.0, 81.08083606031792);stroke-width:2\" />  </svg></g><g transform=\"translate(2,0)\">  <svg x=\"10.570771274501295%\" y=\"40\" height=\"18\" overflow=\"visible\" width=\"30\">    <path d=\"M 0 -9 l 6 18 L 0 25\" fill=\"none\" style=\"stroke:rgb(255.0, 0.0, 81.08083606031792);stroke-width:2\" />  </svg></g><g transform=\"translate(4,0)\">  <svg x=\"10.570771274501295%\" y=\"40\" height=\"18\" overflow=\"visible\" width=\"30\">    <path d=\"M 0 -9 l 6 18 L 0 25\" fill=\"none\" style=\"stroke:rgb(255.0, 0.0, 81.08083606031792);stroke-width:2\" />  </svg></g><g transform=\"translate(6,0)\">  <svg x=\"10.570771274501295%\" y=\"40\" height=\"18\" overflow=\"visible\" width=\"30\">    <path d=\"M 0 -9 l 6 18 L 0 25\" fill=\"none\" style=\"stroke:rgb(255.0, 0.0, 81.08083606031792);stroke-width:2\" />  </svg></g><g transform=\"translate(-8,0)\">  <svg x=\"10.570771274501295%\" y=\"40\" height=\"18\" overflow=\"visible\" width=\"30\">    <path d=\"M 0 -9 l 6 18 L 0 25\" fill=\"none\" style=\"stroke:rgb(255.0, 0.0, 81.08083606031792);stroke-width:2\" />  </svg></g><g transform=\"translate(-6,0)\">  <svg x=\"10.570771274501295%\" y=\"40\" height=\"18\" overflow=\"visible\" width=\"30\">    <path d=\"M 0 -9 l 6 18 L 0 25\" fill=\"none\" style=\"stroke:rgb(255.0, 0.0, 81.08083606031792);stroke-width:2\" />  </svg></g><g transform=\"translate(-4,0)\">  <svg x=\"10.570771274501295%\" y=\"40\" height=\"18\" overflow=\"visible\" width=\"30\">    <path d=\"M 0 -9 l 6 18 L 0 25\" fill=\"none\" style=\"stroke:rgb(255.0, 0.0, 81.08083606031792);stroke-width:2\" />  </svg></g><g transform=\"translate(-2,0)\">  <svg x=\"10.570771274501295%\" y=\"40\" height=\"18\" overflow=\"visible\" width=\"30\">    <path d=\"M 0 -9 l 6 18 L 0 25\" fill=\"none\" style=\"stroke:rgb(255.0, 0.0, 81.08083606031792);stroke-width:2\" />  </svg></g><rect transform=\"translate(-8,0)\" x=\"82.1727559945622%\" y=\"40\" width=\"8\" height=\"18\" style=\"fill:rgb(255.0, 0.0, 81.08083606031792)\"/><g transform=\"translate(-11.5,0)\">  <svg x=\"8.333333333333336%\" y=\"40\" height=\"18\" overflow=\"visible\" width=\"30\">    <path d=\"M 10 -9 l 6 18 L 10 25 L 0 25 L 0 -9\" fill=\"#ffffff\" style=\"stroke:rgb(255,255,255);stroke-width:2\" />  </svg></g><g transform=\"translate(-1.5,0)\">  <svg x=\"82.1727559945622%\" y=\"40\" height=\"18\" overflow=\"visible\" width=\"30\">    <path d=\"M 0 -9 l 6 18 L 0 25\" fill=\"none\" style=\"stroke:rgb(255, 195, 213);stroke-width:2\" />  </svg></g><rect x=\"45.195171375301726%\" y=\"40\" height=\"20\" width=\"36.97758461926047%\"      onmouseover=\"document.getElementById('_tp_ykwmutsyzeeayziqjpfx_ind_1').style.textDecoration = 'underline';document.getElementById('_fs_ykwmutsyzeeayziqjpfx_ind_1').style.opacity = 1;document.getElementById('_fb_ykwmutsyzeeayziqjpfx_ind_1').style.opacity = 1;\"      onmouseout=\"document.getElementById('_tp_ykwmutsyzeeayziqjpfx_ind_1').style.textDecoration = 'none';document.getElementById('_fs_ykwmutsyzeeayziqjpfx_ind_1').style.opacity = 0;document.getElementById('_fb_ykwmutsyzeeayziqjpfx_ind_1').style.opacity = 0;\" style=\"fill:rgb(0,0,0,0)\" /><g transform=\"translate(-1.5,0)\">  <svg x=\"45.195171375301726%\" y=\"40\" height=\"18\" overflow=\"visible\" width=\"30\">    <path d=\"M 0 -9 l 6 18 L 0 25\" fill=\"none\" style=\"stroke:rgb(255, 195, 213);stroke-width:2\" />  </svg></g><rect x=\"31.051948812454267%\" y=\"40\" height=\"20\" width=\"14.143222562847459%\"      onmouseover=\"document.getElementById('_tp_ykwmutsyzeeayziqjpfx_ind_2').style.textDecoration = 'underline';document.getElementById('_fs_ykwmutsyzeeayziqjpfx_ind_2').style.opacity = 1;document.getElementById('_fb_ykwmutsyzeeayziqjpfx_ind_2').style.opacity = 1;\"      onmouseout=\"document.getElementById('_tp_ykwmutsyzeeayziqjpfx_ind_2').style.textDecoration = 'none';document.getElementById('_fs_ykwmutsyzeeayziqjpfx_ind_2').style.opacity = 0;document.getElementById('_fb_ykwmutsyzeeayziqjpfx_ind_2').style.opacity = 0;\" style=\"fill:rgb(0,0,0,0)\" /><g transform=\"translate(-1.5,0)\">  <svg x=\"31.051948812454267%\" y=\"40\" height=\"18\" overflow=\"visible\" width=\"30\">    <path d=\"M 0 -9 l 6 18 L 0 25\" fill=\"none\" style=\"stroke:rgb(255, 195, 213);stroke-width:2\" />  </svg></g><rect x=\"17.338315679221886%\" y=\"40\" height=\"20\" width=\"13.713633133232381%\"      onmouseover=\"document.getElementById('_tp_ykwmutsyzeeayziqjpfx_ind_4').style.textDecoration = 'underline';document.getElementById('_fs_ykwmutsyzeeayziqjpfx_ind_4').style.opacity = 1;document.getElementById('_fb_ykwmutsyzeeayziqjpfx_ind_4').style.opacity = 1;\"      onmouseout=\"document.getElementById('_tp_ykwmutsyzeeayziqjpfx_ind_4').style.textDecoration = 'none';document.getElementById('_fs_ykwmutsyzeeayziqjpfx_ind_4').style.opacity = 0;document.getElementById('_fb_ykwmutsyzeeayziqjpfx_ind_4').style.opacity = 0;\" style=\"fill:rgb(0,0,0,0)\" /><g transform=\"translate(-1.5,0)\">  <svg x=\"17.338315679221886%\" y=\"40\" height=\"18\" overflow=\"visible\" width=\"30\">    <path d=\"M 0 -9 l 6 18 L 0 25\" fill=\"none\" style=\"stroke:rgb(255, 195, 213);stroke-width:2\" />  </svg></g><rect x=\"10.570771274501295%\" y=\"40\" height=\"20\" width=\"6.76754440472059%\"      onmouseover=\"document.getElementById('_tp_ykwmutsyzeeayziqjpfx_ind_3').style.textDecoration = 'underline';document.getElementById('_fs_ykwmutsyzeeayziqjpfx_ind_3').style.opacity = 1;document.getElementById('_fb_ykwmutsyzeeayziqjpfx_ind_3').style.opacity = 1;\"      onmouseout=\"document.getElementById('_tp_ykwmutsyzeeayziqjpfx_ind_3').style.textDecoration = 'none';document.getElementById('_fs_ykwmutsyzeeayziqjpfx_ind_3').style.opacity = 0;document.getElementById('_fb_ykwmutsyzeeayziqjpfx_ind_3').style.opacity = 0;\" style=\"fill:rgb(0,0,0,0)\" /><rect x=\"8.333333333333336%\" y=\"40\" height=\"20\" width=\"2.2374379411679595%\"      onmouseover=\"document.getElementById('_tp_ykwmutsyzeeayziqjpfx_ind_0').style.textDecoration = 'underline';document.getElementById('_fs_ykwmutsyzeeayziqjpfx_ind_0').style.opacity = 1;document.getElementById('_fb_ykwmutsyzeeayziqjpfx_ind_0').style.opacity = 1;\"      onmouseout=\"document.getElementById('_tp_ykwmutsyzeeayziqjpfx_ind_0').style.textDecoration = 'none';document.getElementById('_fs_ykwmutsyzeeayziqjpfx_ind_0').style.opacity = 0;document.getElementById('_fb_ykwmutsyzeeayziqjpfx_ind_0').style.opacity = 0;\" style=\"fill:rgb(0,0,0,0)\" /><rect x=\"82.1727559945622%\" width=\"9.493910672104466%\" y=\"40\" height=\"18\" style=\"fill:rgb(0.0, 138.56128015770724, 250.76166088685727); stroke-width:0; stroke:rgb(0,0,0)\" /><line x1=\"82.1727559945622%\" x2=\"91.66661100683928%\" y1=\"60\" y2=\"60\" id=\"_fb_ykwmutsyzeeayziqjpfx_ind_5\" style=\"stroke:rgb(0.0, 138.56128015770724, 250.76166088685727);stroke-width:2; opacity: 0\"/><text x=\"86.91968350070073%\" y=\"71\" font-size=\"12px\" fill=\"rgb(0.0, 138.56128015770724, 250.76166088685727)\" id=\"_fs_ykwmutsyzeeayziqjpfx_ind_5\" style=\"opacity: 0\" dominant-baseline=\"middle\" text-anchor=\"middle\">-0.117</text><svg x=\"82.1727559945622%\" y=\"40\" height=\"20\" width=\"9.49385501227708%\">  <svg x=\"0\" y=\"0\" width=\"100%\" height=\"100%\">    <text x=\"50%\" y=\"9\" font-size=\"12px\" fill=\"rgb(255,255,255)\" dominant-baseline=\"middle\" text-anchor=\"middle\">.</text>  </svg></svg><line x1=\"91.66661100683928%\" x2=\"91.66666666666666%\" y1=\"60\" y2=\"60\" id=\"_fb_ykwmutsyzeeayziqjpfx_ind_6\" style=\"stroke:rgb(0.0, 138.56128015770724, 250.76166088685727);stroke-width:2; opacity: 0\"/><text x=\"91.66663883675297%\" y=\"71\" font-size=\"12px\" fill=\"rgb(0.0, 138.56128015770724, 250.76166088685727)\" id=\"_fs_ykwmutsyzeeayziqjpfx_ind_6\" style=\"opacity: 0\" dominant-baseline=\"middle\" text-anchor=\"middle\">-0.0</text><svg x=\"91.66661100683928%\" y=\"40\" height=\"20\" width=\"5.5659827381759897e-05%\">  <svg x=\"0\" y=\"0\" width=\"100%\" height=\"100%\">    <text x=\"50%\" y=\"9\" font-size=\"12px\" fill=\"rgb(255,255,255)\" dominant-baseline=\"middle\" text-anchor=\"middle\"></text>  </svg></svg><g transform=\"translate(-8,0)\">  <svg x=\"91.66661100683928%\" y=\"40\" height=\"18\" overflow=\"visible\" width=\"30\">    <path d=\"M 8 -9 l -6 18 L 8 25\" fill=\"none\" style=\"stroke:rgb(0.0, 138.56128015770724, 250.76166088685727);stroke-width:2\" />  </svg></g><g transform=\"translate(-10,0)\">  <svg x=\"91.66661100683928%\" y=\"40\" height=\"18\" overflow=\"visible\" width=\"30\">    <path d=\"M 8 -9 l -6 18 L 8 25\" fill=\"none\" style=\"stroke:rgb(0.0, 138.56128015770724, 250.76166088685727);stroke-width:2\" />  </svg></g><g transform=\"translate(-12,0)\">  <svg x=\"91.66661100683928%\" y=\"40\" height=\"18\" overflow=\"visible\" width=\"30\">    <path d=\"M 8 -9 l -6 18 L 8 25\" fill=\"none\" style=\"stroke:rgb(0.0, 138.56128015770724, 250.76166088685727);stroke-width:2\" />  </svg></g><g transform=\"translate(-14,0)\">  <svg x=\"91.66661100683928%\" y=\"40\" height=\"18\" overflow=\"visible\" width=\"30\">    <path d=\"M 8 -9 l -6 18 L 8 25\" fill=\"none\" style=\"stroke:rgb(0.0, 138.56128015770724, 250.76166088685727);stroke-width:2\" />  </svg></g><g transform=\"translate(2,0)\">  <svg x=\"91.66661100683928%\" y=\"40\" height=\"18\" overflow=\"visible\" width=\"30\">    <path d=\"M 8 -9 l -6 18 L 8 25\" fill=\"none\" style=\"stroke:rgb(0.0, 138.56128015770724, 250.76166088685727);stroke-width:2\" />  </svg></g><g transform=\"translate(0,0)\">  <svg x=\"91.66661100683928%\" y=\"40\" height=\"18\" overflow=\"visible\" width=\"30\">    <path d=\"M 8 -9 l -6 18 L 8 25\" fill=\"none\" style=\"stroke:rgb(0.0, 138.56128015770724, 250.76166088685727);stroke-width:2\" />  </svg></g><g transform=\"translate(-2,0)\">  <svg x=\"91.66661100683928%\" y=\"40\" height=\"18\" overflow=\"visible\" width=\"30\">    <path d=\"M 8 -9 l -6 18 L 8 25\" fill=\"none\" style=\"stroke:rgb(0.0, 138.56128015770724, 250.76166088685727);stroke-width:2\" />  </svg></g><g transform=\"translate(-4,0)\">  <svg x=\"91.66661100683928%\" y=\"40\" height=\"18\" overflow=\"visible\" width=\"30\">    <path d=\"M 8 -9 l -6 18 L 8 25\" fill=\"none\" style=\"stroke:rgb(0.0, 138.56128015770724, 250.76166088685727);stroke-width:2\" />  </svg></g><rect transform=\"translate(0,0)\" x=\"82.1727559945622%\" y=\"40\" width=\"8\" height=\"18\" style=\"fill:rgb(0.0, 138.56128015770724, 250.76166088685727)\"/><g transform=\"translate(-6.0,0)\">  <svg x=\"91.66666666666666%\" y=\"40\" height=\"18\" overflow=\"visible\" width=\"30\">    <path d=\"M 8 -9 l -6 18 L 8 25 L 20 25 L 20 -9\" fill=\"#ffffff\" style=\"stroke:rgb(255,255,255);stroke-width:2\" />  </svg></g><g transform=\"translate(-6.0,0)\">  <svg x=\"91.66661100683928%\" y=\"40\" height=\"18\" overflow=\"visible\" width=\"30\">    <path d=\"M 8 -9 l -6 18 L 8 25\" fill=\"none\" style=\"stroke:rgb(208, 230, 250);stroke-width:2\" />  </svg></g><rect x=\"82.1727559945622%\" y=\"40\" height=\"20\" width=\"9.49385501227708%\"      onmouseover=\"document.getElementById('_tp_ykwmutsyzeeayziqjpfx_ind_5').style.textDecoration = 'underline';document.getElementById('_fs_ykwmutsyzeeayziqjpfx_ind_5').style.opacity = 1;document.getElementById('_fb_ykwmutsyzeeayziqjpfx_ind_5').style.opacity = 1;\"      onmouseout=\"document.getElementById('_tp_ykwmutsyzeeayziqjpfx_ind_5').style.textDecoration = 'none';document.getElementById('_fs_ykwmutsyzeeayziqjpfx_ind_5').style.opacity = 0;document.getElementById('_fb_ykwmutsyzeeayziqjpfx_ind_5').style.opacity = 0;\" style=\"fill:rgb(0,0,0,0)\" /><rect x=\"91.66661100683928%\" y=\"40\" height=\"20\" width=\"5.5659827381759897e-05%\"      onmouseover=\"document.getElementById('_tp_ykwmutsyzeeayziqjpfx_ind_6').style.textDecoration = 'underline';document.getElementById('_fs_ykwmutsyzeeayziqjpfx_ind_6').style.opacity = 1;document.getElementById('_fb_ykwmutsyzeeayziqjpfx_ind_6').style.opacity = 1;\"      onmouseout=\"document.getElementById('_tp_ykwmutsyzeeayziqjpfx_ind_6').style.textDecoration = 'none';document.getElementById('_fs_ykwmutsyzeeayziqjpfx_ind_6').style.opacity = 0;document.getElementById('_fb_ykwmutsyzeeayziqjpfx_ind_6').style.opacity = 0;\" style=\"fill:rgb(0,0,0,0)\" /></svg><div style='display: inline; text-align: center;'><div style='display: none; color: #999; padding-top: 0px; font-size: 12px;'>0.028 / 2</div><div id='_tp_ykwmutsyzeeayziqjpfx_ind_0'style='display: inline; background: rgba(255.0, 13.0, 87.0, 0.05407011289364243); border-radius: 3px; padding: 0px'onclick=\"if (this.previousSibling.style.display == 'none') {this.previousSibling.style.display = 'block';this.parentNode.style.display = 'inline-block';} else {this.previousSibling.style.display = 'none';this.parentNode.style.display = 'inline';}\"onmouseover=\"document.getElementById('_fb_ykwmutsyzeeayziqjpfx_ind_0').style.opacity = 1; document.getElementById('_fs_ykwmutsyzeeayziqjpfx_ind_0').style.opacity = 1;\"onmouseout=\"document.getElementById('_fb_ykwmutsyzeeayziqjpfx_ind_0').style.opacity = 0; document.getElementById('_fs_ykwmutsyzeeayziqjpfx_ind_0').style.opacity = 0;\">I </div></div><div style='display: inline; text-align: center;'><div style='display: none; color: #999; padding-top: 0px; font-size: 12px;'>0.455</div><div id='_tp_ykwmutsyzeeayziqjpfx_ind_1'style='display: inline; background: rgba(255.0, 13.0, 87.0, 1.0); border-radius: 3px; padding: 0px'onclick=\"if (this.previousSibling.style.display == 'none') {this.previousSibling.style.display = 'block';this.parentNode.style.display = 'inline-block';} else {this.previousSibling.style.display = 'none';this.parentNode.style.display = 'inline';}\"onmouseover=\"document.getElementById('_fb_ykwmutsyzeeayziqjpfx_ind_1').style.opacity = 1; document.getElementById('_fs_ykwmutsyzeeayziqjpfx_ind_1').style.opacity = 1;\"onmouseout=\"document.getElementById('_fb_ykwmutsyzeeayziqjpfx_ind_1').style.opacity = 0; document.getElementById('_fs_ykwmutsyzeeayziqjpfx_ind_1').style.opacity = 0;\">went </div></div><div style='display: inline; text-align: center;'><div style='display: none; color: #999; padding-top: 0px; font-size: 12px;'>0.174</div><div id='_tp_ykwmutsyzeeayziqjpfx_ind_2'style='display: inline; background: rgba(255.0, 13.0, 87.0, 0.3772628243216479); border-radius: 3px; padding: 0px'onclick=\"if (this.previousSibling.style.display == 'none') {this.previousSibling.style.display = 'block';this.parentNode.style.display = 'inline-block';} else {this.previousSibling.style.display = 'none';this.parentNode.style.display = 'inline';}\"onmouseover=\"document.getElementById('_fb_ykwmutsyzeeayziqjpfx_ind_2').style.opacity = 1; document.getElementById('_fs_ykwmutsyzeeayziqjpfx_ind_2').style.opacity = 1;\"onmouseout=\"document.getElementById('_fb_ykwmutsyzeeayziqjpfx_ind_2').style.opacity = 0; document.getElementById('_fs_ykwmutsyzeeayziqjpfx_ind_2').style.opacity = 0;\">to </div></div><div style='display: inline; text-align: center;'><div style='display: none; color: #999; padding-top: 0px; font-size: 12px;'>0.083</div><div id='_tp_ykwmutsyzeeayziqjpfx_ind_3'style='display: inline; background: rgba(255.0, 13.0, 87.0, 0.18019409784115661); border-radius: 3px; padding: 0px'onclick=\"if (this.previousSibling.style.display == 'none') {this.previousSibling.style.display = 'block';this.parentNode.style.display = 'inline-block';} else {this.previousSibling.style.display = 'none';this.parentNode.style.display = 'inline';}\"onmouseover=\"document.getElementById('_fb_ykwmutsyzeeayziqjpfx_ind_3').style.opacity = 1; document.getElementById('_fs_ykwmutsyzeeayziqjpfx_ind_3').style.opacity = 1;\"onmouseout=\"document.getElementById('_fb_ykwmutsyzeeayziqjpfx_ind_3').style.opacity = 0; document.getElementById('_fs_ykwmutsyzeeayziqjpfx_ind_3').style.opacity = 0;\">the </div></div><div style='display: inline; text-align: center;'><div style='display: none; color: #999; padding-top: 0px; font-size: 12px;'>0.169</div><div id='_tp_ykwmutsyzeeayziqjpfx_ind_4'style='display: inline; background: rgba(255.0, 13.0, 87.0, 0.3693800752624282); border-radius: 3px; padding: 0px'onclick=\"if (this.previousSibling.style.display == 'none') {this.previousSibling.style.display = 'block';this.parentNode.style.display = 'inline-block';} else {this.previousSibling.style.display = 'none';this.parentNode.style.display = 'inline';}\"onmouseover=\"document.getElementById('_fb_ykwmutsyzeeayziqjpfx_ind_4').style.opacity = 1; document.getElementById('_fs_ykwmutsyzeeayziqjpfx_ind_4').style.opacity = 1;\"onmouseout=\"document.getElementById('_fb_ykwmutsyzeeayziqjpfx_ind_4').style.opacity = 0; document.getElementById('_fs_ykwmutsyzeeayziqjpfx_ind_4').style.opacity = 0;\">shop</div></div><div style='display: inline; text-align: center;'><div style='display: none; color: #999; padding-top: 0px; font-size: 12px;'>-0.117</div><div id='_tp_ykwmutsyzeeayziqjpfx_ind_5'style='display: inline; background: rgba(30.0, 136.0, 229.0, 0.25113883937413345); border-radius: 3px; padding: 0px'onclick=\"if (this.previousSibling.style.display == 'none') {this.previousSibling.style.display = 'block';this.parentNode.style.display = 'inline-block';} else {this.previousSibling.style.display = 'none';this.parentNode.style.display = 'inline';}\"onmouseover=\"document.getElementById('_fb_ykwmutsyzeeayziqjpfx_ind_5').style.opacity = 1; document.getElementById('_fs_ykwmutsyzeeayziqjpfx_ind_5').style.opacity = 1;\"onmouseout=\"document.getElementById('_fb_ykwmutsyzeeayziqjpfx_ind_5').style.opacity = 0; document.getElementById('_fs_ykwmutsyzeeayziqjpfx_ind_5').style.opacity = 0;\">.</div></div><div style='display: inline; text-align: center;'><div style='display: none; color: #999; padding-top: 0px; font-size: 12px;'>-0.0</div><div id='_tp_ykwmutsyzeeayziqjpfx_ind_6'style='display: inline; background: rgba(54.70588235294111, 122.49411764705886, 213.40784313725496, 0.0); border-radius: 3px; padding: 0px'onclick=\"if (this.previousSibling.style.display == 'none') {this.previousSibling.style.display = 'block';this.parentNode.style.display = 'inline-block';} else {this.previousSibling.style.display = 'none';this.parentNode.style.display = 'inline';}\"onmouseover=\"document.getElementById('_fb_ykwmutsyzeeayziqjpfx_ind_6').style.opacity = 1; document.getElementById('_fs_ykwmutsyzeeayziqjpfx_ind_6').style.opacity = 1;\"onmouseout=\"document.getElementById('_fb_ykwmutsyzeeayziqjpfx_ind_6').style.opacity = 0; document.getElementById('_fs_ykwmutsyzeeayziqjpfx_ind_6').style.opacity = 0;\"></div></div>"
            ],
            "text/plain": [
              "<IPython.core.display.HTML object>"
            ]
          },
          "metadata": {
            "tags": []
          }
        }
      ]
    },
    {
      "cell_type": "code",
      "metadata": {
        "colab": {
          "base_uri": "https://localhost:8080/",
          "height": 120
        },
        "id": "2AWe6bDEmEu1",
        "outputId": "ad738e1c-6b5a-4605-b39a-6f4dec17f432"
      },
      "source": [
        "shap.plots.text(shap_values[1])"
      ],
      "execution_count": 119,
      "outputs": [
        {
          "output_type": "display_data",
          "data": {
            "text/html": [
              "<svg width=\"100%\" height=\"80px\"><line x1=\"0\" y1=\"33\" x2=\"100%\" y2=\"33\" style=\"stroke:rgb(150,150,150);stroke-width:1\" /><line x1=\"9.957995%\" y1=\"33\" x2=\"9.957995%\" y2=\"37\" style=\"stroke:rgb(150,150,150);stroke-width:1\" /><text x=\"9.957995%\" y=\"27\" font-size=\"12px\" fill=\"rgb(120,120,120)\" dominant-baseline=\"bottom\" text-anchor=\"middle\">-1.227526</text><text x=\"9.957995%\" y=\"10\" font-size=\"12px\" fill=\"rgb(120,120,120)\" dominant-baseline=\"bottom\" text-anchor=\"middle\">base value</text><line x1=\"24.243710%\" y1=\"33\" x2=\"24.243710%\" y2=\"37\" style=\"stroke:rgb(150,150,150);stroke-width:1\" /><text x=\"24.243710%\" y=\"27\" font-size=\"12px\" fill=\"rgb(120,120,120)\" dominant-baseline=\"bottom\" text-anchor=\"middle\">-0.308863</text><line x1=\"38.529424%\" y1=\"33\" x2=\"38.529424%\" y2=\"37\" style=\"stroke:rgb(150,150,150);stroke-width:1\" /><text x=\"38.529424%\" y=\"27\" font-size=\"12px\" fill=\"rgb(120,120,120)\" dominant-baseline=\"bottom\" text-anchor=\"middle\">0.609800</text><line x1=\"52.815138%\" y1=\"33\" x2=\"52.815138%\" y2=\"37\" style=\"stroke:rgb(150,150,150);stroke-width:1\" /><text x=\"52.815138%\" y=\"27\" font-size=\"12px\" fill=\"rgb(120,120,120)\" dominant-baseline=\"bottom\" text-anchor=\"middle\">1.528462</text><line x1=\"67.100853%\" y1=\"33\" x2=\"67.100853%\" y2=\"37\" style=\"stroke:rgb(150,150,150);stroke-width:1\" /><text x=\"67.100853%\" y=\"27\" font-size=\"12px\" fill=\"rgb(120,120,120)\" dominant-baseline=\"bottom\" text-anchor=\"middle\">2.447125</text><line x1=\"81.386567%\" y1=\"33\" x2=\"81.386567%\" y2=\"37\" style=\"stroke:rgb(150,150,150);stroke-width:1\" /><text x=\"81.386567%\" y=\"27\" font-size=\"12px\" fill=\"rgb(120,120,120)\" dominant-baseline=\"bottom\" text-anchor=\"middle\">3.365788</text><line x1=\"90.042005%\" y1=\"33\" x2=\"90.042005%\" y2=\"37\" style=\"stroke:rgb(150,150,150);stroke-width:1\" /><text x=\"90.042005%\" y=\"27\" font-size=\"13px\" style=\"stroke:#ffffff;stroke-width:8px;\" font-weight=\"bold\" fill=\"rgb(255,255,255)\" dominant-baseline=\"bottom\" text-anchor=\"middle\">3.922388</text><text x=\"90.042005%\" y=\"27\" font-size=\"13px\" font-weight=\"bold\" fill=\"rgb(0,0,0)\" dominant-baseline=\"bottom\" text-anchor=\"middle\">3.922388</text><text x=\"90.042005%\" y=\"10\" font-size=\"12px\" fill=\"rgb(120,120,120)\" dominant-baseline=\"bottom\" text-anchor=\"middle\">f(x)</text><rect x=\"8.333333333333336%\" width=\"81.7086712105431%\" y=\"40\" height=\"18\" style=\"fill:rgb(255.0, 0.0, 81.08083606031792); stroke-width:0; stroke:rgb(0,0,0)\" /><line x1=\"63.018893261349056%\" x2=\"90.04200454387646%\" y1=\"60\" y2=\"60\" id=\"_fb_swrmvuqybglrhmbueaya_ind_5\" style=\"stroke:rgb(255.0, 0.0, 81.08083606031792);stroke-width:2; opacity: 0\"/><text x=\"76.53044890261276%\" y=\"71\" font-size=\"12px\" id=\"_fs_swrmvuqybglrhmbueaya_ind_5\" fill=\"rgb(255.0, 0.0, 81.08083606031792)\" style=\"opacity: 0\" dominant-baseline=\"middle\" text-anchor=\"middle\">1.738</text><svg x=\"63.018893261349056%\" y=\"40\" height=\"20\" width=\"27.023111282527402%\">  <svg x=\"0\" y=\"0\" width=\"100%\" height=\"100%\">    <text x=\"50%\" y=\"9\" font-size=\"12px\" fill=\"rgb(255,255,255)\" dominant-baseline=\"middle\" text-anchor=\"middle\">a Birthday present</text>  </svg></svg><line x1=\"44.09516867342768%\" x2=\"63.018893261349056%\" y1=\"60\" y2=\"60\" id=\"_fb_swrmvuqybglrhmbueaya_ind_3\" style=\"stroke:rgb(255.0, 0.0, 81.08083606031792);stroke-width:2; opacity: 0\"/><text x=\"53.55703096738837%\" y=\"71\" font-size=\"12px\" id=\"_fs_swrmvuqybglrhmbueaya_ind_3\" fill=\"rgb(255.0, 0.0, 81.08083606031792)\" style=\"opacity: 0\" dominant-baseline=\"middle\" text-anchor=\"middle\">1.217</text><svg x=\"44.09516867342768%\" y=\"40\" height=\"20\" width=\"18.923724587921377%\">  <svg x=\"0\" y=\"0\" width=\"100%\" height=\"100%\">    <text x=\"50%\" y=\"9\" font-size=\"12px\" fill=\"rgb(255,255,255)\" dominant-baseline=\"middle\" text-anchor=\"middle\">and bought</text>  </svg></svg><line x1=\"28.86103868755006%\" x2=\"44.09516867342768%\" y1=\"60\" y2=\"60\" id=\"_fb_swrmvuqybglrhmbueaya_ind_4\" style=\"stroke:rgb(255.0, 0.0, 81.08083606031792);stroke-width:2; opacity: 0\"/><text x=\"36.47810368048887%\" y=\"71\" font-size=\"12px\" id=\"_fs_swrmvuqybglrhmbueaya_ind_4\" fill=\"rgb(255.0, 0.0, 81.08083606031792)\" style=\"opacity: 0\" dominant-baseline=\"middle\" text-anchor=\"middle\">0.98</text><svg x=\"28.86103868755006%\" y=\"40\" height=\"20\" width=\"15.234129985877619%\">  <svg x=\"0\" y=\"0\" width=\"100%\" height=\"100%\">    <text x=\"50%\" y=\"9\" font-size=\"12px\" fill=\"rgb(255,255,255)\" dominant-baseline=\"middle\" text-anchor=\"middle\">my friend</text>  </svg></svg><line x1=\"20.691642996661713%\" x2=\"28.86103868755006%\" y1=\"60\" y2=\"60\" id=\"_fb_swrmvuqybglrhmbueaya_ind_1\" style=\"stroke:rgb(255.0, 0.0, 81.08083606031792);stroke-width:2; opacity: 0\"/><text x=\"24.77634084210589%\" y=\"71\" font-size=\"12px\" id=\"_fs_swrmvuqybglrhmbueaya_ind_1\" fill=\"rgb(255.0, 0.0, 81.08083606031792)\" style=\"opacity: 0\" dominant-baseline=\"middle\" text-anchor=\"middle\">0.525</text><svg x=\"20.691642996661713%\" y=\"40\" height=\"20\" width=\"8.169395690888347%\">  <svg x=\"0\" y=\"0\" width=\"100%\" height=\"100%\">    <text x=\"50%\" y=\"9\" font-size=\"12px\" fill=\"rgb(255,255,255)\" dominant-baseline=\"middle\" text-anchor=\"middle\">went to</text>  </svg></svg><line x1=\"14.14280761421983%\" x2=\"20.691642996661713%\" y1=\"60\" y2=\"60\" id=\"_fb_swrmvuqybglrhmbueaya_ind_2\" style=\"stroke:rgb(255.0, 0.0, 81.08083606031792);stroke-width:2; opacity: 0\"/><text x=\"17.417225305440773%\" y=\"71\" font-size=\"12px\" id=\"_fs_swrmvuqybglrhmbueaya_ind_2\" fill=\"rgb(255.0, 0.0, 81.08083606031792)\" style=\"opacity: 0\" dominant-baseline=\"middle\" text-anchor=\"middle\">0.421</text><svg x=\"14.14280761421983%\" y=\"40\" height=\"20\" width=\"6.548835382441883%\">  <svg x=\"0\" y=\"0\" width=\"100%\" height=\"100%\">    <text x=\"50%\" y=\"9\" font-size=\"12px\" fill=\"rgb(255,255,255)\" dominant-baseline=\"middle\" text-anchor=\"middle\">the shop</text>  </svg></svg><line x1=\"8.333333333333336%\" x2=\"14.14280761421983%\" y1=\"60\" y2=\"60\" id=\"_fb_swrmvuqybglrhmbueaya_ind_0\" style=\"stroke:rgb(255.0, 0.0, 81.08083606031792);stroke-width:2; opacity: 0\"/><text x=\"11.238070473776583%\" y=\"71\" font-size=\"12px\" id=\"_fs_swrmvuqybglrhmbueaya_ind_0\" fill=\"rgb(255.0, 0.0, 81.08083606031792)\" style=\"opacity: 0\" dominant-baseline=\"middle\" text-anchor=\"middle\">0.374</text><svg x=\"8.333333333333336%\" y=\"40\" height=\"20\" width=\"5.809474280886494%\">  <svg x=\"0\" y=\"0\" width=\"100%\" height=\"100%\">    <text x=\"50%\" y=\"9\" font-size=\"12px\" fill=\"rgb(255,255,255)\" dominant-baseline=\"middle\" text-anchor=\"middle\">I</text>  </svg></svg><g transform=\"translate(0,0)\">  <svg x=\"63.018893261349056%\" y=\"40\" height=\"18\" overflow=\"visible\" width=\"30\">    <path d=\"M 0 -9 l 6 18 L 0 25\" fill=\"none\" style=\"stroke:rgb(255.0, 0.0, 81.08083606031792);stroke-width:2\" />  </svg></g><g transform=\"translate(2,0)\">  <svg x=\"63.018893261349056%\" y=\"40\" height=\"18\" overflow=\"visible\" width=\"30\">    <path d=\"M 0 -9 l 6 18 L 0 25\" fill=\"none\" style=\"stroke:rgb(255.0, 0.0, 81.08083606031792);stroke-width:2\" />  </svg></g><g transform=\"translate(4,0)\">  <svg x=\"63.018893261349056%\" y=\"40\" height=\"18\" overflow=\"visible\" width=\"30\">    <path d=\"M 0 -9 l 6 18 L 0 25\" fill=\"none\" style=\"stroke:rgb(255.0, 0.0, 81.08083606031792);stroke-width:2\" />  </svg></g><g transform=\"translate(6,0)\">  <svg x=\"63.018893261349056%\" y=\"40\" height=\"18\" overflow=\"visible\" width=\"30\">    <path d=\"M 0 -9 l 6 18 L 0 25\" fill=\"none\" style=\"stroke:rgb(255.0, 0.0, 81.08083606031792);stroke-width:2\" />  </svg></g><g transform=\"translate(-8,0)\">  <svg x=\"63.018893261349056%\" y=\"40\" height=\"18\" overflow=\"visible\" width=\"30\">    <path d=\"M 0 -9 l 6 18 L 0 25\" fill=\"none\" style=\"stroke:rgb(255.0, 0.0, 81.08083606031792);stroke-width:2\" />  </svg></g><g transform=\"translate(-6,0)\">  <svg x=\"63.018893261349056%\" y=\"40\" height=\"18\" overflow=\"visible\" width=\"30\">    <path d=\"M 0 -9 l 6 18 L 0 25\" fill=\"none\" style=\"stroke:rgb(255.0, 0.0, 81.08083606031792);stroke-width:2\" />  </svg></g><g transform=\"translate(-4,0)\">  <svg x=\"63.018893261349056%\" y=\"40\" height=\"18\" overflow=\"visible\" width=\"30\">    <path d=\"M 0 -9 l 6 18 L 0 25\" fill=\"none\" style=\"stroke:rgb(255.0, 0.0, 81.08083606031792);stroke-width:2\" />  </svg></g><g transform=\"translate(-2,0)\">  <svg x=\"63.018893261349056%\" y=\"40\" height=\"18\" overflow=\"visible\" width=\"30\">    <path d=\"M 0 -9 l 6 18 L 0 25\" fill=\"none\" style=\"stroke:rgb(255.0, 0.0, 81.08083606031792);stroke-width:2\" />  </svg></g><g transform=\"translate(0,0)\">  <svg x=\"44.09516867342768%\" y=\"40\" height=\"18\" overflow=\"visible\" width=\"30\">    <path d=\"M 0 -9 l 6 18 L 0 25\" fill=\"none\" style=\"stroke:rgb(255.0, 0.0, 81.08083606031792);stroke-width:2\" />  </svg></g><g transform=\"translate(2,0)\">  <svg x=\"44.09516867342768%\" y=\"40\" height=\"18\" overflow=\"visible\" width=\"30\">    <path d=\"M 0 -9 l 6 18 L 0 25\" fill=\"none\" style=\"stroke:rgb(255.0, 0.0, 81.08083606031792);stroke-width:2\" />  </svg></g><g transform=\"translate(4,0)\">  <svg x=\"44.09516867342768%\" y=\"40\" height=\"18\" overflow=\"visible\" width=\"30\">    <path d=\"M 0 -9 l 6 18 L 0 25\" fill=\"none\" style=\"stroke:rgb(255.0, 0.0, 81.08083606031792);stroke-width:2\" />  </svg></g><g transform=\"translate(6,0)\">  <svg x=\"44.09516867342768%\" y=\"40\" height=\"18\" overflow=\"visible\" width=\"30\">    <path d=\"M 0 -9 l 6 18 L 0 25\" fill=\"none\" style=\"stroke:rgb(255.0, 0.0, 81.08083606031792);stroke-width:2\" />  </svg></g><g transform=\"translate(-8,0)\">  <svg x=\"44.09516867342768%\" y=\"40\" height=\"18\" overflow=\"visible\" width=\"30\">    <path d=\"M 0 -9 l 6 18 L 0 25\" fill=\"none\" style=\"stroke:rgb(255.0, 0.0, 81.08083606031792);stroke-width:2\" />  </svg></g><g transform=\"translate(-6,0)\">  <svg x=\"44.09516867342768%\" y=\"40\" height=\"18\" overflow=\"visible\" width=\"30\">    <path d=\"M 0 -9 l 6 18 L 0 25\" fill=\"none\" style=\"stroke:rgb(255.0, 0.0, 81.08083606031792);stroke-width:2\" />  </svg></g><g transform=\"translate(-4,0)\">  <svg x=\"44.09516867342768%\" y=\"40\" height=\"18\" overflow=\"visible\" width=\"30\">    <path d=\"M 0 -9 l 6 18 L 0 25\" fill=\"none\" style=\"stroke:rgb(255.0, 0.0, 81.08083606031792);stroke-width:2\" />  </svg></g><g transform=\"translate(-2,0)\">  <svg x=\"44.09516867342768%\" y=\"40\" height=\"18\" overflow=\"visible\" width=\"30\">    <path d=\"M 0 -9 l 6 18 L 0 25\" fill=\"none\" style=\"stroke:rgb(255.0, 0.0, 81.08083606031792);stroke-width:2\" />  </svg></g><g transform=\"translate(0,0)\">  <svg x=\"28.86103868755006%\" y=\"40\" height=\"18\" overflow=\"visible\" width=\"30\">    <path d=\"M 0 -9 l 6 18 L 0 25\" fill=\"none\" style=\"stroke:rgb(255.0, 0.0, 81.08083606031792);stroke-width:2\" />  </svg></g><g transform=\"translate(2,0)\">  <svg x=\"28.86103868755006%\" y=\"40\" height=\"18\" overflow=\"visible\" width=\"30\">    <path d=\"M 0 -9 l 6 18 L 0 25\" fill=\"none\" style=\"stroke:rgb(255.0, 0.0, 81.08083606031792);stroke-width:2\" />  </svg></g><g transform=\"translate(4,0)\">  <svg x=\"28.86103868755006%\" y=\"40\" height=\"18\" overflow=\"visible\" width=\"30\">    <path d=\"M 0 -9 l 6 18 L 0 25\" fill=\"none\" style=\"stroke:rgb(255.0, 0.0, 81.08083606031792);stroke-width:2\" />  </svg></g><g transform=\"translate(6,0)\">  <svg x=\"28.86103868755006%\" y=\"40\" height=\"18\" overflow=\"visible\" width=\"30\">    <path d=\"M 0 -9 l 6 18 L 0 25\" fill=\"none\" style=\"stroke:rgb(255.0, 0.0, 81.08083606031792);stroke-width:2\" />  </svg></g><g transform=\"translate(-8,0)\">  <svg x=\"28.86103868755006%\" y=\"40\" height=\"18\" overflow=\"visible\" width=\"30\">    <path d=\"M 0 -9 l 6 18 L 0 25\" fill=\"none\" style=\"stroke:rgb(255.0, 0.0, 81.08083606031792);stroke-width:2\" />  </svg></g><g transform=\"translate(-6,0)\">  <svg x=\"28.86103868755006%\" y=\"40\" height=\"18\" overflow=\"visible\" width=\"30\">    <path d=\"M 0 -9 l 6 18 L 0 25\" fill=\"none\" style=\"stroke:rgb(255.0, 0.0, 81.08083606031792);stroke-width:2\" />  </svg></g><g transform=\"translate(-4,0)\">  <svg x=\"28.86103868755006%\" y=\"40\" height=\"18\" overflow=\"visible\" width=\"30\">    <path d=\"M 0 -9 l 6 18 L 0 25\" fill=\"none\" style=\"stroke:rgb(255.0, 0.0, 81.08083606031792);stroke-width:2\" />  </svg></g><g transform=\"translate(-2,0)\">  <svg x=\"28.86103868755006%\" y=\"40\" height=\"18\" overflow=\"visible\" width=\"30\">    <path d=\"M 0 -9 l 6 18 L 0 25\" fill=\"none\" style=\"stroke:rgb(255.0, 0.0, 81.08083606031792);stroke-width:2\" />  </svg></g><g transform=\"translate(0,0)\">  <svg x=\"20.691642996661713%\" y=\"40\" height=\"18\" overflow=\"visible\" width=\"30\">    <path d=\"M 0 -9 l 6 18 L 0 25\" fill=\"none\" style=\"stroke:rgb(255.0, 0.0, 81.08083606031792);stroke-width:2\" />  </svg></g><g transform=\"translate(2,0)\">  <svg x=\"20.691642996661713%\" y=\"40\" height=\"18\" overflow=\"visible\" width=\"30\">    <path d=\"M 0 -9 l 6 18 L 0 25\" fill=\"none\" style=\"stroke:rgb(255.0, 0.0, 81.08083606031792);stroke-width:2\" />  </svg></g><g transform=\"translate(4,0)\">  <svg x=\"20.691642996661713%\" y=\"40\" height=\"18\" overflow=\"visible\" width=\"30\">    <path d=\"M 0 -9 l 6 18 L 0 25\" fill=\"none\" style=\"stroke:rgb(255.0, 0.0, 81.08083606031792);stroke-width:2\" />  </svg></g><g transform=\"translate(6,0)\">  <svg x=\"20.691642996661713%\" y=\"40\" height=\"18\" overflow=\"visible\" width=\"30\">    <path d=\"M 0 -9 l 6 18 L 0 25\" fill=\"none\" style=\"stroke:rgb(255.0, 0.0, 81.08083606031792);stroke-width:2\" />  </svg></g><g transform=\"translate(-8,0)\">  <svg x=\"20.691642996661713%\" y=\"40\" height=\"18\" overflow=\"visible\" width=\"30\">    <path d=\"M 0 -9 l 6 18 L 0 25\" fill=\"none\" style=\"stroke:rgb(255.0, 0.0, 81.08083606031792);stroke-width:2\" />  </svg></g><g transform=\"translate(-6,0)\">  <svg x=\"20.691642996661713%\" y=\"40\" height=\"18\" overflow=\"visible\" width=\"30\">    <path d=\"M 0 -9 l 6 18 L 0 25\" fill=\"none\" style=\"stroke:rgb(255.0, 0.0, 81.08083606031792);stroke-width:2\" />  </svg></g><g transform=\"translate(-4,0)\">  <svg x=\"20.691642996661713%\" y=\"40\" height=\"18\" overflow=\"visible\" width=\"30\">    <path d=\"M 0 -9 l 6 18 L 0 25\" fill=\"none\" style=\"stroke:rgb(255.0, 0.0, 81.08083606031792);stroke-width:2\" />  </svg></g><g transform=\"translate(-2,0)\">  <svg x=\"20.691642996661713%\" y=\"40\" height=\"18\" overflow=\"visible\" width=\"30\">    <path d=\"M 0 -9 l 6 18 L 0 25\" fill=\"none\" style=\"stroke:rgb(255.0, 0.0, 81.08083606031792);stroke-width:2\" />  </svg></g><g transform=\"translate(0,0)\">  <svg x=\"14.14280761421983%\" y=\"40\" height=\"18\" overflow=\"visible\" width=\"30\">    <path d=\"M 0 -9 l 6 18 L 0 25\" fill=\"none\" style=\"stroke:rgb(255.0, 0.0, 81.08083606031792);stroke-width:2\" />  </svg></g><g transform=\"translate(2,0)\">  <svg x=\"14.14280761421983%\" y=\"40\" height=\"18\" overflow=\"visible\" width=\"30\">    <path d=\"M 0 -9 l 6 18 L 0 25\" fill=\"none\" style=\"stroke:rgb(255.0, 0.0, 81.08083606031792);stroke-width:2\" />  </svg></g><g transform=\"translate(4,0)\">  <svg x=\"14.14280761421983%\" y=\"40\" height=\"18\" overflow=\"visible\" width=\"30\">    <path d=\"M 0 -9 l 6 18 L 0 25\" fill=\"none\" style=\"stroke:rgb(255.0, 0.0, 81.08083606031792);stroke-width:2\" />  </svg></g><g transform=\"translate(6,0)\">  <svg x=\"14.14280761421983%\" y=\"40\" height=\"18\" overflow=\"visible\" width=\"30\">    <path d=\"M 0 -9 l 6 18 L 0 25\" fill=\"none\" style=\"stroke:rgb(255.0, 0.0, 81.08083606031792);stroke-width:2\" />  </svg></g><g transform=\"translate(-8,0)\">  <svg x=\"14.14280761421983%\" y=\"40\" height=\"18\" overflow=\"visible\" width=\"30\">    <path d=\"M 0 -9 l 6 18 L 0 25\" fill=\"none\" style=\"stroke:rgb(255.0, 0.0, 81.08083606031792);stroke-width:2\" />  </svg></g><g transform=\"translate(-6,0)\">  <svg x=\"14.14280761421983%\" y=\"40\" height=\"18\" overflow=\"visible\" width=\"30\">    <path d=\"M 0 -9 l 6 18 L 0 25\" fill=\"none\" style=\"stroke:rgb(255.0, 0.0, 81.08083606031792);stroke-width:2\" />  </svg></g><g transform=\"translate(-4,0)\">  <svg x=\"14.14280761421983%\" y=\"40\" height=\"18\" overflow=\"visible\" width=\"30\">    <path d=\"M 0 -9 l 6 18 L 0 25\" fill=\"none\" style=\"stroke:rgb(255.0, 0.0, 81.08083606031792);stroke-width:2\" />  </svg></g><g transform=\"translate(-2,0)\">  <svg x=\"14.14280761421983%\" y=\"40\" height=\"18\" overflow=\"visible\" width=\"30\">    <path d=\"M 0 -9 l 6 18 L 0 25\" fill=\"none\" style=\"stroke:rgb(255.0, 0.0, 81.08083606031792);stroke-width:2\" />  </svg></g><rect transform=\"translate(-8,0)\" x=\"90.04200454387646%\" y=\"40\" width=\"8\" height=\"18\" style=\"fill:rgb(255.0, 0.0, 81.08083606031792)\"/><g transform=\"translate(-11.5,0)\">  <svg x=\"8.333333333333336%\" y=\"40\" height=\"18\" overflow=\"visible\" width=\"30\">    <path d=\"M 10 -9 l 6 18 L 10 25 L 0 25 L 0 -9\" fill=\"#ffffff\" style=\"stroke:rgb(255,255,255);stroke-width:2\" />  </svg></g><g transform=\"translate(-1.5,0)\">  <svg x=\"90.04200454387646%\" y=\"40\" height=\"18\" overflow=\"visible\" width=\"30\">    <path d=\"M 0 -9 l 6 18 L 0 25\" fill=\"none\" style=\"stroke:rgb(255, 195, 213);stroke-width:2\" />  </svg></g><rect x=\"63.018893261349056%\" y=\"40\" height=\"20\" width=\"27.023111282527402%\"      onmouseover=\"document.getElementById('_tp_swrmvuqybglrhmbueaya_ind_5').style.textDecoration = 'underline';document.getElementById('_fs_swrmvuqybglrhmbueaya_ind_5').style.opacity = 1;document.getElementById('_fb_swrmvuqybglrhmbueaya_ind_5').style.opacity = 1;\"      onmouseout=\"document.getElementById('_tp_swrmvuqybglrhmbueaya_ind_5').style.textDecoration = 'none';document.getElementById('_fs_swrmvuqybglrhmbueaya_ind_5').style.opacity = 0;document.getElementById('_fb_swrmvuqybglrhmbueaya_ind_5').style.opacity = 0;\" style=\"fill:rgb(0,0,0,0)\" /><g transform=\"translate(-1.5,0)\">  <svg x=\"63.018893261349056%\" y=\"40\" height=\"18\" overflow=\"visible\" width=\"30\">    <path d=\"M 0 -9 l 6 18 L 0 25\" fill=\"none\" style=\"stroke:rgb(255, 195, 213);stroke-width:2\" />  </svg></g><rect x=\"44.09516867342768%\" y=\"40\" height=\"20\" width=\"18.923724587921377%\"      onmouseover=\"document.getElementById('_tp_swrmvuqybglrhmbueaya_ind_3').style.textDecoration = 'underline';document.getElementById('_fs_swrmvuqybglrhmbueaya_ind_3').style.opacity = 1;document.getElementById('_fb_swrmvuqybglrhmbueaya_ind_3').style.opacity = 1;\"      onmouseout=\"document.getElementById('_tp_swrmvuqybglrhmbueaya_ind_3').style.textDecoration = 'none';document.getElementById('_fs_swrmvuqybglrhmbueaya_ind_3').style.opacity = 0;document.getElementById('_fb_swrmvuqybglrhmbueaya_ind_3').style.opacity = 0;\" style=\"fill:rgb(0,0,0,0)\" /><g transform=\"translate(-1.5,0)\">  <svg x=\"44.09516867342768%\" y=\"40\" height=\"18\" overflow=\"visible\" width=\"30\">    <path d=\"M 0 -9 l 6 18 L 0 25\" fill=\"none\" style=\"stroke:rgb(255, 195, 213);stroke-width:2\" />  </svg></g><rect x=\"28.86103868755006%\" y=\"40\" height=\"20\" width=\"15.234129985877619%\"      onmouseover=\"document.getElementById('_tp_swrmvuqybglrhmbueaya_ind_4').style.textDecoration = 'underline';document.getElementById('_fs_swrmvuqybglrhmbueaya_ind_4').style.opacity = 1;document.getElementById('_fb_swrmvuqybglrhmbueaya_ind_4').style.opacity = 1;\"      onmouseout=\"document.getElementById('_tp_swrmvuqybglrhmbueaya_ind_4').style.textDecoration = 'none';document.getElementById('_fs_swrmvuqybglrhmbueaya_ind_4').style.opacity = 0;document.getElementById('_fb_swrmvuqybglrhmbueaya_ind_4').style.opacity = 0;\" style=\"fill:rgb(0,0,0,0)\" /><g transform=\"translate(-1.5,0)\">  <svg x=\"28.86103868755006%\" y=\"40\" height=\"18\" overflow=\"visible\" width=\"30\">    <path d=\"M 0 -9 l 6 18 L 0 25\" fill=\"none\" style=\"stroke:rgb(255, 195, 213);stroke-width:2\" />  </svg></g><rect x=\"20.691642996661713%\" y=\"40\" height=\"20\" width=\"8.169395690888347%\"      onmouseover=\"document.getElementById('_tp_swrmvuqybglrhmbueaya_ind_1').style.textDecoration = 'underline';document.getElementById('_fs_swrmvuqybglrhmbueaya_ind_1').style.opacity = 1;document.getElementById('_fb_swrmvuqybglrhmbueaya_ind_1').style.opacity = 1;\"      onmouseout=\"document.getElementById('_tp_swrmvuqybglrhmbueaya_ind_1').style.textDecoration = 'none';document.getElementById('_fs_swrmvuqybglrhmbueaya_ind_1').style.opacity = 0;document.getElementById('_fb_swrmvuqybglrhmbueaya_ind_1').style.opacity = 0;\" style=\"fill:rgb(0,0,0,0)\" /><g transform=\"translate(-1.5,0)\">  <svg x=\"20.691642996661713%\" y=\"40\" height=\"18\" overflow=\"visible\" width=\"30\">    <path d=\"M 0 -9 l 6 18 L 0 25\" fill=\"none\" style=\"stroke:rgb(255, 195, 213);stroke-width:2\" />  </svg></g><rect x=\"14.14280761421983%\" y=\"40\" height=\"20\" width=\"6.548835382441883%\"      onmouseover=\"document.getElementById('_tp_swrmvuqybglrhmbueaya_ind_2').style.textDecoration = 'underline';document.getElementById('_fs_swrmvuqybglrhmbueaya_ind_2').style.opacity = 1;document.getElementById('_fb_swrmvuqybglrhmbueaya_ind_2').style.opacity = 1;\"      onmouseout=\"document.getElementById('_tp_swrmvuqybglrhmbueaya_ind_2').style.textDecoration = 'none';document.getElementById('_fs_swrmvuqybglrhmbueaya_ind_2').style.opacity = 0;document.getElementById('_fb_swrmvuqybglrhmbueaya_ind_2').style.opacity = 0;\" style=\"fill:rgb(0,0,0,0)\" /><rect x=\"8.333333333333336%\" y=\"40\" height=\"20\" width=\"5.809474280886494%\"      onmouseover=\"document.getElementById('_tp_swrmvuqybglrhmbueaya_ind_0').style.textDecoration = 'underline';document.getElementById('_fs_swrmvuqybglrhmbueaya_ind_0').style.opacity = 1;document.getElementById('_fb_swrmvuqybglrhmbueaya_ind_0').style.opacity = 1;\"      onmouseout=\"document.getElementById('_tp_swrmvuqybglrhmbueaya_ind_0').style.textDecoration = 'none';document.getElementById('_fs_swrmvuqybglrhmbueaya_ind_0').style.opacity = 0;document.getElementById('_fb_swrmvuqybglrhmbueaya_ind_0').style.opacity = 0;\" style=\"fill:rgb(0,0,0,0)\" /><rect x=\"90.04200454387646%\" width=\"1.6246621227902103%\" y=\"40\" height=\"18\" style=\"fill:rgb(0.0, 138.56128015770724, 250.76166088685727); stroke-width:0; stroke:rgb(0,0,0)\" /><line x1=\"90.04200454387646%\" x2=\"91.66665739781523%\" y1=\"60\" y2=\"60\" id=\"_fb_swrmvuqybglrhmbueaya_ind_6\" style=\"stroke:rgb(0.0, 138.56128015770724, 250.76166088685727);stroke-width:2; opacity: 0\"/><text x=\"90.85433097084584%\" y=\"71\" font-size=\"12px\" fill=\"rgb(0.0, 138.56128015770724, 250.76166088685727)\" id=\"_fs_swrmvuqybglrhmbueaya_ind_6\" style=\"opacity: 0\" dominant-baseline=\"middle\" text-anchor=\"middle\">-0.104</text><svg x=\"90.04200454387646%\" y=\"40\" height=\"20\" width=\"1.6246528539387697%\">  <svg x=\"0\" y=\"0\" width=\"100%\" height=\"100%\">    <text x=\"50%\" y=\"9\" font-size=\"12px\" fill=\"rgb(255,255,255)\" dominant-baseline=\"middle\" text-anchor=\"middle\">.</text>  </svg></svg><line x1=\"91.66665739781523%\" x2=\"91.66666666666666%\" y1=\"60\" y2=\"60\" id=\"_fb_swrmvuqybglrhmbueaya_ind_7\" style=\"stroke:rgb(0.0, 138.56128015770724, 250.76166088685727);stroke-width:2; opacity: 0\"/><text x=\"91.66666203224094%\" y=\"71\" font-size=\"12px\" fill=\"rgb(0.0, 138.56128015770724, 250.76166088685727)\" id=\"_fs_swrmvuqybglrhmbueaya_ind_7\" style=\"opacity: 0\" dominant-baseline=\"middle\" text-anchor=\"middle\">-0.0</text><svg x=\"91.66665739781523%\" y=\"40\" height=\"20\" width=\"9.26885142860101e-06%\">  <svg x=\"0\" y=\"0\" width=\"100%\" height=\"100%\">    <text x=\"50%\" y=\"9\" font-size=\"12px\" fill=\"rgb(255,255,255)\" dominant-baseline=\"middle\" text-anchor=\"middle\"></text>  </svg></svg><g transform=\"translate(-8,0)\">  <svg x=\"91.66665739781523%\" y=\"40\" height=\"18\" overflow=\"visible\" width=\"30\">    <path d=\"M 8 -9 l -6 18 L 8 25\" fill=\"none\" style=\"stroke:rgb(0.0, 138.56128015770724, 250.76166088685727);stroke-width:2\" />  </svg></g><g transform=\"translate(-10,0)\">  <svg x=\"91.66665739781523%\" y=\"40\" height=\"18\" overflow=\"visible\" width=\"30\">    <path d=\"M 8 -9 l -6 18 L 8 25\" fill=\"none\" style=\"stroke:rgb(0.0, 138.56128015770724, 250.76166088685727);stroke-width:2\" />  </svg></g><g transform=\"translate(-12,0)\">  <svg x=\"91.66665739781523%\" y=\"40\" height=\"18\" overflow=\"visible\" width=\"30\">    <path d=\"M 8 -9 l -6 18 L 8 25\" fill=\"none\" style=\"stroke:rgb(0.0, 138.56128015770724, 250.76166088685727);stroke-width:2\" />  </svg></g><g transform=\"translate(-14,0)\">  <svg x=\"91.66665739781523%\" y=\"40\" height=\"18\" overflow=\"visible\" width=\"30\">    <path d=\"M 8 -9 l -6 18 L 8 25\" fill=\"none\" style=\"stroke:rgb(0.0, 138.56128015770724, 250.76166088685727);stroke-width:2\" />  </svg></g><g transform=\"translate(2,0)\">  <svg x=\"91.66665739781523%\" y=\"40\" height=\"18\" overflow=\"visible\" width=\"30\">    <path d=\"M 8 -9 l -6 18 L 8 25\" fill=\"none\" style=\"stroke:rgb(0.0, 138.56128015770724, 250.76166088685727);stroke-width:2\" />  </svg></g><g transform=\"translate(0,0)\">  <svg x=\"91.66665739781523%\" y=\"40\" height=\"18\" overflow=\"visible\" width=\"30\">    <path d=\"M 8 -9 l -6 18 L 8 25\" fill=\"none\" style=\"stroke:rgb(0.0, 138.56128015770724, 250.76166088685727);stroke-width:2\" />  </svg></g><g transform=\"translate(-2,0)\">  <svg x=\"91.66665739781523%\" y=\"40\" height=\"18\" overflow=\"visible\" width=\"30\">    <path d=\"M 8 -9 l -6 18 L 8 25\" fill=\"none\" style=\"stroke:rgb(0.0, 138.56128015770724, 250.76166088685727);stroke-width:2\" />  </svg></g><g transform=\"translate(-4,0)\">  <svg x=\"91.66665739781523%\" y=\"40\" height=\"18\" overflow=\"visible\" width=\"30\">    <path d=\"M 8 -9 l -6 18 L 8 25\" fill=\"none\" style=\"stroke:rgb(0.0, 138.56128015770724, 250.76166088685727);stroke-width:2\" />  </svg></g><rect transform=\"translate(0,0)\" x=\"90.04200454387646%\" y=\"40\" width=\"8\" height=\"18\" style=\"fill:rgb(0.0, 138.56128015770724, 250.76166088685727)\"/><g transform=\"translate(-6.0,0)\">  <svg x=\"91.66666666666666%\" y=\"40\" height=\"18\" overflow=\"visible\" width=\"30\">    <path d=\"M 8 -9 l -6 18 L 8 25 L 20 25 L 20 -9\" fill=\"#ffffff\" style=\"stroke:rgb(255,255,255);stroke-width:2\" />  </svg></g><g transform=\"translate(-6.0,0)\">  <svg x=\"91.66665739781523%\" y=\"40\" height=\"18\" overflow=\"visible\" width=\"30\">    <path d=\"M 8 -9 l -6 18 L 8 25\" fill=\"none\" style=\"stroke:rgb(208, 230, 250);stroke-width:2\" />  </svg></g><rect x=\"90.04200454387646%\" y=\"40\" height=\"20\" width=\"1.6246528539387697%\"      onmouseover=\"document.getElementById('_tp_swrmvuqybglrhmbueaya_ind_6').style.textDecoration = 'underline';document.getElementById('_fs_swrmvuqybglrhmbueaya_ind_6').style.opacity = 1;document.getElementById('_fb_swrmvuqybglrhmbueaya_ind_6').style.opacity = 1;\"      onmouseout=\"document.getElementById('_tp_swrmvuqybglrhmbueaya_ind_6').style.textDecoration = 'none';document.getElementById('_fs_swrmvuqybglrhmbueaya_ind_6').style.opacity = 0;document.getElementById('_fb_swrmvuqybglrhmbueaya_ind_6').style.opacity = 0;\" style=\"fill:rgb(0,0,0,0)\" /><rect x=\"91.66665739781523%\" y=\"40\" height=\"20\" width=\"9.26885142860101e-06%\"      onmouseover=\"document.getElementById('_tp_swrmvuqybglrhmbueaya_ind_7').style.textDecoration = 'underline';document.getElementById('_fs_swrmvuqybglrhmbueaya_ind_7').style.opacity = 1;document.getElementById('_fb_swrmvuqybglrhmbueaya_ind_7').style.opacity = 1;\"      onmouseout=\"document.getElementById('_tp_swrmvuqybglrhmbueaya_ind_7').style.textDecoration = 'none';document.getElementById('_fs_swrmvuqybglrhmbueaya_ind_7').style.opacity = 0;document.getElementById('_fb_swrmvuqybglrhmbueaya_ind_7').style.opacity = 0;\" style=\"fill:rgb(0,0,0,0)\" /></svg><div style='display: inline; text-align: center;'><div style='display: none; color: #999; padding-top: 0px; font-size: 12px;'>0.374 / 2</div><div id='_tp_swrmvuqybglrhmbueaya_ind_0'style='display: inline; background: rgba(255.0, 13.0, 87.0, 0.5900970489205783); border-radius: 3px; padding: 0px'onclick=\"if (this.previousSibling.style.display == 'none') {this.previousSibling.style.display = 'block';this.parentNode.style.display = 'inline-block';} else {this.previousSibling.style.display = 'none';this.parentNode.style.display = 'inline';}\"onmouseover=\"document.getElementById('_fb_swrmvuqybglrhmbueaya_ind_0').style.opacity = 1; document.getElementById('_fs_swrmvuqybglrhmbueaya_ind_0').style.opacity = 1;\"onmouseout=\"document.getElementById('_fb_swrmvuqybglrhmbueaya_ind_0').style.opacity = 0; document.getElementById('_fs_swrmvuqybglrhmbueaya_ind_0').style.opacity = 0;\">I </div></div><div style='display: inline; text-align: center;'><div style='display: none; color: #999; padding-top: 0px; font-size: 12px;'>0.525 / 2</div><div id='_tp_swrmvuqybglrhmbueaya_ind_1'style='display: inline; background: rgba(255.0, 13.0, 87.0, 0.8265795206971679); border-radius: 3px; padding: 0px'onclick=\"if (this.previousSibling.style.display == 'none') {this.previousSibling.style.display = 'block';this.parentNode.style.display = 'inline-block';} else {this.previousSibling.style.display = 'none';this.parentNode.style.display = 'inline';}\"onmouseover=\"document.getElementById('_fb_swrmvuqybglrhmbueaya_ind_1').style.opacity = 1; document.getElementById('_fs_swrmvuqybglrhmbueaya_ind_1').style.opacity = 1;\"onmouseout=\"document.getElementById('_fb_swrmvuqybglrhmbueaya_ind_1').style.opacity = 0; document.getElementById('_fs_swrmvuqybglrhmbueaya_ind_1').style.opacity = 0;\">went to </div></div><div style='display: inline; text-align: center;'><div style='display: none; color: #999; padding-top: 0px; font-size: 12px;'>0.421 / 2</div><div id='_tp_swrmvuqybglrhmbueaya_ind_2'style='display: inline; background: rgba(255.0, 13.0, 87.0, 0.6610417904535549); border-radius: 3px; padding: 0px'onclick=\"if (this.previousSibling.style.display == 'none') {this.previousSibling.style.display = 'block';this.parentNode.style.display = 'inline-block';} else {this.previousSibling.style.display = 'none';this.parentNode.style.display = 'inline';}\"onmouseover=\"document.getElementById('_fb_swrmvuqybglrhmbueaya_ind_2').style.opacity = 1; document.getElementById('_fs_swrmvuqybglrhmbueaya_ind_2').style.opacity = 1;\"onmouseout=\"document.getElementById('_fb_swrmvuqybglrhmbueaya_ind_2').style.opacity = 0; document.getElementById('_fs_swrmvuqybglrhmbueaya_ind_2').style.opacity = 0;\">the shop </div></div><div style='display: inline; text-align: center;'><div style='display: none; color: #999; padding-top: 0px; font-size: 12px;'>1.217 / 2</div><div id='_tp_swrmvuqybglrhmbueaya_ind_3'style='display: inline; background: rgba(255.0, 13.0, 87.0, 1.0); border-radius: 3px; padding: 0px'onclick=\"if (this.previousSibling.style.display == 'none') {this.previousSibling.style.display = 'block';this.parentNode.style.display = 'inline-block';} else {this.previousSibling.style.display = 'none';this.parentNode.style.display = 'inline';}\"onmouseover=\"document.getElementById('_fb_swrmvuqybglrhmbueaya_ind_3').style.opacity = 1; document.getElementById('_fs_swrmvuqybglrhmbueaya_ind_3').style.opacity = 1;\"onmouseout=\"document.getElementById('_fb_swrmvuqybglrhmbueaya_ind_3').style.opacity = 0; document.getElementById('_fs_swrmvuqybglrhmbueaya_ind_3').style.opacity = 0;\">and bought </div></div><div style='display: inline; text-align: center;'><div style='display: none; color: #999; padding-top: 0px; font-size: 12px;'>0.98 / 2</div><div id='_tp_swrmvuqybglrhmbueaya_ind_4'style='display: inline; background: rgba(255.0, 13.0, 87.0, 1.0); border-radius: 3px; padding: 0px'onclick=\"if (this.previousSibling.style.display == 'none') {this.previousSibling.style.display = 'block';this.parentNode.style.display = 'inline-block';} else {this.previousSibling.style.display = 'none';this.parentNode.style.display = 'inline';}\"onmouseover=\"document.getElementById('_fb_swrmvuqybglrhmbueaya_ind_4').style.opacity = 1; document.getElementById('_fs_swrmvuqybglrhmbueaya_ind_4').style.opacity = 1;\"onmouseout=\"document.getElementById('_fb_swrmvuqybglrhmbueaya_ind_4').style.opacity = 0; document.getElementById('_fs_swrmvuqybglrhmbueaya_ind_4').style.opacity = 0;\">my friend </div></div><div style='display: inline; text-align: center;'><div style='display: none; color: #999; padding-top: 0px; font-size: 12px;'>1.738 / 3</div><div id='_tp_swrmvuqybglrhmbueaya_ind_5'style='display: inline; background: rgba(255.0, 13.0, 87.0, 1.0); border-radius: 3px; padding: 0px'onclick=\"if (this.previousSibling.style.display == 'none') {this.previousSibling.style.display = 'block';this.parentNode.style.display = 'inline-block';} else {this.previousSibling.style.display = 'none';this.parentNode.style.display = 'inline';}\"onmouseover=\"document.getElementById('_fb_swrmvuqybglrhmbueaya_ind_5').style.opacity = 1; document.getElementById('_fs_swrmvuqybglrhmbueaya_ind_5').style.opacity = 1;\"onmouseout=\"document.getElementById('_fb_swrmvuqybglrhmbueaya_ind_5').style.opacity = 0; document.getElementById('_fs_swrmvuqybglrhmbueaya_ind_5').style.opacity = 0;\">a Birthday present</div></div><div style='display: inline; text-align: center;'><div style='display: none; color: #999; padding-top: 0px; font-size: 12px;'>-0.104</div><div id='_tp_swrmvuqybglrhmbueaya_ind_6'style='display: inline; background: rgba(30.0, 136.0, 229.0, 0.16442859972271748); border-radius: 3px; padding: 0px'onclick=\"if (this.previousSibling.style.display == 'none') {this.previousSibling.style.display = 'block';this.parentNode.style.display = 'inline-block';} else {this.previousSibling.style.display = 'none';this.parentNode.style.display = 'inline';}\"onmouseover=\"document.getElementById('_fb_swrmvuqybglrhmbueaya_ind_6').style.opacity = 1; document.getElementById('_fs_swrmvuqybglrhmbueaya_ind_6').style.opacity = 1;\"onmouseout=\"document.getElementById('_fb_swrmvuqybglrhmbueaya_ind_6').style.opacity = 0; document.getElementById('_fs_swrmvuqybglrhmbueaya_ind_6').style.opacity = 0;\">.</div></div><div style='display: inline; text-align: center;'><div style='display: none; color: #999; padding-top: 0px; font-size: 12px;'>-0.0</div><div id='_tp_swrmvuqybglrhmbueaya_ind_7'style='display: inline; background: rgba(54.70588235294111, 122.49411764705886, 213.40784313725496, 0.0); border-radius: 3px; padding: 0px'onclick=\"if (this.previousSibling.style.display == 'none') {this.previousSibling.style.display = 'block';this.parentNode.style.display = 'inline-block';} else {this.previousSibling.style.display = 'none';this.parentNode.style.display = 'inline';}\"onmouseover=\"document.getElementById('_fb_swrmvuqybglrhmbueaya_ind_7').style.opacity = 1; document.getElementById('_fs_swrmvuqybglrhmbueaya_ind_7').style.opacity = 1;\"onmouseout=\"document.getElementById('_fb_swrmvuqybglrhmbueaya_ind_7').style.opacity = 0; document.getElementById('_fs_swrmvuqybglrhmbueaya_ind_7').style.opacity = 0;\"></div></div>"
            ],
            "text/plain": [
              "<IPython.core.display.HTML object>"
            ]
          },
          "metadata": {
            "tags": []
          }
        }
      ]
    },
    {
      "cell_type": "markdown",
      "metadata": {
        "id": "oyDZq80IwbSP"
      },
      "source": [
        "# Gradient-based explanations"
      ]
    },
    {
      "cell_type": "markdown",
      "metadata": {
        "id": "EvrDfC9VcTlq"
      },
      "source": [
        "## Captum"
      ]
    },
    {
      "cell_type": "code",
      "metadata": {
        "id": "uzkgVZzMwiVf"
      },
      "source": [
        "# https://blog.fiddler.ai/2019/08/should-you-explain-your-predictions-with-shap-or-ig/\n",
        "# https://captum.ai/docs/extension/integrated_gradients\n",
        "# https://captum.ai/tutorials/IMDB_TorchText_Interpret\n",
        "\n",
        "# https://github.com/ankurtaly/Integrated-Gradients"
      ],
      "execution_count": null,
      "outputs": []
    },
    {
      "cell_type": "code",
      "metadata": {
        "id": "kgqhoNkWymmx"
      },
      "source": [
        "# Imports\n",
        "\n",
        "from transformers import BertTokenizer, BertForQuestionAnswering, BertConfig\n",
        "\n",
        "from captum.attr import visualization as viz\n",
        "from captum.attr import IntegratedGradients, LayerConductance, LayerIntegratedGradients\n",
        "from captum.attr import configure_interpretable_embedding_layer, remove_interpretable_embedding_layer"
      ],
      "execution_count": 25,
      "outputs": []
    },
    {
      "cell_type": "code",
      "metadata": {
        "id": "WG2D2Ra0fv8T"
      },
      "source": [
        "# Load model\n",
        "\n",
        "model = load_model(args.model, args.ngpus, load_path)\n",
        "model.to(device)\n",
        "\n",
        "model.eval()\n",
        "model.zero_grad()\n",
        "\n",
        "tokenizer = AutoTokenizer.from_pretrained(args.model)"
      ],
      "execution_count": null,
      "outputs": []
    },
    {
      "cell_type": "code",
      "metadata": {
        "colab": {
          "base_uri": "https://localhost:8080/",
          "height": 171
        },
        "id": "xAtLDQVD4vBP",
        "outputId": "6a58a39c-632c-429a-909f-469ca52d22c9"
      },
      "source": [
        "lig = LayerIntegratedGradients(model)"
      ],
      "execution_count": 45,
      "outputs": [
        {
          "output_type": "error",
          "ename": "TypeError",
          "evalue": "ignored",
          "traceback": [
            "\u001b[0;31m---------------------------------------------------------------------------\u001b[0m",
            "\u001b[0;31mTypeError\u001b[0m                                 Traceback (most recent call last)",
            "\u001b[0;32m<ipython-input-45-5e6e752ed6b1>\u001b[0m in \u001b[0;36m<module>\u001b[0;34m()\u001b[0m\n\u001b[0;32m----> 1\u001b[0;31m \u001b[0mlig\u001b[0m \u001b[0;34m=\u001b[0m \u001b[0mLayerIntegratedGradients\u001b[0m\u001b[0;34m(\u001b[0m\u001b[0mmodel\u001b[0m\u001b[0;34m)\u001b[0m\u001b[0;34m\u001b[0m\u001b[0;34m\u001b[0m\u001b[0m\n\u001b[0m",
            "\u001b[0;31mTypeError\u001b[0m: __init__() missing 1 required positional argument: 'layer'"
          ]
        }
      ]
    }
  ]
}